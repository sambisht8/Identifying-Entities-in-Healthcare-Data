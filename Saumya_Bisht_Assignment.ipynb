{
 "cells": [
  {
   "cell_type": "markdown",
   "metadata": {
    "id": "xwi9mzFPPDv7"
   },
   "source": [
    "# Identifying Entities in Healthcare Data"
   ]
  },
  {
   "cell_type": "markdown",
   "metadata": {
    "id": "3wwzoMzrUDtr"
   },
   "source": [
    "##Workspace set up: Import and Install useful packages."
   ]
  },
  {
   "cell_type": "code",
   "execution_count": 1,
   "metadata": {
    "id": "T4hxafMCE1nn"
   },
   "outputs": [
    {
     "name": "stdout",
     "output_type": "stream",
     "text": [
      "Requirement already satisfied: pycrf in c:\\users\\91999\\anaconda3\\lib\\site-packages (0.0.1)\n",
      "Requirement already satisfied: sklearn-crfsuite in c:\\users\\91999\\anaconda3\\lib\\site-packages (0.3.6)\n",
      "Requirement already satisfied: python-crfsuite>=0.8.3 in c:\\users\\91999\\anaconda3\\lib\\site-packages (from sklearn-crfsuite) (0.9.7)\n",
      "Requirement already satisfied: tabulate in c:\\users\\91999\\anaconda3\\lib\\site-packages (from sklearn-crfsuite) (0.8.9)\n",
      "Requirement already satisfied: six in c:\\users\\91999\\anaconda3\\lib\\site-packages (from sklearn-crfsuite) (1.15.0)\n",
      "Requirement already satisfied: tqdm>=2.0 in c:\\users\\91999\\anaconda3\\lib\\site-packages (from sklearn-crfsuite) (4.50.2)\n"
     ]
    },
    {
     "name": "stderr",
     "output_type": "stream",
     "text": [
      "  ERROR: Command errored out with exit status 1:\n",
      "   command: 'C:\\Users\\91999\\anaconda3\\python.exe' -u -c 'import sys, setuptools, tokenize; sys.argv[0] = '\"'\"'C:\\\\Users\\\\91999\\\\AppData\\\\Local\\\\Temp\\\\pip-install-x1is5hkm\\\\scikit-learn\\\\setup.py'\"'\"'; __file__='\"'\"'C:\\\\Users\\\\91999\\\\AppData\\\\Local\\\\Temp\\\\pip-install-x1is5hkm\\\\scikit-learn\\\\setup.py'\"'\"';f=getattr(tokenize, '\"'\"'open'\"'\"', open)(__file__);code=f.read().replace('\"'\"'\\r\\n'\"'\"', '\"'\"'\\n'\"'\"');f.close();exec(compile(code, __file__, '\"'\"'exec'\"'\"'))' bdist_wheel -d 'C:\\Users\\91999\\AppData\\Local\\Temp\\pip-wheel-_jofc_f4'\n",
      "       cwd: C:\\Users\\91999\\AppData\\Local\\Temp\\pip-install-x1is5hkm\\scikit-learn\\\n",
      "  Complete output (33 lines):\n",
      "  Partial import of sklearn during the build process.\n",
      "  No module named 'numpy.distutils._msvccompiler' in numpy.distutils; trying from distutils\n",
      "  Traceback (most recent call last):\n",
      "    File \"<string>\", line 1, in <module>\n",
      "    File \"C:\\Users\\91999\\AppData\\Local\\Temp\\pip-install-x1is5hkm\\scikit-learn\\setup.py\", line 290, in <module>\n",
      "      setup_package()\n",
      "    File \"C:\\Users\\91999\\AppData\\Local\\Temp\\pip-install-x1is5hkm\\scikit-learn\\setup.py\", line 286, in setup_package\n",
      "      setup(**metadata)\n",
      "    File \"C:\\Users\\91999\\anaconda3\\lib\\site-packages\\numpy\\distutils\\core.py\", line 135, in setup\n",
      "      config = configuration()\n",
      "    File \"C:\\Users\\91999\\AppData\\Local\\Temp\\pip-install-x1is5hkm\\scikit-learn\\setup.py\", line 174, in configuration\n",
      "      config.add_subpackage('sklearn')\n",
      "    File \"C:\\Users\\91999\\anaconda3\\lib\\site-packages\\numpy\\distutils\\misc_util.py\", line 1018, in add_subpackage\n",
      "      config_list = self.get_subpackage(subpackage_name, subpackage_path,\n",
      "    File \"C:\\Users\\91999\\anaconda3\\lib\\site-packages\\numpy\\distutils\\misc_util.py\", line 984, in get_subpackage\n",
      "      config = self._get_configuration_from_setup_py(\n",
      "    File \"C:\\Users\\91999\\anaconda3\\lib\\site-packages\\numpy\\distutils\\misc_util.py\", line 926, in _get_configuration_from_setup_py\n",
      "      config = setup_module.configuration(*args)\n",
      "    File \"sklearn\\setup.py\", line 76, in configuration\n",
      "      maybe_cythonize_extensions(top_path, config)\n",
      "    File \"C:\\Users\\91999\\AppData\\Local\\Temp\\pip-install-x1is5hkm\\scikit-learn\\sklearn\\_build_utils\\__init__.py\", line 42, in maybe_cythonize_extensions\n",
      "      with_openmp = check_openmp_support()\n",
      "    File \"C:\\Users\\91999\\AppData\\Local\\Temp\\pip-install-x1is5hkm\\scikit-learn\\sklearn\\_build_utils\\openmp_helpers.py\", line 83, in check_openmp_support\n",
      "      ccompiler.compile(['test_openmp.c'], output_dir='objects',\n",
      "    File \"C:\\Users\\91999\\anaconda3\\lib\\distutils\\_msvccompiler.py\", line 327, in compile\n",
      "      self.initialize()\n",
      "    File \"C:\\Users\\91999\\anaconda3\\lib\\distutils\\_msvccompiler.py\", line 224, in initialize\n",
      "      vc_env = _get_vc_env(plat_spec)\n",
      "    File \"C:\\Users\\91999\\anaconda3\\lib\\site-packages\\setuptools\\msvc.py\", line 312, in msvc14_get_vc_env\n",
      "      return _msvc14_get_vc_env(plat_spec)\n",
      "    File \"C:\\Users\\91999\\anaconda3\\lib\\site-packages\\setuptools\\msvc.py\", line 266, in _msvc14_get_vc_env\n",
      "      raise distutils.errors.DistutilsPlatformError(\n",
      "  distutils.errors.DistutilsPlatformError: Microsoft Visual C++ 14.0 or greater is required. Get it with \"Microsoft C++ Build Tools\": https://visualstudio.microsoft.com/visual-cpp-build-tools/\n",
      "  ----------------------------------------\n",
      "  ERROR: Failed building wheel for scikit-learn\n",
      "    ERROR: Command errored out with exit status 1:\n",
      "     command: 'C:\\Users\\91999\\anaconda3\\python.exe' -u -c 'import sys, setuptools, tokenize; sys.argv[0] = '\"'\"'C:\\\\Users\\\\91999\\\\AppData\\\\Local\\\\Temp\\\\pip-install-x1is5hkm\\\\scikit-learn\\\\setup.py'\"'\"'; __file__='\"'\"'C:\\\\Users\\\\91999\\\\AppData\\\\Local\\\\Temp\\\\pip-install-x1is5hkm\\\\scikit-learn\\\\setup.py'\"'\"';f=getattr(tokenize, '\"'\"'open'\"'\"', open)(__file__);code=f.read().replace('\"'\"'\\r\\n'\"'\"', '\"'\"'\\n'\"'\"');f.close();exec(compile(code, __file__, '\"'\"'exec'\"'\"'))' install --record 'C:\\Users\\91999\\AppData\\Local\\Temp\\pip-record-wa5rhxuy\\install-record.txt' --single-version-externally-managed --compile --install-headers 'C:\\Users\\91999\\anaconda3\\Include\\scikit-learn'\n",
      "         cwd: C:\\Users\\91999\\AppData\\Local\\Temp\\pip-install-x1is5hkm\\scikit-learn\\\n",
      "    Complete output (33 lines):\n",
      "    Partial import of sklearn during the build process.\n",
      "    No module named 'numpy.distutils._msvccompiler' in numpy.distutils; trying from distutils\n",
      "    Traceback (most recent call last):\n",
      "      File \"<string>\", line 1, in <module>\n",
      "      File \"C:\\Users\\91999\\AppData\\Local\\Temp\\pip-install-x1is5hkm\\scikit-learn\\setup.py\", line 290, in <module>\n",
      "        setup_package()\n",
      "      File \"C:\\Users\\91999\\AppData\\Local\\Temp\\pip-install-x1is5hkm\\scikit-learn\\setup.py\", line 286, in setup_package\n",
      "        setup(**metadata)\n",
      "      File \"C:\\Users\\91999\\anaconda3\\lib\\site-packages\\numpy\\distutils\\core.py\", line 135, in setup\n",
      "        config = configuration()\n",
      "      File \"C:\\Users\\91999\\AppData\\Local\\Temp\\pip-install-x1is5hkm\\scikit-learn\\setup.py\", line 174, in configuration\n",
      "        config.add_subpackage('sklearn')\n",
      "      File \"C:\\Users\\91999\\anaconda3\\lib\\site-packages\\numpy\\distutils\\misc_util.py\", line 1018, in add_subpackage\n",
      "        config_list = self.get_subpackage(subpackage_name, subpackage_path,\n",
      "      File \"C:\\Users\\91999\\anaconda3\\lib\\site-packages\\numpy\\distutils\\misc_util.py\", line 984, in get_subpackage\n",
      "        config = self._get_configuration_from_setup_py(\n",
      "      File \"C:\\Users\\91999\\anaconda3\\lib\\site-packages\\numpy\\distutils\\misc_util.py\", line 926, in _get_configuration_from_setup_py\n",
      "        config = setup_module.configuration(*args)\n",
      "      File \"sklearn\\setup.py\", line 76, in configuration\n",
      "        maybe_cythonize_extensions(top_path, config)\n",
      "      File \"C:\\Users\\91999\\AppData\\Local\\Temp\\pip-install-x1is5hkm\\scikit-learn\\sklearn\\_build_utils\\__init__.py\", line 42, in maybe_cythonize_extensions\n",
      "        with_openmp = check_openmp_support()\n",
      "      File \"C:\\Users\\91999\\AppData\\Local\\Temp\\pip-install-x1is5hkm\\scikit-learn\\sklearn\\_build_utils\\openmp_helpers.py\", line 83, in check_openmp_support\n",
      "        ccompiler.compile(['test_openmp.c'], output_dir='objects',\n",
      "      File \"C:\\Users\\91999\\anaconda3\\lib\\distutils\\_msvccompiler.py\", line 327, in compile\n",
      "        self.initialize()\n",
      "      File \"C:\\Users\\91999\\anaconda3\\lib\\distutils\\_msvccompiler.py\", line 224, in initialize\n",
      "        vc_env = _get_vc_env(plat_spec)\n",
      "      File \"C:\\Users\\91999\\anaconda3\\lib\\site-packages\\setuptools\\msvc.py\", line 312, in msvc14_get_vc_env\n",
      "        return _msvc14_get_vc_env(plat_spec)\n",
      "      File \"C:\\Users\\91999\\anaconda3\\lib\\site-packages\\setuptools\\msvc.py\", line 266, in _msvc14_get_vc_env\n",
      "        raise distutils.errors.DistutilsPlatformError(\n",
      "    distutils.errors.DistutilsPlatformError: Microsoft Visual C++ 14.0 or greater is required. Get it with \"Microsoft C++ Build Tools\": https://visualstudio.microsoft.com/visual-cpp-build-tools/\n",
      "    ----------------------------------------\n",
      "ERROR: Command errored out with exit status 1: 'C:\\Users\\91999\\anaconda3\\python.exe' -u -c 'import sys, setuptools, tokenize; sys.argv[0] = '\"'\"'C:\\\\Users\\\\91999\\\\AppData\\\\Local\\\\Temp\\\\pip-install-x1is5hkm\\\\scikit-learn\\\\setup.py'\"'\"'; __file__='\"'\"'C:\\\\Users\\\\91999\\\\AppData\\\\Local\\\\Temp\\\\pip-install-x1is5hkm\\\\scikit-learn\\\\setup.py'\"'\"';f=getattr(tokenize, '\"'\"'open'\"'\"', open)(__file__);code=f.read().replace('\"'\"'\\r\\n'\"'\"', '\"'\"'\\n'\"'\"');f.close();exec(compile(code, __file__, '\"'\"'exec'\"'\"'))' install --record 'C:\\Users\\91999\\AppData\\Local\\Temp\\pip-record-wa5rhxuy\\install-record.txt' --single-version-externally-managed --compile --install-headers 'C:\\Users\\91999\\anaconda3\\Include\\scikit-learn' Check the logs for full command output.\n"
     ]
    },
    {
     "name": "stdout",
     "output_type": "stream",
     "text": [
      "Collecting scikit-learn==0.21.3\n",
      "  Using cached scikit-learn-0.21.3.tar.gz (12.2 MB)\n",
      "Requirement already satisfied: numpy>=1.11.0 in c:\\users\\91999\\anaconda3\\lib\\site-packages (from scikit-learn==0.21.3) (1.19.2)\n",
      "Requirement already satisfied: scipy>=0.17.0 in c:\\users\\91999\\anaconda3\\lib\\site-packages (from scikit-learn==0.21.3) (1.5.2)\n",
      "Requirement already satisfied: joblib>=0.11 in c:\\users\\91999\\anaconda3\\lib\\site-packages (from scikit-learn==0.21.3) (0.17.0)\n",
      "Building wheels for collected packages: scikit-learn\n",
      "  Building wheel for scikit-learn (setup.py): started\n",
      "  Building wheel for scikit-learn (setup.py): finished with status 'error'\n",
      "  Running setup.py clean for scikit-learn\n",
      "Failed to build scikit-learn\n",
      "Installing collected packages: scikit-learn\n",
      "  Attempting uninstall: scikit-learn\n",
      "    Found existing installation: scikit-learn 0.22\n",
      "    Uninstalling scikit-learn-0.22:\n",
      "      Successfully uninstalled scikit-learn-0.22\n",
      "    Running setup.py install for scikit-learn: started\n",
      "    Running setup.py install for scikit-learn: finished with status 'error'\n",
      "  Rolling back uninstall of scikit-learn\n",
      "  Moving to c:\\users\\91999\\anaconda3\\lib\\site-packages\\scikit_learn-0.22.dist-info\\\n",
      "   from C:\\Users\\91999\\anaconda3\\Lib\\site-packages\\~cikit_learn-0.22.dist-info\n",
      "  Moving to c:\\users\\91999\\anaconda3\\lib\\site-packages\\sklearn\\\n",
      "   from C:\\Users\\91999\\anaconda3\\Lib\\site-packages\\~~learn\n"
     ]
    }
   ],
   "source": [
    "!pip install pycrf\n",
    "!pip install sklearn-crfsuite\n",
    "!pip install scikit-learn==0.21.3\n",
    "\n",
    "import pandas as pd\n",
    "import numpy as np\n",
    "import spacy\n",
    "import sklearn_crfsuite\n",
    "from sklearn_crfsuite import metrics\n",
    "import re\n",
    "\n",
    "model = spacy.load(\"en_core_web_sm\")"
   ]
  },
  {
   "cell_type": "markdown",
   "metadata": {
    "id": "bE9Hwb3AUHwG"
   },
   "source": [
    "##Data Preprocessing\n",
    "\n",
    "The dataset provided is in the form of one word per line. Let's understand the format of data below:\n",
    "- Suppose there are *x* words in a sentence, then there will be *x* continuous lines with one word in each line. \n",
    "- Further, the two sentences are separated by empty lines. The labels for the data follow the same format.\n",
    "\n",
    "**We need to pre-process the data to recover the complete sentences and their labels.**\n"
   ]
  },
  {
   "cell_type": "markdown",
   "metadata": {
    "id": "nBU_BNUuK8tm"
   },
   "source": [
    "### Construct the proper sentences from individual words and print the 5 sentences."
   ]
  },
  {
   "cell_type": "markdown",
   "metadata": {
    "id": "b4OjXEhjhkCW"
   },
   "source": [
    "![image.png](data:image/png;base64,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)\n",
    "\n",
    "![image.png](data:image/png;base64,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)"
   ]
  },
  {
   "cell_type": "code",
   "execution_count": 2,
   "metadata": {
    "id": "bz6czVx9R6WJ"
   },
   "outputs": [],
   "source": [
    "# Importing the Train and Test Set\n",
    "with open('train_sent', 'r') as train_sent_file:\n",
    " train_sentences = train_sent_file.read()\n",
    "\n",
    "with open('train_label', 'r') as train_labels_file:\n",
    "  train_labels = train_labels_file.read()\n",
    "\n",
    "with open('test_sent', 'r') as test_sent_file:\n",
    "  test_sentences = test_sent_file.read()\n",
    "\n",
    "with open('test_label', 'r') as test_labels_file:\n",
    "  test_labels = test_labels_file.read()"
   ]
  },
  {
   "cell_type": "markdown",
   "metadata": {},
   "source": [
    "#### Preprocessing the Sentences for Train and Test set"
   ]
  },
  {
   "cell_type": "code",
   "execution_count": 3,
   "metadata": {},
   "outputs": [],
   "source": [
    "x_train_sent = train_sentences.split('\\n')\n",
    "x2_train_sent = ' '.join(x_train_sent)"
   ]
  },
  {
   "cell_type": "code",
   "execution_count": 4,
   "metadata": {},
   "outputs": [],
   "source": [
    "final_train_sent = re.split(' \\s+', x2_train_sent)\n",
    "final_train_sent.remove(\"\")"
   ]
  },
  {
   "cell_type": "code",
   "execution_count": 5,
   "metadata": {},
   "outputs": [
    {
     "name": "stdout",
     "output_type": "stream",
     "text": [
      "All live births > or = 23 weeks at the University of Vermont in 1995 ( n = 2395 ) were retrospectively analyzed for delivery route , indication for cesarean , gestational age , parity , and practice group ( to reflect risk status )\n",
      "----------------------------------------------------------------------------------------------------\n",
      "The total cesarean rate was 14.4 % ( 344 of 2395 ) , and the primary rate was 11.4 % ( 244 of 2144 )\n",
      "----------------------------------------------------------------------------------------------------\n",
      "Abnormal presentation was the most common indication ( 25.6 % , 88 of 344 )\n",
      "----------------------------------------------------------------------------------------------------\n",
      "The `` corrected '' cesarean rate ( maternal-fetal medicine and transported patients excluded ) was 12.4 % ( 273 of 2194 ) , and the `` corrected '' primary rate was 9.6 % ( 190 of 1975 )\n",
      "----------------------------------------------------------------------------------------------------\n",
      "Arrest of dilation was the most common indication in both `` corrected '' subgroups ( 23.4 and 24.6 % , respectively )\n"
     ]
    }
   ],
   "source": [
    "# Printing 5 sentence in the train set\n",
    "print(final_train_sent[0])\n",
    "print('-' * 100)\n",
    "print(final_train_sent[1])\n",
    "print('-' * 100)\n",
    "print(final_train_sent[2])\n",
    "print('-' * 100)\n",
    "print(final_train_sent[3])\n",
    "print('-' * 100)\n",
    "print(final_train_sent[4])"
   ]
  },
  {
   "cell_type": "code",
   "execution_count": 6,
   "metadata": {},
   "outputs": [],
   "source": [
    "x_test_sent = test_sentences.split('\\n')\n",
    "x2_test_sent = ' '.join(x_test_sent)"
   ]
  },
  {
   "cell_type": "code",
   "execution_count": 7,
   "metadata": {},
   "outputs": [],
   "source": [
    "final_test_sent = re.split(' \\s+', x2_test_sent)\n",
    "final_test_sent.remove(\"\")"
   ]
  },
  {
   "cell_type": "code",
   "execution_count": 8,
   "metadata": {},
   "outputs": [
    {
     "name": "stdout",
     "output_type": "stream",
     "text": [
      "Furthermore , when all deliveries were analyzed , regardless of risk status but limited to gestational age > or = 36 weeks , the rates did not change ( 12.6 % , 280 of 2214 ; primary 9.2 % , 183 of 1994 )\n",
      "----------------------------------------------------------------------------------------------------\n",
      "As the ambient temperature increases , there is an increase in insensible fluid loss and the potential for dehydration\n",
      "----------------------------------------------------------------------------------------------------\n",
      "The daily high temperature ranged from 71 to 104 degrees F and AFI values ranged from 1.7 to 24.7 cm during the study period\n",
      "----------------------------------------------------------------------------------------------------\n",
      "There was a significant correlation between the 2- , 3- , and 4-day mean temperature and AFI , with the 4-day mean being the most significant ( r = 0.31 , p & # 60 ; 0.001 )\n",
      "----------------------------------------------------------------------------------------------------\n",
      "Fluctuations in ambient temperature are inversely correlated to changes in AFI\n"
     ]
    }
   ],
   "source": [
    "# Printing 5 sentence in the test set\n",
    "print(final_test_sent[0])\n",
    "print('-' * 100)\n",
    "print(final_test_sent[1])\n",
    "print('-' * 100)\n",
    "print(final_test_sent[2])\n",
    "print('-' * 100)\n",
    "print(final_test_sent[3])\n",
    "print('-' * 100)\n",
    "print(final_test_sent[4])"
   ]
  },
  {
   "cell_type": "markdown",
   "metadata": {},
   "source": [
    "#### Preprocessing the Labels for Train and Test set"
   ]
  },
  {
   "cell_type": "code",
   "execution_count": 9,
   "metadata": {},
   "outputs": [],
   "source": [
    "x_train_labels = train_labels.split('\\n')\n",
    "x2_train_labels = ' '.join(x_train_labels) "
   ]
  },
  {
   "cell_type": "code",
   "execution_count": 10,
   "metadata": {},
   "outputs": [],
   "source": [
    "final_train_labels = re.split(' \\s+', x2_train_labels)\n",
    "final_train_labels.remove(\"\")"
   ]
  },
  {
   "cell_type": "code",
   "execution_count": 11,
   "metadata": {},
   "outputs": [
    {
     "name": "stdout",
     "output_type": "stream",
     "text": [
      "O O O O O O O O O O O O O O O O O O O O O O O O O O O O O O O O O O O O O O O O O O O O O\n",
      "----------------------------------------------------------------------------------------------------\n",
      "O O O O O O O O O O O O O O O O O O O O O O O O O\n",
      "----------------------------------------------------------------------------------------------------\n",
      "O O O O O O O O O O O O O O O\n",
      "----------------------------------------------------------------------------------------------------\n",
      "O O O O O O O O O O O O O O O O O O O O O O O O O O O O O O O O O O O O O O\n",
      "----------------------------------------------------------------------------------------------------\n",
      "O O O O O O O O O O O O O O O O O O O O O O\n"
     ]
    }
   ],
   "source": [
    "# Printing 5 labels in the train set\n",
    "print(final_train_labels[0])\n",
    "print('-' * 100)\n",
    "print(final_train_labels[1])\n",
    "print('-' * 100)\n",
    "print(final_train_labels[2])\n",
    "print('-' * 100)\n",
    "print(final_train_labels[3])\n",
    "print('-' * 100)\n",
    "print(final_train_labels[4])"
   ]
  },
  {
   "cell_type": "code",
   "execution_count": 12,
   "metadata": {},
   "outputs": [],
   "source": [
    "x_test_labels = test_labels.split('\\n')\n",
    "x2_test_labels = ' '.join(x_test_labels)"
   ]
  },
  {
   "cell_type": "code",
   "execution_count": 13,
   "metadata": {},
   "outputs": [],
   "source": [
    "final_test_labels = re.split(' \\s+', x2_test_labels)\n",
    "final_test_labels.remove(\"\")"
   ]
  },
  {
   "cell_type": "code",
   "execution_count": 14,
   "metadata": {
    "scrolled": true
   },
   "outputs": [
    {
     "name": "stdout",
     "output_type": "stream",
     "text": [
      "O O O O O O O O O O O O O O O O O O O O O O O O O O O O O O O O O O O O O O O O O O O O\n",
      "----------------------------------------------------------------------------------------------------\n",
      "O O O O O O O O O O O O O O O O O O O\n",
      "----------------------------------------------------------------------------------------------------\n",
      "O O O O O O O O O O O O O O O O O O O O O O O O\n",
      "----------------------------------------------------------------------------------------------------\n",
      "O O O O O O O O O O O O O O O O O O O O O O O O O O O O O O O O O O O O O O\n",
      "----------------------------------------------------------------------------------------------------\n",
      "O O O O O O O O O O O\n"
     ]
    }
   ],
   "source": [
    "# Printing 5 labels in the test set\n",
    "print(final_test_labels[0])\n",
    "print('-' * 100)\n",
    "print(final_test_labels[1])\n",
    "print('-' * 100)\n",
    "print(final_test_labels[2])\n",
    "print('-' * 100)\n",
    "print(final_test_labels[3])\n",
    "print('-' * 100)\n",
    "print(final_test_labels[4])"
   ]
  },
  {
   "cell_type": "code",
   "execution_count": 15,
   "metadata": {},
   "outputs": [
    {
     "name": "stdout",
     "output_type": "stream",
     "text": [
      "All patients were managed by an intensified protocol , including stringent glycemic control\n",
      "O O O O O O O O O O O T T\n"
     ]
    }
   ],
   "source": [
    "# Printing a Train sentence with label\n",
    "print(final_train_sent[15])\n",
    "print(final_train_labels[15])"
   ]
  },
  {
   "cell_type": "code",
   "execution_count": 16,
   "metadata": {},
   "outputs": [
    {
     "name": "stdout",
     "output_type": "stream",
     "text": [
      "Sequelae include severe developmental delay and asymmetric double hemiplegia\n",
      "O O O O O O O O D\n"
     ]
    }
   ],
   "source": [
    "# Printing a Test sentence with label\n",
    "print(final_test_sent[20])\n",
    "print(final_test_labels[20])"
   ]
  },
  {
   "cell_type": "markdown",
   "metadata": {
    "id": "urCxIOBTMBwG"
   },
   "source": [
    "### Count the number of sentences in the processed train and test dataset "
   ]
  },
  {
   "cell_type": "code",
   "execution_count": 17,
   "metadata": {},
   "outputs": [
    {
     "data": {
      "text/plain": [
       "2599"
      ]
     },
     "execution_count": 17,
     "metadata": {},
     "output_type": "execute_result"
    }
   ],
   "source": [
    "len(final_train_sent)"
   ]
  },
  {
   "cell_type": "code",
   "execution_count": 18,
   "metadata": {},
   "outputs": [
    {
     "data": {
      "text/plain": [
       "1056"
      ]
     },
     "execution_count": 18,
     "metadata": {},
     "output_type": "execute_result"
    }
   ],
   "source": [
    "len(final_test_sent)"
   ]
  },
  {
   "cell_type": "markdown",
   "metadata": {
    "id": "Jjg2DK7hLcO_"
   },
   "source": [
    "### Count the number of lines of labels in the processed train and test dataset."
   ]
  },
  {
   "cell_type": "code",
   "execution_count": 19,
   "metadata": {
    "id": "unXoD2bWLPZD"
   },
   "outputs": [
    {
     "data": {
      "text/plain": [
       "2599"
      ]
     },
     "execution_count": 19,
     "metadata": {},
     "output_type": "execute_result"
    }
   ],
   "source": [
    "len(final_train_labels)"
   ]
  },
  {
   "cell_type": "code",
   "execution_count": 20,
   "metadata": {},
   "outputs": [
    {
     "data": {
      "text/plain": [
       "1056"
      ]
     },
     "execution_count": 20,
     "metadata": {},
     "output_type": "execute_result"
    }
   ],
   "source": [
    "len(final_test_labels)"
   ]
  },
  {
   "cell_type": "markdown",
   "metadata": {
    "id": "r9Hy2tECbd9a"
   },
   "source": [
    "##Concept Identification\n",
    "\n",
    "We will first explore what are the various concepts present in the dataset. For this, we will use PoS Tagging. \n",
    "\n"
   ]
  },
  {
   "cell_type": "markdown",
   "metadata": {
    "id": "3YGpfOK7Mk3X"
   },
   "source": [
    "### Extract those tokens which have NOUN or PROPN as their PoS tag and find their frequency"
   ]
  },
  {
   "cell_type": "code",
   "execution_count": 21,
   "metadata": {},
   "outputs": [],
   "source": [
    "# Using Spacy model for POS tagging on the train and test dataset\n",
    "review1 = model(x2_train_sent)\n",
    "review2 = model(x2_test_sent)"
   ]
  },
  {
   "cell_type": "code",
   "execution_count": 22,
   "metadata": {
    "id": "7w8nJSPlZqjw"
   },
   "outputs": [],
   "source": [
    "# POS on training\n",
    "pos = []\n",
    "text = []\n",
    "for tok in review1:\n",
    "    pos.append(tok.pos_)\n",
    "    text.append(tok.text)"
   ]
  },
  {
   "cell_type": "code",
   "execution_count": 23,
   "metadata": {},
   "outputs": [],
   "source": [
    "# POS on testing\n",
    "pos2 = []\n",
    "text2 = []\n",
    "for tok in review2:\n",
    "    pos2.append(tok.pos_)\n",
    "    text2.append(tok.text)"
   ]
  },
  {
   "cell_type": "code",
   "execution_count": 24,
   "metadata": {},
   "outputs": [
    {
     "data": {
      "text/html": [
       "<div>\n",
       "<style scoped>\n",
       "    .dataframe tbody tr th:only-of-type {\n",
       "        vertical-align: middle;\n",
       "    }\n",
       "\n",
       "    .dataframe tbody tr th {\n",
       "        vertical-align: top;\n",
       "    }\n",
       "\n",
       "    .dataframe thead th {\n",
       "        text-align: right;\n",
       "    }\n",
       "</style>\n",
       "<table border=\"1\" class=\"dataframe\">\n",
       "  <thead>\n",
       "    <tr style=\"text-align: right;\">\n",
       "      <th></th>\n",
       "      <th>Word</th>\n",
       "      <th>POS</th>\n",
       "    </tr>\n",
       "  </thead>\n",
       "  <tbody>\n",
       "    <tr>\n",
       "      <th>0</th>\n",
       "      <td>All</td>\n",
       "      <td>DET</td>\n",
       "    </tr>\n",
       "    <tr>\n",
       "      <th>1</th>\n",
       "      <td>live</td>\n",
       "      <td>ADJ</td>\n",
       "    </tr>\n",
       "    <tr>\n",
       "      <th>2</th>\n",
       "      <td>births</td>\n",
       "      <td>NOUN</td>\n",
       "    </tr>\n",
       "    <tr>\n",
       "      <th>3</th>\n",
       "      <td>&gt;</td>\n",
       "      <td>X</td>\n",
       "    </tr>\n",
       "    <tr>\n",
       "      <th>4</th>\n",
       "      <td>or</td>\n",
       "      <td>CCONJ</td>\n",
       "    </tr>\n",
       "  </tbody>\n",
       "</table>\n",
       "</div>"
      ],
      "text/plain": [
       "     Word    POS\n",
       "0     All    DET\n",
       "1    live    ADJ\n",
       "2  births   NOUN\n",
       "3       >      X\n",
       "4      or  CCONJ"
      ]
     },
     "execution_count": 24,
     "metadata": {},
     "output_type": "execute_result"
    }
   ],
   "source": [
    "pos_train = pd.DataFrame({'Word':text,'POS':pos})\n",
    "pos_train.head(5)"
   ]
  },
  {
   "cell_type": "code",
   "execution_count": 25,
   "metadata": {},
   "outputs": [
    {
     "data": {
      "text/plain": [
       "(50923, 2)"
      ]
     },
     "execution_count": 25,
     "metadata": {},
     "output_type": "execute_result"
    }
   ],
   "source": [
    "pos_train.shape"
   ]
  },
  {
   "cell_type": "code",
   "execution_count": 26,
   "metadata": {},
   "outputs": [
    {
     "data": {
      "text/html": [
       "<div>\n",
       "<style scoped>\n",
       "    .dataframe tbody tr th:only-of-type {\n",
       "        vertical-align: middle;\n",
       "    }\n",
       "\n",
       "    .dataframe tbody tr th {\n",
       "        vertical-align: top;\n",
       "    }\n",
       "\n",
       "    .dataframe thead th {\n",
       "        text-align: right;\n",
       "    }\n",
       "</style>\n",
       "<table border=\"1\" class=\"dataframe\">\n",
       "  <thead>\n",
       "    <tr style=\"text-align: right;\">\n",
       "      <th></th>\n",
       "      <th>Word</th>\n",
       "      <th>POS</th>\n",
       "    </tr>\n",
       "  </thead>\n",
       "  <tbody>\n",
       "    <tr>\n",
       "      <th>0</th>\n",
       "      <td>Furthermore</td>\n",
       "      <td>ADV</td>\n",
       "    </tr>\n",
       "    <tr>\n",
       "      <th>1</th>\n",
       "      <td>,</td>\n",
       "      <td>PUNCT</td>\n",
       "    </tr>\n",
       "    <tr>\n",
       "      <th>2</th>\n",
       "      <td>when</td>\n",
       "      <td>ADV</td>\n",
       "    </tr>\n",
       "    <tr>\n",
       "      <th>3</th>\n",
       "      <td>all</td>\n",
       "      <td>DET</td>\n",
       "    </tr>\n",
       "    <tr>\n",
       "      <th>4</th>\n",
       "      <td>deliveries</td>\n",
       "      <td>NOUN</td>\n",
       "    </tr>\n",
       "  </tbody>\n",
       "</table>\n",
       "</div>"
      ],
      "text/plain": [
       "          Word    POS\n",
       "0  Furthermore    ADV\n",
       "1            ,  PUNCT\n",
       "2         when    ADV\n",
       "3          all    DET\n",
       "4   deliveries   NOUN"
      ]
     },
     "execution_count": 26,
     "metadata": {},
     "output_type": "execute_result"
    }
   ],
   "source": [
    "pos_test = pd.DataFrame({'Word':text2,'POS':pos2})\n",
    "pos_test.head(5)"
   ]
  },
  {
   "cell_type": "code",
   "execution_count": 27,
   "metadata": {},
   "outputs": [
    {
     "data": {
      "text/plain": [
       "(20639, 2)"
      ]
     },
     "execution_count": 27,
     "metadata": {},
     "output_type": "execute_result"
    }
   ],
   "source": [
    "pos_test.shape"
   ]
  },
  {
   "cell_type": "code",
   "execution_count": 28,
   "metadata": {},
   "outputs": [
    {
     "data": {
      "text/html": [
       "<div>\n",
       "<style scoped>\n",
       "    .dataframe tbody tr th:only-of-type {\n",
       "        vertical-align: middle;\n",
       "    }\n",
       "\n",
       "    .dataframe tbody tr th {\n",
       "        vertical-align: top;\n",
       "    }\n",
       "\n",
       "    .dataframe thead th {\n",
       "        text-align: right;\n",
       "    }\n",
       "</style>\n",
       "<table border=\"1\" class=\"dataframe\">\n",
       "  <thead>\n",
       "    <tr style=\"text-align: right;\">\n",
       "      <th></th>\n",
       "      <th>Word</th>\n",
       "      <th>POS</th>\n",
       "    </tr>\n",
       "  </thead>\n",
       "  <tbody>\n",
       "    <tr>\n",
       "      <th>0</th>\n",
       "      <td>All</td>\n",
       "      <td>DET</td>\n",
       "    </tr>\n",
       "    <tr>\n",
       "      <th>1</th>\n",
       "      <td>live</td>\n",
       "      <td>ADJ</td>\n",
       "    </tr>\n",
       "    <tr>\n",
       "      <th>2</th>\n",
       "      <td>births</td>\n",
       "      <td>NOUN</td>\n",
       "    </tr>\n",
       "    <tr>\n",
       "      <th>3</th>\n",
       "      <td>&gt;</td>\n",
       "      <td>X</td>\n",
       "    </tr>\n",
       "    <tr>\n",
       "      <th>4</th>\n",
       "      <td>or</td>\n",
       "      <td>CCONJ</td>\n",
       "    </tr>\n",
       "  </tbody>\n",
       "</table>\n",
       "</div>"
      ],
      "text/plain": [
       "     Word    POS\n",
       "0     All    DET\n",
       "1    live    ADJ\n",
       "2  births   NOUN\n",
       "3       >      X\n",
       "4      or  CCONJ"
      ]
     },
     "execution_count": 28,
     "metadata": {},
     "output_type": "execute_result"
    }
   ],
   "source": [
    "pos_full = pos_train.append(pos_test)\n",
    "pos_full.head(5)"
   ]
  },
  {
   "cell_type": "code",
   "execution_count": 29,
   "metadata": {},
   "outputs": [
    {
     "data": {
      "text/plain": [
       "(71562, 2)"
      ]
     },
     "execution_count": 29,
     "metadata": {},
     "output_type": "execute_result"
    }
   ],
   "source": [
    "pos_full.shape"
   ]
  },
  {
   "cell_type": "code",
   "execution_count": 30,
   "metadata": {},
   "outputs": [
    {
     "data": {
      "text/html": [
       "<div>\n",
       "<style scoped>\n",
       "    .dataframe tbody tr th:only-of-type {\n",
       "        vertical-align: middle;\n",
       "    }\n",
       "\n",
       "    .dataframe tbody tr th {\n",
       "        vertical-align: top;\n",
       "    }\n",
       "\n",
       "    .dataframe thead th {\n",
       "        text-align: right;\n",
       "    }\n",
       "</style>\n",
       "<table border=\"1\" class=\"dataframe\">\n",
       "  <thead>\n",
       "    <tr style=\"text-align: right;\">\n",
       "      <th></th>\n",
       "      <th>Word</th>\n",
       "      <th>POS</th>\n",
       "    </tr>\n",
       "  </thead>\n",
       "  <tbody>\n",
       "    <tr>\n",
       "      <th>2</th>\n",
       "      <td>births</td>\n",
       "      <td>NOUN</td>\n",
       "    </tr>\n",
       "    <tr>\n",
       "      <th>7</th>\n",
       "      <td>weeks</td>\n",
       "      <td>NOUN</td>\n",
       "    </tr>\n",
       "    <tr>\n",
       "      <th>10</th>\n",
       "      <td>University</td>\n",
       "      <td>PROPN</td>\n",
       "    </tr>\n",
       "    <tr>\n",
       "      <th>12</th>\n",
       "      <td>Vermont</td>\n",
       "      <td>PROPN</td>\n",
       "    </tr>\n",
       "    <tr>\n",
       "      <th>24</th>\n",
       "      <td>delivery</td>\n",
       "      <td>NOUN</td>\n",
       "    </tr>\n",
       "    <tr>\n",
       "      <th>25</th>\n",
       "      <td>route</td>\n",
       "      <td>NOUN</td>\n",
       "    </tr>\n",
       "    <tr>\n",
       "      <th>27</th>\n",
       "      <td>indication</td>\n",
       "      <td>NOUN</td>\n",
       "    </tr>\n",
       "    <tr>\n",
       "      <th>32</th>\n",
       "      <td>age</td>\n",
       "      <td>NOUN</td>\n",
       "    </tr>\n",
       "    <tr>\n",
       "      <th>34</th>\n",
       "      <td>parity</td>\n",
       "      <td>NOUN</td>\n",
       "    </tr>\n",
       "    <tr>\n",
       "      <th>37</th>\n",
       "      <td>practice</td>\n",
       "      <td>NOUN</td>\n",
       "    </tr>\n",
       "  </tbody>\n",
       "</table>\n",
       "</div>"
      ],
      "text/plain": [
       "          Word    POS\n",
       "2       births   NOUN\n",
       "7        weeks   NOUN\n",
       "10  University  PROPN\n",
       "12     Vermont  PROPN\n",
       "24    delivery   NOUN\n",
       "25       route   NOUN\n",
       "27  indication   NOUN\n",
       "32         age   NOUN\n",
       "34      parity   NOUN\n",
       "37    practice   NOUN"
      ]
     },
     "execution_count": 30,
     "metadata": {},
     "output_type": "execute_result"
    }
   ],
   "source": [
    "df = pos_full.loc[pos_full['POS'].isin(['NOUN','PROPN'])]\n",
    "df.head(10)"
   ]
  },
  {
   "cell_type": "code",
   "execution_count": 31,
   "metadata": {},
   "outputs": [
    {
     "data": {
      "text/plain": [
       "(24356, 2)"
      ]
     },
     "execution_count": 31,
     "metadata": {},
     "output_type": "execute_result"
    }
   ],
   "source": [
    "df.shape"
   ]
  },
  {
   "cell_type": "code",
   "execution_count": 32,
   "metadata": {},
   "outputs": [
    {
     "name": "stdout",
     "output_type": "stream",
     "text": [
      "NOUN     20096\n",
      "PROPN     4260\n",
      "Name: POS, dtype: int64\n",
      "Total number of Noun and Proper Noun :  24356\n"
     ]
    }
   ],
   "source": [
    "# Frequency of Noun and Proper Noun POS tags in the entire dataset\n",
    "print(df['POS'].value_counts())\n",
    "print('Total number of Noun and Proper Noun : ' , len(df['POS']))"
   ]
  },
  {
   "cell_type": "markdown",
   "metadata": {
    "id": "-SQG8wRxMo6A"
   },
   "source": [
    "### Print the top 25 most common tokens with NOUN or PROPN PoS tags"
   ]
  },
  {
   "cell_type": "code",
   "execution_count": 33,
   "metadata": {
    "id": "DhDY4jjoawTa"
   },
   "outputs": [
    {
     "data": {
      "text/plain": [
       "Word          POS  \n",
       "patients      NOUN     492\n",
       "treatment     NOUN     281\n",
       "%             NOUN     246\n",
       "cancer        NOUN     200\n",
       "therapy       NOUN     174\n",
       "study         NOUN     146\n",
       "cell          NOUN     140\n",
       "disease       NOUN     139\n",
       "lung          NOUN     116\n",
       "group         NOUN      91\n",
       "chemotherapy  NOUN      88\n",
       "gene          NOUN      88\n",
       "effects       NOUN      85\n",
       "results       NOUN      79\n",
       "women         NOUN      77\n",
       "TO_SEE        PROPN     75\n",
       "use           NOUN      73\n",
       "cases         NOUN      71\n",
       "risk          NOUN      71\n",
       "surgery       NOUN      70\n",
       "analysis      NOUN      70\n",
       "rate          NOUN      67\n",
       "survival      NOUN      65\n",
       "response      NOUN      64\n",
       "children      NOUN      64\n",
       "dtype: int64"
      ]
     },
     "execution_count": 33,
     "metadata": {},
     "output_type": "execute_result"
    }
   ],
   "source": [
    "# 25 most common token with Noun or PROPN tags in the entire data set\n",
    "df.value_counts().head(25)"
   ]
  },
  {
   "cell_type": "code",
   "execution_count": 34,
   "metadata": {},
   "outputs": [],
   "source": [
    "POS_dict = df.value_counts().to_dict()"
   ]
  },
  {
   "cell_type": "markdown",
   "metadata": {
    "id": "bnfAlKgA5fd4"
   },
   "source": [
    "## Defining features for CRF\n",
    "\n",
    "\n",
    "\n"
   ]
  },
  {
   "cell_type": "code",
   "execution_count": 35,
   "metadata": {
    "id": "aS6P1Gog3JMf"
   },
   "outputs": [],
   "source": [
    "# Let's define the features to get the feature value for one word.\n",
    "def getFeaturesForOneWord(sentence, pos):\n",
    "  word = sentence[pos]\n",
    "  for tok in model(word):\n",
    "    word_pos_tag=tok.pos_\n",
    "  features = [\n",
    "    'word.postag=' + word_pos_tag,  # POS tag of the word\n",
    "    'word.lower=' + word.lower(), # serves as word id\n",
    "    'word[-3:]=' + word[-3:],     # last three characters\n",
    "    'word[-2:]=' + word[-2:],     # last two characters\n",
    "    'word.isupper=%s' % word.isupper(),  # is the word in all uppercase\n",
    "    'word.isdigit=%s' % word.isdigit(),  # is the word a number\n",
    "    'words.startsWithCapital=%s' % word[0].isupper(),  # is the word starting with a capital letter\n",
    "    'word.istitle=%s' % word.istitle()  # is the word title\n",
    "  ]\n",
    "\n",
    "  if(pos > 0):\n",
    "    prev_word = sentence[pos-1]\n",
    "    for token in (prev_word):\n",
    "      prev_word_pos_tag=tok.pos_\n",
    "    features.extend([\n",
    "    'prev_word.postag=' + prev_word_pos_tag,\n",
    "    'prev_word.lower=' + prev_word.lower(), \n",
    "    'prev_word.isupper=%s' % prev_word.isupper(),\n",
    "    'prev_word.isdigit=%s' % prev_word.isdigit(),\n",
    "    'prev_words.startsWithCapital=%s' % prev_word[0].isupper(),\n",
    "    'prev_word.istitle=%s' % prev_word.istitle()\n",
    "  ])\n",
    "  else:\n",
    "    features.append('BEG') # feature to track begin of sentence \n",
    "  if(pos == len(sentence)-1):\n",
    "    features.append('END') # feature to track end of sentence\n",
    "  return features"
   ]
  },
  {
   "cell_type": "markdown",
   "metadata": {
    "id": "haBEOsZGKhb9"
   },
   "source": [
    "## Getting the features"
   ]
  },
  {
   "cell_type": "markdown",
   "metadata": {
    "id": "Fwb8YUdlNcG1"
   },
   "source": [
    "### Write a code/function to get the features for a sentence"
   ]
  },
  {
   "cell_type": "code",
   "execution_count": 36,
   "metadata": {
    "id": "emBIm5uK7vtK"
   },
   "outputs": [],
   "source": [
    "# Write a code to get features for a sentence.\n",
    "def getFeaturesForOneSentence(sentence):\n",
    "  sentence_list = sentence.split()\n",
    "  return [getFeaturesForOneWord(sentence_list, pos) for pos in range(len(sentence_list))]"
   ]
  },
  {
   "cell_type": "markdown",
   "metadata": {
    "id": "A7fs-B8CNein"
   },
   "source": [
    "### Write a code/function to get the labels of a sentence"
   ]
  },
  {
   "cell_type": "code",
   "execution_count": 37,
   "metadata": {
    "id": "tiA-A_ws8I8-"
   },
   "outputs": [],
   "source": [
    "# Write a code to get the labels for a sentence.\n",
    "def getLabelsInListForOneSentence(labels):\n",
    "  return labels.split()"
   ]
  },
  {
   "cell_type": "markdown",
   "metadata": {
    "id": "QG6hYY6rNjS8"
   },
   "source": [
    "## Define input and target variables\n"
   ]
  },
  {
   "cell_type": "markdown",
   "metadata": {
    "id": "DZmjKbXgN44o"
   },
   "source": [
    "Correctly computing X and Y sequence matrices for training and test data.\n",
    "Check that both sentences and labels are processed"
   ]
  },
  {
   "cell_type": "code",
   "execution_count": 38,
   "metadata": {},
   "outputs": [
    {
     "name": "stdout",
     "output_type": "stream",
     "text": [
      "Cesarean rates at tertiary care hospitals should be compared with rates at community hospitals only after correcting for dissimilar patient groups or gestational age\n"
     ]
    },
    {
     "data": {
      "text/plain": [
       "['word.postag=NOUN',\n",
       " 'word.lower=hospitals',\n",
       " 'word[-3:]=als',\n",
       " 'word[-2:]=ls',\n",
       " 'word.isupper=False',\n",
       " 'word.isdigit=False',\n",
       " 'words.startsWithCapital=False',\n",
       " 'word.istitle=False',\n",
       " 'prev_word.postag=NOUN',\n",
       " 'prev_word.lower=care',\n",
       " 'prev_word.isupper=False',\n",
       " 'prev_word.isdigit=False',\n",
       " 'prev_words.startsWithCapital=False',\n",
       " 'prev_word.istitle=False']"
      ]
     },
     "execution_count": 38,
     "metadata": {},
     "output_type": "execute_result"
    }
   ],
   "source": [
    "example_sentence = final_train_sent[5]\n",
    "print(example_sentence)\n",
    "\n",
    "features = getFeaturesForOneSentence(example_sentence)\n",
    "features[5]"
   ]
  },
  {
   "cell_type": "markdown",
   "metadata": {
    "id": "U1C4djFXNpqN"
   },
   "source": [
    "### Define the features' values for each sentence as input variable  for CRF model in test and the train dataset "
   ]
  },
  {
   "cell_type": "code",
   "execution_count": 39,
   "metadata": {
    "id": "8Nuz-MjW8LWm"
   },
   "outputs": [],
   "source": [
    "X_train = [getFeaturesForOneSentence(sentence) for sentence in final_train_sent]\n",
    "X_test = [getFeaturesForOneSentence(sentence) for sentence in final_test_sent]"
   ]
  },
  {
   "cell_type": "markdown",
   "metadata": {
    "id": "q88-s6BQNr0M"
   },
   "source": [
    "### Define the labels as the target variable for test and the train dataset"
   ]
  },
  {
   "cell_type": "code",
   "execution_count": 40,
   "metadata": {
    "id": "HrzLkWs0Nvx4"
   },
   "outputs": [],
   "source": [
    "Y_train = [getLabelsInListForOneSentence(labels) for labels in final_train_labels]\n",
    "Y_test = [getLabelsInListForOneSentence(labels) for labels in final_test_labels]"
   ]
  },
  {
   "cell_type": "markdown",
   "metadata": {
    "id": "YrIAz8gqN_Js"
   },
   "source": [
    "## Build the CRF Model"
   ]
  },
  {
   "cell_type": "code",
   "execution_count": 41,
   "metadata": {
    "id": "k2oGSiqQ8Otd"
   },
   "outputs": [
    {
     "name": "stderr",
     "output_type": "stream",
     "text": [
      "C:\\Users\\91999\\anaconda3\\lib\\site-packages\\sklearn\\base.py:193: FutureWarning: From version 0.24, get_params will raise an AttributeError if a parameter cannot be retrieved as an instance attribute. Previously it would return None.\n",
      "  warnings.warn('From version 0.24, get_params will raise an '\n"
     ]
    },
    {
     "data": {
      "text/plain": [
       "CRF(algorithm=None, all_possible_states=None, all_possible_transitions=None,\n",
       "    averaging=None, c=None, c1=None, c2=None, calibration_candidates=None,\n",
       "    calibration_eta=None, calibration_max_trials=None, calibration_rate=None,\n",
       "    calibration_samples=None, delta=None, epsilon=None, error_sensitive=None,\n",
       "    gamma=None, keep_tempfiles=None, linesearch=None, max_iterations=100,\n",
       "    max_linesearch=None, min_freq=None, model_filename=None, num_memories=None,\n",
       "    pa_type=None, period=None, trainer_cls=None, variance=None, verbose=False)"
      ]
     },
     "execution_count": 41,
     "metadata": {},
     "output_type": "execute_result"
    }
   ],
   "source": [
    "# Build the CRF model.\n",
    "crf = sklearn_crfsuite.CRF(max_iterations=100)\n",
    "crf.fit(X_train, Y_train)"
   ]
  },
  {
   "cell_type": "markdown",
   "metadata": {
    "id": "5VPFrPZJOJMq"
   },
   "source": [
    "## Evaluation"
   ]
  },
  {
   "cell_type": "markdown",
   "metadata": {
    "id": "84gUagMZOP9B"
   },
   "source": [
    "### Predict the labels of each of the tokens in each sentence of the test dataset that has been pre processed earlier."
   ]
  },
  {
   "cell_type": "code",
   "execution_count": 42,
   "metadata": {
    "id": "D_sDJs1n8-sI"
   },
   "outputs": [],
   "source": [
    "Y_pred = crf.predict(X_test)"
   ]
  },
  {
   "cell_type": "markdown",
   "metadata": {
    "id": "qIneYrqZOUiJ"
   },
   "source": [
    "### Calculate the f1 score using the actual labels and the predicted labels of the test dataset."
   ]
  },
  {
   "cell_type": "code",
   "execution_count": 43,
   "metadata": {
    "id": "Lr_JNIgrOTcr"
   },
   "outputs": [
    {
     "data": {
      "text/plain": [
       "0.91"
      ]
     },
     "execution_count": 43,
     "metadata": {},
     "output_type": "execute_result"
    }
   ],
   "source": [
    "round(metrics.flat_f1_score(Y_test, Y_pred, average='weighted'), 2)"
   ]
  },
  {
   "cell_type": "code",
   "execution_count": 44,
   "metadata": {},
   "outputs": [
    {
     "name": "stdout",
     "output_type": "stream",
     "text": [
      "Sentence: INTERPRETATION : Antichlamydial antibiotics may be useful in therapeutic intervention in addition to standard medication in patients with coronary-artery disease\n",
      "Orig Labels: ['O', 'O', 'T', 'T', 'O', 'O', 'O', 'O', 'O', 'O', 'O', 'O', 'O', 'O', 'O', 'O', 'O', 'O', 'D', 'D']\n",
      "Pred Labels: ['O', 'O', 'T', 'T', 'O', 'O', 'O', 'O', 'O', 'O', 'O', 'O', 'O', 'O', 'O', 'O', 'O', 'O', 'D', 'D']\n"
     ]
    }
   ],
   "source": [
    "id = 73\n",
    "print(\"Sentence:\",final_test_sent[id])\n",
    "print(\"Orig Labels:\", Y_test[id])\n",
    "print(\"Pred Labels:\", Y_pred[id])"
   ]
  },
  {
   "cell_type": "markdown",
   "metadata": {
    "id": "ORDyDw6sYHf5"
   },
   "source": [
    "##Identifying Diseases and Treatments using Custom NER\n",
    "\n",
    "We now use the CRF model's prediction to prepare a record of diseases identified in the corpus and treatments used for the diseases.\n",
    "\n"
   ]
  },
  {
   "cell_type": "markdown",
   "metadata": {
    "id": "V9aOa7LEOcWu"
   },
   "source": [
    "### Create the logic to get all the predicted treatments (T) labels corresponding to each disease (D) label in the test dataset."
   ]
  },
  {
   "cell_type": "markdown",
   "metadata": {
    "id": "sWxZ2TaOqN-u"
   },
   "source": [
    "![image.png](data:image/png;base64,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)"
   ]
  },
  {
   "cell_type": "code",
   "execution_count": 45,
   "metadata": {},
   "outputs": [],
   "source": [
    "testsentence_df = pd.DataFrame(final_test_sent, columns = ['Sentence'])\n",
    "predlabels_df = pd.DataFrame(list(zip(Y_pred)),columns =['Predicted_Labels'])"
   ]
  },
  {
   "cell_type": "code",
   "execution_count": 46,
   "metadata": {},
   "outputs": [
    {
     "data": {
      "text/html": [
       "<div>\n",
       "<style scoped>\n",
       "    .dataframe tbody tr th:only-of-type {\n",
       "        vertical-align: middle;\n",
       "    }\n",
       "\n",
       "    .dataframe tbody tr th {\n",
       "        vertical-align: top;\n",
       "    }\n",
       "\n",
       "    .dataframe thead th {\n",
       "        text-align: right;\n",
       "    }\n",
       "</style>\n",
       "<table border=\"1\" class=\"dataframe\">\n",
       "  <thead>\n",
       "    <tr style=\"text-align: right;\">\n",
       "      <th></th>\n",
       "      <th>Sentence</th>\n",
       "      <th>Predicted_Labels</th>\n",
       "    </tr>\n",
       "  </thead>\n",
       "  <tbody>\n",
       "    <tr>\n",
       "      <th>0</th>\n",
       "      <td>Furthermore , when all deliveries were analyze...</td>\n",
       "      <td>[O, O, O, O, O, O, O, O, O, O, O, O, O, O, O, ...</td>\n",
       "    </tr>\n",
       "    <tr>\n",
       "      <th>1</th>\n",
       "      <td>As the ambient temperature increases , there i...</td>\n",
       "      <td>[O, O, O, O, O, O, O, O, O, O, O, O, O, O, O, ...</td>\n",
       "    </tr>\n",
       "    <tr>\n",
       "      <th>2</th>\n",
       "      <td>The daily high temperature ranged from 71 to 1...</td>\n",
       "      <td>[O, O, O, O, O, O, O, O, O, O, O, O, O, O, O, ...</td>\n",
       "    </tr>\n",
       "    <tr>\n",
       "      <th>3</th>\n",
       "      <td>There was a significant correlation between th...</td>\n",
       "      <td>[O, O, O, O, O, O, O, O, O, O, O, O, O, O, O, ...</td>\n",
       "    </tr>\n",
       "    <tr>\n",
       "      <th>4</th>\n",
       "      <td>Fluctuations in ambient temperature are invers...</td>\n",
       "      <td>[O, O, O, O, O, O, O, O, O, O, O]</td>\n",
       "    </tr>\n",
       "    <tr>\n",
       "      <th>...</th>\n",
       "      <td>...</td>\n",
       "      <td>...</td>\n",
       "    </tr>\n",
       "    <tr>\n",
       "      <th>1051</th>\n",
       "      <td>Reduction of vasoreactivity and thrombogenicit...</td>\n",
       "      <td>[O, O, O, O, O, O, T, T, O, O, O, T, T]</td>\n",
       "    </tr>\n",
       "    <tr>\n",
       "      <th>1052</th>\n",
       "      <td>Effects of ultrasound energy on total peripher...</td>\n",
       "      <td>[O, O, O, O, O, O, O, O, O, O, O, O, O, O, O, O]</td>\n",
       "    </tr>\n",
       "    <tr>\n",
       "      <th>1053</th>\n",
       "      <td>High-dose chemotherapy with autologous stem-ce...</td>\n",
       "      <td>[T, T, O, O, O, O, O, D, D, D]</td>\n",
       "    </tr>\n",
       "    <tr>\n",
       "      <th>1054</th>\n",
       "      <td>`` Tandem '' high-dose chemoradiotherapy with ...</td>\n",
       "      <td>[T, T, T, T, T, O, O, O, O, O, O, O, O, O, O, ...</td>\n",
       "    </tr>\n",
       "    <tr>\n",
       "      <th>1055</th>\n",
       "      <td>Intravenous immune globulin for recurrent spon...</td>\n",
       "      <td>[O, O, O, O, O, O, O]</td>\n",
       "    </tr>\n",
       "  </tbody>\n",
       "</table>\n",
       "<p>1056 rows × 2 columns</p>\n",
       "</div>"
      ],
      "text/plain": [
       "                                               Sentence  \\\n",
       "0     Furthermore , when all deliveries were analyze...   \n",
       "1     As the ambient temperature increases , there i...   \n",
       "2     The daily high temperature ranged from 71 to 1...   \n",
       "3     There was a significant correlation between th...   \n",
       "4     Fluctuations in ambient temperature are invers...   \n",
       "...                                                 ...   \n",
       "1051  Reduction of vasoreactivity and thrombogenicit...   \n",
       "1052  Effects of ultrasound energy on total peripher...   \n",
       "1053  High-dose chemotherapy with autologous stem-ce...   \n",
       "1054  `` Tandem '' high-dose chemoradiotherapy with ...   \n",
       "1055  Intravenous immune globulin for recurrent spon...   \n",
       "\n",
       "                                       Predicted_Labels  \n",
       "0     [O, O, O, O, O, O, O, O, O, O, O, O, O, O, O, ...  \n",
       "1     [O, O, O, O, O, O, O, O, O, O, O, O, O, O, O, ...  \n",
       "2     [O, O, O, O, O, O, O, O, O, O, O, O, O, O, O, ...  \n",
       "3     [O, O, O, O, O, O, O, O, O, O, O, O, O, O, O, ...  \n",
       "4                     [O, O, O, O, O, O, O, O, O, O, O]  \n",
       "...                                                 ...  \n",
       "1051            [O, O, O, O, O, O, T, T, O, O, O, T, T]  \n",
       "1052   [O, O, O, O, O, O, O, O, O, O, O, O, O, O, O, O]  \n",
       "1053                     [T, T, O, O, O, O, O, D, D, D]  \n",
       "1054  [T, T, T, T, T, O, O, O, O, O, O, O, O, O, O, ...  \n",
       "1055                              [O, O, O, O, O, O, O]  \n",
       "\n",
       "[1056 rows x 2 columns]"
      ]
     },
     "execution_count": 46,
     "metadata": {},
     "output_type": "execute_result"
    }
   ],
   "source": [
    "test_full = pd.concat([testsentence_df, predlabels_df], axis = 1)\n",
    "test_full"
   ]
  },
  {
   "cell_type": "code",
   "execution_count": 47,
   "metadata": {},
   "outputs": [
    {
     "data": {
      "text/html": [
       "<div>\n",
       "<style scoped>\n",
       "    .dataframe tbody tr th:only-of-type {\n",
       "        vertical-align: middle;\n",
       "    }\n",
       "\n",
       "    .dataframe tbody tr th {\n",
       "        vertical-align: top;\n",
       "    }\n",
       "\n",
       "    .dataframe thead th {\n",
       "        text-align: right;\n",
       "    }\n",
       "</style>\n",
       "<table border=\"1\" class=\"dataframe\">\n",
       "  <thead>\n",
       "    <tr style=\"text-align: right;\">\n",
       "      <th></th>\n",
       "      <th>Sentence</th>\n",
       "      <th>Predicted_Labels</th>\n",
       "      <th>liststring</th>\n",
       "    </tr>\n",
       "  </thead>\n",
       "  <tbody>\n",
       "    <tr>\n",
       "      <th>0</th>\n",
       "      <td>Furthermore , when all deliveries were analyze...</td>\n",
       "      <td>[O, O, O, O, O, O, O, O, O, O, O, O, O, O, O, ...</td>\n",
       "      <td>O O O O O O O O O O O O O O O O O O O O O O O ...</td>\n",
       "    </tr>\n",
       "    <tr>\n",
       "      <th>1</th>\n",
       "      <td>As the ambient temperature increases , there i...</td>\n",
       "      <td>[O, O, O, O, O, O, O, O, O, O, O, O, O, O, O, ...</td>\n",
       "      <td>O O O O O O O O O O O O O O O O O O O</td>\n",
       "    </tr>\n",
       "    <tr>\n",
       "      <th>2</th>\n",
       "      <td>The daily high temperature ranged from 71 to 1...</td>\n",
       "      <td>[O, O, O, O, O, O, O, O, O, O, O, O, O, O, O, ...</td>\n",
       "      <td>O O O O O O O O O O O O O O O O O O O O O O O O</td>\n",
       "    </tr>\n",
       "    <tr>\n",
       "      <th>3</th>\n",
       "      <td>There was a significant correlation between th...</td>\n",
       "      <td>[O, O, O, O, O, O, O, O, O, O, O, O, O, O, O, ...</td>\n",
       "      <td>O O O O O O O O O O O O O O O O O O O O O O O ...</td>\n",
       "    </tr>\n",
       "    <tr>\n",
       "      <th>4</th>\n",
       "      <td>Fluctuations in ambient temperature are invers...</td>\n",
       "      <td>[O, O, O, O, O, O, O, O, O, O, O]</td>\n",
       "      <td>O O O O O O O O O O O</td>\n",
       "    </tr>\n",
       "    <tr>\n",
       "      <th>...</th>\n",
       "      <td>...</td>\n",
       "      <td>...</td>\n",
       "      <td>...</td>\n",
       "    </tr>\n",
       "    <tr>\n",
       "      <th>1051</th>\n",
       "      <td>Reduction of vasoreactivity and thrombogenicit...</td>\n",
       "      <td>[O, O, O, O, O, O, T, T, O, O, O, T, T]</td>\n",
       "      <td>O O O O O O T T O O O T T</td>\n",
       "    </tr>\n",
       "    <tr>\n",
       "      <th>1052</th>\n",
       "      <td>Effects of ultrasound energy on total peripher...</td>\n",
       "      <td>[O, O, O, O, O, O, O, O, O, O, O, O, O, O, O, O]</td>\n",
       "      <td>O O O O O O O O O O O O O O O O</td>\n",
       "    </tr>\n",
       "    <tr>\n",
       "      <th>1053</th>\n",
       "      <td>High-dose chemotherapy with autologous stem-ce...</td>\n",
       "      <td>[T, T, O, O, O, O, O, D, D, D]</td>\n",
       "      <td>T T O O O O O D D D</td>\n",
       "    </tr>\n",
       "    <tr>\n",
       "      <th>1054</th>\n",
       "      <td>`` Tandem '' high-dose chemoradiotherapy with ...</td>\n",
       "      <td>[T, T, T, T, T, O, O, O, O, O, O, O, O, O, O, ...</td>\n",
       "      <td>T T T T T O O O O O O O O O O O D D D</td>\n",
       "    </tr>\n",
       "    <tr>\n",
       "      <th>1055</th>\n",
       "      <td>Intravenous immune globulin for recurrent spon...</td>\n",
       "      <td>[O, O, O, O, O, O, O]</td>\n",
       "      <td>O O O O O O O</td>\n",
       "    </tr>\n",
       "  </tbody>\n",
       "</table>\n",
       "<p>1056 rows × 3 columns</p>\n",
       "</div>"
      ],
      "text/plain": [
       "                                               Sentence  \\\n",
       "0     Furthermore , when all deliveries were analyze...   \n",
       "1     As the ambient temperature increases , there i...   \n",
       "2     The daily high temperature ranged from 71 to 1...   \n",
       "3     There was a significant correlation between th...   \n",
       "4     Fluctuations in ambient temperature are invers...   \n",
       "...                                                 ...   \n",
       "1051  Reduction of vasoreactivity and thrombogenicit...   \n",
       "1052  Effects of ultrasound energy on total peripher...   \n",
       "1053  High-dose chemotherapy with autologous stem-ce...   \n",
       "1054  `` Tandem '' high-dose chemoradiotherapy with ...   \n",
       "1055  Intravenous immune globulin for recurrent spon...   \n",
       "\n",
       "                                       Predicted_Labels  \\\n",
       "0     [O, O, O, O, O, O, O, O, O, O, O, O, O, O, O, ...   \n",
       "1     [O, O, O, O, O, O, O, O, O, O, O, O, O, O, O, ...   \n",
       "2     [O, O, O, O, O, O, O, O, O, O, O, O, O, O, O, ...   \n",
       "3     [O, O, O, O, O, O, O, O, O, O, O, O, O, O, O, ...   \n",
       "4                     [O, O, O, O, O, O, O, O, O, O, O]   \n",
       "...                                                 ...   \n",
       "1051            [O, O, O, O, O, O, T, T, O, O, O, T, T]   \n",
       "1052   [O, O, O, O, O, O, O, O, O, O, O, O, O, O, O, O]   \n",
       "1053                     [T, T, O, O, O, O, O, D, D, D]   \n",
       "1054  [T, T, T, T, T, O, O, O, O, O, O, O, O, O, O, ...   \n",
       "1055                              [O, O, O, O, O, O, O]   \n",
       "\n",
       "                                             liststring  \n",
       "0     O O O O O O O O O O O O O O O O O O O O O O O ...  \n",
       "1                 O O O O O O O O O O O O O O O O O O O  \n",
       "2       O O O O O O O O O O O O O O O O O O O O O O O O  \n",
       "3     O O O O O O O O O O O O O O O O O O O O O O O ...  \n",
       "4                                 O O O O O O O O O O O  \n",
       "...                                                 ...  \n",
       "1051                          O O O O O O T T O O O T T  \n",
       "1052                    O O O O O O O O O O O O O O O O  \n",
       "1053                                T T O O O O O D D D  \n",
       "1054              T T T T T O O O O O O O O O O O D D D  \n",
       "1055                                      O O O O O O O  \n",
       "\n",
       "[1056 rows x 3 columns]"
      ]
     },
     "execution_count": 47,
     "metadata": {},
     "output_type": "execute_result"
    }
   ],
   "source": [
    "test_full['liststring'] = test_full.Predicted_Labels.apply(lambda x: ' '.join([str(i) for i in x]))\n",
    "test_full"
   ]
  },
  {
   "cell_type": "code",
   "execution_count": 48,
   "metadata": {},
   "outputs": [],
   "source": [
    "subs = 'T'\n",
    "res = [i for i in test_full['liststring'] if subs in i]"
   ]
  },
  {
   "cell_type": "code",
   "execution_count": 49,
   "metadata": {},
   "outputs": [],
   "source": [
    "subs = 'D'\n",
    "res2 = [i for i in res if subs in i]"
   ]
  },
  {
   "cell_type": "code",
   "execution_count": 50,
   "metadata": {},
   "outputs": [],
   "source": [
    "matches = res2"
   ]
  },
  {
   "cell_type": "code",
   "execution_count": 51,
   "metadata": {},
   "outputs": [
    {
     "data": {
      "text/plain": [
       "['O O O O O O O O O O O O O O O O O D D O O O O O T',\n",
       " 'O O O O O T O O O O O O O O O O O O O O O O O O O O O D D D D D D',\n",
       " 'O O T T O O O O O O O O O O O O O O D D',\n",
       " 'O O O O O T T O O O O O O O O O O O O O O O O O O O O O O O O O O O O O O O O O O O O O D O O O O O O O O O O O O O O O O O O O O O O O O O O O O O O O O O O O O O O O O O O O T T T O O O O O O O O O O O O O O O O',\n",
       " 'O O T T O O O O O O O D D O O O',\n",
       " 'T T O O O O O O O O O O D D D D',\n",
       " 'O O O O O O O O O O O O O O O O O T T O D D D D',\n",
       " 'O O O O O O O O O O O O O T O O O O O O D D D',\n",
       " 'O O O O O O O O O D D D D D O O O O T T T T T T T T O O O',\n",
       " 'O O O O O O O O O O O O O O O O O O O T T T T O D O O O',\n",
       " 'O O T T O O O O O O O D D D O O O O O O O T T',\n",
       " 'O O O O O O D D D O O O O T T T T T T',\n",
       " 'O O O T O O O O O O O O O O D D D O O O O O O O',\n",
       " 'O O O O O O O T T T T T T T O O O T T T T T T T T T O O O O O O O D D',\n",
       " 'T T O D D O O O O O O O',\n",
       " 'T T T O D D',\n",
       " 'O O T O D D D',\n",
       " 'T T T O O O D D D O O O O O O',\n",
       " 'O O O T T T O D D',\n",
       " 'T O D D D',\n",
       " 'O O T T O O O O D D D',\n",
       " 'O O O T T T T O O O O O O D D D',\n",
       " 'T T T O D D O',\n",
       " 'T O O D',\n",
       " 'O O O O O O O O O O O O O O O O T O O D D D D D D D D',\n",
       " 'O O O O O O O O O D D D D D D D O O O T T T T T',\n",
       " 'O O O O T T T O O O O O O O O O O O O O O O O O O O D D',\n",
       " 'O O O T T O O O O O D D D',\n",
       " 'O O O O O O O O O O T T T T O O O O O O D D D D',\n",
       " 'O O O O O O O O O O O O O O O O D O O T T T O O O O D D D D D O O O O O O O O O D O O O O O O T T T',\n",
       " 'O O O O T T O O O O D O O O O O O O O O O O O O O O O O O O O O O O O O O',\n",
       " 'O O O O O D D D D D D D D O O O O O O O O T T T T',\n",
       " 'O O O O O O O T T T O D D',\n",
       " 'O O T T T O O O O O O O O D D D D D D O O O O O O O',\n",
       " 'O O O O O T T O O O D D D D D',\n",
       " 'O O O O O O O O T O O O O O O O O O O O O O O O O O O O O O O D D D',\n",
       " 'O O O O O O O O O O O T T O O O O O O D D D O O O',\n",
       " 'O O O O O T T T T T T T T T T T O O O O O O O O O O O O O O O O O O O O O O O O O O O O O O O D D D D D D D O O O',\n",
       " 'O O O O O O O D D D D D O O T O O O O O O O O O O',\n",
       " 'O O O O O O O O O O O O O O O O D D D D O O O O O O O T T T',\n",
       " 'O O O D D O O O O O O O O O O T T T T T O O O O O O T T',\n",
       " 'O O T T O O O O O D D D D O O O O O O O O O',\n",
       " 'O O O D D O O O D O O O O O D D D D O O O O O O O O O O T T O O',\n",
       " 'O O O O O O T T T O O O O O O D D',\n",
       " 'O O D D D O O O O O O T T O O O O O',\n",
       " 'O O O O O O O O O O O O O O O O O O O O O O O O O O D D T T T T T T T T T T T T',\n",
       " 'O O O D D D O T T O O O O O O O O O O O O',\n",
       " 'O O O T O O O O O O D D D O O O O O O O O O O O O O O O O O',\n",
       " 'O O O O O O O T O O O D D D D D D O D D D D D D',\n",
       " 'O O O O T O O O O O O O O O O O O O O O O O O O O O D D D',\n",
       " 'O O O O O O O O O O O O D D D D O T T T T T O O O O O D D D D D O O O O',\n",
       " 'O O O O O O D D D O O T O O O O O O O O D O O O O O O D D D O O O O O O O O',\n",
       " 'T O O O O O O O O O O O O O D D D',\n",
       " 'O O O O O O O O T T T T O O O O D D D D O O O',\n",
       " 'T T O O O O O O O O O O O O O O D D D',\n",
       " 'O D D O O O O O T O O O O',\n",
       " 'O O O O O D D O O O O O O O O T T T',\n",
       " 'O O O O O O O O T T T T O O O D',\n",
       " 'O O O O O O O O O O T T T T T T O O O O O T T T T T T O O O O O O D D D',\n",
       " 'O O O O O T T T T T T T T T T O O O O O O O O O O O O O O O D O O O O O O T T T T T O O O O O O O O O O O O O O O O O O O O O O O O O O D D',\n",
       " 'O O O O O O O O O O O O O O O O O O D D D D D D D D O O O O O O O O O O O O O O O O O O O O O T O O O D D',\n",
       " 'O O O O O O O O O O O O O O O O O O O O O O O O O O O D O T T',\n",
       " 'O O O O O O O O O O O O O D D D D O T T O O O O O O O O O O T T O O O O O O O O O O O O O O D',\n",
       " 'O O O D D D O O O O O O T T T T T T T T T T T T T T O O O O O O O O O O O O O O O O O O O O O O O O O O',\n",
       " 'O O O D D D D D D D D O O O T T T T T T T T T T T T O O O O O O O O O O O O',\n",
       " 'T T T O D D O O O O O O O O O O O O O O O O',\n",
       " 'O O O O O O O O O O O O O T T O O O O O O O O O O O D',\n",
       " 'T T O O O O D D D',\n",
       " 'O O O O O O O O O O O O O O O O O O T T T O O O O O O O O O O D',\n",
       " 'T O O O T T O D D O',\n",
       " 'O O T T T O O O O O O O O O O O D D D',\n",
       " 'O O T T O O O O O O D D D D D',\n",
       " 'O O O O O O O O O O O O O O O O O O O O O O T O O O O O O O O O O D',\n",
       " 'O O O O D O O O O O O T T T T T T T T T',\n",
       " 'D D T T T T T O O O O O O O O D D',\n",
       " 'T T O O O T T T O O O O O D',\n",
       " 'T T T T T T T T T T O O O O O O O O O O O D D D O O O O O O',\n",
       " 'O O O O O O O O O O O O O D D D O O O O O O O O O O T T O O',\n",
       " 'O O O O O D D O O O O T T T',\n",
       " 'O O O O O O O O O O O O O O O T T O O O D D D D D D',\n",
       " 'T T O O O O O O O D D D',\n",
       " 'O O O O O O O O O O O O O O O O O O O O O O O O D D O O O O O O O T T T O O O O O O',\n",
       " 'T O O O O O O O O O O O O O O O O O O O O D D O O O O O O O O O O',\n",
       " 'O O O O O O O O O O O O O O O T T O O O D D D D D D D O O O O O O O O O O O O O O O O O O O O O O O D D',\n",
       " 'O O O O O O O O O O O O O O O D D D O O O O O O T T T O O O O O O O O O O O O O O O O',\n",
       " 'T T T T T T O O O O O O O O O O D D',\n",
       " 'O O O O O O O O O T T O O O O O O O D T O O O O O O O O O O',\n",
       " 'O O O T T O D D O O O T T O O O O O O O O O O O O O O O',\n",
       " 'O O T O O O O O D',\n",
       " 'O T T T O D D O T T O O O O O O O',\n",
       " 'O O T T T T O O O O O O O O T T T T T O O O O O O O O O O O O O O O O D D D D',\n",
       " 'O O O T T O D D D O O O O O O O D O O O O O',\n",
       " 'O O O O O T T O O O O O O O O O O O D D D D',\n",
       " 'O O O O O O O O O O O O O O O O O O O O O O T T T T O O O O O O O D D',\n",
       " 'O O O O O O O O D D O O O O O O O O O O O T T T T T T T T T T',\n",
       " 'T T T T T O D D',\n",
       " 'O O T T T T T T T O O O O O O D D O O O O O O O O O',\n",
       " 'O O T T T T T T T O O D D D O O',\n",
       " 'O O O O O O O O O O O O O O O O O T T O O O O O O D D',\n",
       " 'O O T T O O O O O O O O O D D D',\n",
       " 'T T O D D D O O O O O O O O',\n",
       " 'T T T O D',\n",
       " 'T T O D D D',\n",
       " 'T T O D D D',\n",
       " 'O O O O T T O D D',\n",
       " 'T T O D D',\n",
       " 'O O O D D D O T',\n",
       " 'O O O O D D D O O O O O T O O O',\n",
       " 'O O O T T O O O O O O D D D D D O O O O O O O O',\n",
       " 'T T T O D D',\n",
       " 'T T T O D D',\n",
       " 'T T O D D O O O O',\n",
       " 'T T T O O O D D',\n",
       " 'T T T O D D D D O O O',\n",
       " 'O O O O O O O O O O O O O D D T T T T',\n",
       " 'O O O T T O D D D',\n",
       " 'O O O O O O O O O O O D D O O O O T T',\n",
       " 'T T O D D D',\n",
       " 'T T T T T O O O D D D D D',\n",
       " 'T O O O O O O O O D D D O O O O O O O',\n",
       " 'T T O O O O O D D D',\n",
       " 'T T T T T O O O O O O O O O O O D D D']"
      ]
     },
     "execution_count": 51,
     "metadata": {},
     "output_type": "execute_result"
    }
   ],
   "source": [
    "matches"
   ]
  },
  {
   "cell_type": "code",
   "execution_count": 52,
   "metadata": {},
   "outputs": [],
   "source": [
    "test_full['new_col'] = (test_full['liststring']\n",
    "                .str.findall(f\"({'|'.join(matches)})\")\n",
    "                .str.join(', ')\n",
    "                 .replace('', np.nan))"
   ]
  },
  {
   "cell_type": "code",
   "execution_count": 53,
   "metadata": {},
   "outputs": [
    {
     "data": {
      "text/html": [
       "<div>\n",
       "<style scoped>\n",
       "    .dataframe tbody tr th:only-of-type {\n",
       "        vertical-align: middle;\n",
       "    }\n",
       "\n",
       "    .dataframe tbody tr th {\n",
       "        vertical-align: top;\n",
       "    }\n",
       "\n",
       "    .dataframe thead th {\n",
       "        text-align: right;\n",
       "    }\n",
       "</style>\n",
       "<table border=\"1\" class=\"dataframe\">\n",
       "  <thead>\n",
       "    <tr style=\"text-align: right;\">\n",
       "      <th></th>\n",
       "      <th>Sentence</th>\n",
       "      <th>Predicted_Labels</th>\n",
       "      <th>liststring</th>\n",
       "      <th>new_col</th>\n",
       "    </tr>\n",
       "  </thead>\n",
       "  <tbody>\n",
       "    <tr>\n",
       "      <th>0</th>\n",
       "      <td>Furthermore , when all deliveries were analyze...</td>\n",
       "      <td>[O, O, O, O, O, O, O, O, O, O, O, O, O, O, O, ...</td>\n",
       "      <td>O O O O O O O O O O O O O O O O O O O O O O O ...</td>\n",
       "      <td>NaN</td>\n",
       "    </tr>\n",
       "    <tr>\n",
       "      <th>1</th>\n",
       "      <td>As the ambient temperature increases , there i...</td>\n",
       "      <td>[O, O, O, O, O, O, O, O, O, O, O, O, O, O, O, ...</td>\n",
       "      <td>O O O O O O O O O O O O O O O O O O O</td>\n",
       "      <td>NaN</td>\n",
       "    </tr>\n",
       "    <tr>\n",
       "      <th>2</th>\n",
       "      <td>The daily high temperature ranged from 71 to 1...</td>\n",
       "      <td>[O, O, O, O, O, O, O, O, O, O, O, O, O, O, O, ...</td>\n",
       "      <td>O O O O O O O O O O O O O O O O O O O O O O O O</td>\n",
       "      <td>NaN</td>\n",
       "    </tr>\n",
       "    <tr>\n",
       "      <th>3</th>\n",
       "      <td>There was a significant correlation between th...</td>\n",
       "      <td>[O, O, O, O, O, O, O, O, O, O, O, O, O, O, O, ...</td>\n",
       "      <td>O O O O O O O O O O O O O O O O O O O O O O O ...</td>\n",
       "      <td>NaN</td>\n",
       "    </tr>\n",
       "    <tr>\n",
       "      <th>4</th>\n",
       "      <td>Fluctuations in ambient temperature are invers...</td>\n",
       "      <td>[O, O, O, O, O, O, O, O, O, O, O]</td>\n",
       "      <td>O O O O O O O O O O O</td>\n",
       "      <td>NaN</td>\n",
       "    </tr>\n",
       "    <tr>\n",
       "      <th>...</th>\n",
       "      <td>...</td>\n",
       "      <td>...</td>\n",
       "      <td>...</td>\n",
       "      <td>...</td>\n",
       "    </tr>\n",
       "    <tr>\n",
       "      <th>1051</th>\n",
       "      <td>Reduction of vasoreactivity and thrombogenicit...</td>\n",
       "      <td>[O, O, O, O, O, O, T, T, O, O, O, T, T]</td>\n",
       "      <td>O O O O O O T T O O O T T</td>\n",
       "      <td>NaN</td>\n",
       "    </tr>\n",
       "    <tr>\n",
       "      <th>1052</th>\n",
       "      <td>Effects of ultrasound energy on total peripher...</td>\n",
       "      <td>[O, O, O, O, O, O, O, O, O, O, O, O, O, O, O, O]</td>\n",
       "      <td>O O O O O O O O O O O O O O O O</td>\n",
       "      <td>NaN</td>\n",
       "    </tr>\n",
       "    <tr>\n",
       "      <th>1053</th>\n",
       "      <td>High-dose chemotherapy with autologous stem-ce...</td>\n",
       "      <td>[T, T, O, O, O, O, O, D, D, D]</td>\n",
       "      <td>T T O O O O O D D D</td>\n",
       "      <td>T T O O O O O D D D</td>\n",
       "    </tr>\n",
       "    <tr>\n",
       "      <th>1054</th>\n",
       "      <td>`` Tandem '' high-dose chemoradiotherapy with ...</td>\n",
       "      <td>[T, T, T, T, T, O, O, O, O, O, O, O, O, O, O, ...</td>\n",
       "      <td>T T T T T O O O O O O O O O O O D D D</td>\n",
       "      <td>T T T T T O O O O O O O O O O O D D D</td>\n",
       "    </tr>\n",
       "    <tr>\n",
       "      <th>1055</th>\n",
       "      <td>Intravenous immune globulin for recurrent spon...</td>\n",
       "      <td>[O, O, O, O, O, O, O]</td>\n",
       "      <td>O O O O O O O</td>\n",
       "      <td>NaN</td>\n",
       "    </tr>\n",
       "  </tbody>\n",
       "</table>\n",
       "<p>1056 rows × 4 columns</p>\n",
       "</div>"
      ],
      "text/plain": [
       "                                               Sentence  \\\n",
       "0     Furthermore , when all deliveries were analyze...   \n",
       "1     As the ambient temperature increases , there i...   \n",
       "2     The daily high temperature ranged from 71 to 1...   \n",
       "3     There was a significant correlation between th...   \n",
       "4     Fluctuations in ambient temperature are invers...   \n",
       "...                                                 ...   \n",
       "1051  Reduction of vasoreactivity and thrombogenicit...   \n",
       "1052  Effects of ultrasound energy on total peripher...   \n",
       "1053  High-dose chemotherapy with autologous stem-ce...   \n",
       "1054  `` Tandem '' high-dose chemoradiotherapy with ...   \n",
       "1055  Intravenous immune globulin for recurrent spon...   \n",
       "\n",
       "                                       Predicted_Labels  \\\n",
       "0     [O, O, O, O, O, O, O, O, O, O, O, O, O, O, O, ...   \n",
       "1     [O, O, O, O, O, O, O, O, O, O, O, O, O, O, O, ...   \n",
       "2     [O, O, O, O, O, O, O, O, O, O, O, O, O, O, O, ...   \n",
       "3     [O, O, O, O, O, O, O, O, O, O, O, O, O, O, O, ...   \n",
       "4                     [O, O, O, O, O, O, O, O, O, O, O]   \n",
       "...                                                 ...   \n",
       "1051            [O, O, O, O, O, O, T, T, O, O, O, T, T]   \n",
       "1052   [O, O, O, O, O, O, O, O, O, O, O, O, O, O, O, O]   \n",
       "1053                     [T, T, O, O, O, O, O, D, D, D]   \n",
       "1054  [T, T, T, T, T, O, O, O, O, O, O, O, O, O, O, ...   \n",
       "1055                              [O, O, O, O, O, O, O]   \n",
       "\n",
       "                                             liststring  \\\n",
       "0     O O O O O O O O O O O O O O O O O O O O O O O ...   \n",
       "1                 O O O O O O O O O O O O O O O O O O O   \n",
       "2       O O O O O O O O O O O O O O O O O O O O O O O O   \n",
       "3     O O O O O O O O O O O O O O O O O O O O O O O ...   \n",
       "4                                 O O O O O O O O O O O   \n",
       "...                                                 ...   \n",
       "1051                          O O O O O O T T O O O T T   \n",
       "1052                    O O O O O O O O O O O O O O O O   \n",
       "1053                                T T O O O O O D D D   \n",
       "1054              T T T T T O O O O O O O O O O O D D D   \n",
       "1055                                      O O O O O O O   \n",
       "\n",
       "                                    new_col  \n",
       "0                                       NaN  \n",
       "1                                       NaN  \n",
       "2                                       NaN  \n",
       "3                                       NaN  \n",
       "4                                       NaN  \n",
       "...                                     ...  \n",
       "1051                                    NaN  \n",
       "1052                                    NaN  \n",
       "1053                    T T O O O O O D D D  \n",
       "1054  T T T T T O O O O O O O O O O O D D D  \n",
       "1055                                    NaN  \n",
       "\n",
       "[1056 rows x 4 columns]"
      ]
     },
     "execution_count": 53,
     "metadata": {},
     "output_type": "execute_result"
    }
   ],
   "source": [
    "test_full"
   ]
  },
  {
   "cell_type": "code",
   "execution_count": 54,
   "metadata": {},
   "outputs": [],
   "source": [
    "test_full_final = test_full[pd.notnull(test_full['new_col'])]"
   ]
  },
  {
   "cell_type": "code",
   "execution_count": 55,
   "metadata": {},
   "outputs": [
    {
     "data": {
      "text/html": [
       "<div>\n",
       "<style scoped>\n",
       "    .dataframe tbody tr th:only-of-type {\n",
       "        vertical-align: middle;\n",
       "    }\n",
       "\n",
       "    .dataframe tbody tr th {\n",
       "        vertical-align: top;\n",
       "    }\n",
       "\n",
       "    .dataframe thead th {\n",
       "        text-align: right;\n",
       "    }\n",
       "</style>\n",
       "<table border=\"1\" class=\"dataframe\">\n",
       "  <thead>\n",
       "    <tr style=\"text-align: right;\">\n",
       "      <th></th>\n",
       "      <th>Sentence</th>\n",
       "      <th>Predicted_Labels</th>\n",
       "      <th>liststring</th>\n",
       "      <th>new_col</th>\n",
       "    </tr>\n",
       "  </thead>\n",
       "  <tbody>\n",
       "    <tr>\n",
       "      <th>46</th>\n",
       "      <td>&lt; TO_SEE &gt; CONTEXT : There is a substantial ri...</td>\n",
       "      <td>[O, O, O, O, O, O, O, O, O, O, O, O, O, O, O, ...</td>\n",
       "      <td>O O O O O O O O O O O O O O O O O D D O O O O O T</td>\n",
       "      <td>O O O O O O O O O O O O O O O O O D D O O O O O T</td>\n",
       "    </tr>\n",
       "    <tr>\n",
       "      <th>71</th>\n",
       "      <td>METHODS : The effect of roxithromycin was asse...</td>\n",
       "      <td>[O, O, O, O, O, T, O, O, O, O, O, O, O, O, O, ...</td>\n",
       "      <td>O O O O O T O O O O O O O O O O O O O O O O O ...</td>\n",
       "      <td>O O O O O T O O O O O O O O O O O O O O O O O ...</td>\n",
       "    </tr>\n",
       "    <tr>\n",
       "      <th>73</th>\n",
       "      <td>INTERPRETATION : Antichlamydial antibiotics ma...</td>\n",
       "      <td>[O, O, T, T, O, O, O, O, O, O, O, O, O, O, O, ...</td>\n",
       "      <td>O O T T O O O O O O O O O O O O O O D D</td>\n",
       "      <td>O O T T O O O O O O O O O O O O O O D D</td>\n",
       "    </tr>\n",
       "    <tr>\n",
       "      <th>155</th>\n",
       "      <td>&lt; TO_SEE &gt; FINDINGS : G-CSF therapy was associ...</td>\n",
       "      <td>[O, O, O, O, O, T, T, O, O, O, O, O, O, O, O, ...</td>\n",
       "      <td>O O O O O T T O O O O O O O O O O O O O O O O ...</td>\n",
       "      <td>O O O O O T T O O O O O O O O O O O O O O O O ...</td>\n",
       "    </tr>\n",
       "    <tr>\n",
       "      <th>157</th>\n",
       "      <td>INTERPRETATION : G-CSF treatment was associate...</td>\n",
       "      <td>[O, O, T, T, O, O, O, O, O, O, O, D, D, O, O, O]</td>\n",
       "      <td>O O T T O O O O O O O D D O O O</td>\n",
       "      <td>O O T T O O O O O O O D D O O O</td>\n",
       "    </tr>\n",
       "    <tr>\n",
       "      <th>...</th>\n",
       "      <td>...</td>\n",
       "      <td>...</td>\n",
       "      <td>...</td>\n",
       "      <td>...</td>\n",
       "    </tr>\n",
       "    <tr>\n",
       "      <th>1039</th>\n",
       "      <td>Surgical management of severe secondary perito...</td>\n",
       "      <td>[T, T, O, D, D, D]</td>\n",
       "      <td>T T O D D D</td>\n",
       "      <td>T T O D D D</td>\n",
       "    </tr>\n",
       "    <tr>\n",
       "      <th>1042</th>\n",
       "      <td>Hepatic arterial infusion of chemotherapy afte...</td>\n",
       "      <td>[T, T, T, T, T, O, O, O, D, D, D, D, D]</td>\n",
       "      <td>T T T T T O O O D D D D D</td>\n",
       "      <td>T T T T T O O O D D D D D</td>\n",
       "    </tr>\n",
       "    <tr>\n",
       "      <th>1050</th>\n",
       "      <td>Epoetin : a pharmacoeconomic review of its use...</td>\n",
       "      <td>[T, O, O, O, O, O, O, O, O, D, D, D, O, O, O, ...</td>\n",
       "      <td>T O O O O O O O O D D D O O O O O O O</td>\n",
       "      <td>T O O O O O O O O D D D O O O O O O O</td>\n",
       "    </tr>\n",
       "    <tr>\n",
       "      <th>1053</th>\n",
       "      <td>High-dose chemotherapy with autologous stem-ce...</td>\n",
       "      <td>[T, T, O, O, O, O, O, D, D, D]</td>\n",
       "      <td>T T O O O O O D D D</td>\n",
       "      <td>T T O O O O O D D D</td>\n",
       "    </tr>\n",
       "    <tr>\n",
       "      <th>1054</th>\n",
       "      <td>`` Tandem '' high-dose chemoradiotherapy with ...</td>\n",
       "      <td>[T, T, T, T, T, O, O, O, O, O, O, O, O, O, O, ...</td>\n",
       "      <td>T T T T T O O O O O O O O O O O D D D</td>\n",
       "      <td>T T T T T O O O O O O O O O O O D D D</td>\n",
       "    </tr>\n",
       "  </tbody>\n",
       "</table>\n",
       "<p>122 rows × 4 columns</p>\n",
       "</div>"
      ],
      "text/plain": [
       "                                               Sentence  \\\n",
       "46    < TO_SEE > CONTEXT : There is a substantial ri...   \n",
       "71    METHODS : The effect of roxithromycin was asse...   \n",
       "73    INTERPRETATION : Antichlamydial antibiotics ma...   \n",
       "155   < TO_SEE > FINDINGS : G-CSF therapy was associ...   \n",
       "157   INTERPRETATION : G-CSF treatment was associate...   \n",
       "...                                                 ...   \n",
       "1039  Surgical management of severe secondary perito...   \n",
       "1042  Hepatic arterial infusion of chemotherapy afte...   \n",
       "1050  Epoetin : a pharmacoeconomic review of its use...   \n",
       "1053  High-dose chemotherapy with autologous stem-ce...   \n",
       "1054  `` Tandem '' high-dose chemoradiotherapy with ...   \n",
       "\n",
       "                                       Predicted_Labels  \\\n",
       "46    [O, O, O, O, O, O, O, O, O, O, O, O, O, O, O, ...   \n",
       "71    [O, O, O, O, O, T, O, O, O, O, O, O, O, O, O, ...   \n",
       "73    [O, O, T, T, O, O, O, O, O, O, O, O, O, O, O, ...   \n",
       "155   [O, O, O, O, O, T, T, O, O, O, O, O, O, O, O, ...   \n",
       "157    [O, O, T, T, O, O, O, O, O, O, O, D, D, O, O, O]   \n",
       "...                                                 ...   \n",
       "1039                                 [T, T, O, D, D, D]   \n",
       "1042            [T, T, T, T, T, O, O, O, D, D, D, D, D]   \n",
       "1050  [T, O, O, O, O, O, O, O, O, D, D, D, O, O, O, ...   \n",
       "1053                     [T, T, O, O, O, O, O, D, D, D]   \n",
       "1054  [T, T, T, T, T, O, O, O, O, O, O, O, O, O, O, ...   \n",
       "\n",
       "                                             liststring  \\\n",
       "46    O O O O O O O O O O O O O O O O O D D O O O O O T   \n",
       "71    O O O O O T O O O O O O O O O O O O O O O O O ...   \n",
       "73              O O T T O O O O O O O O O O O O O O D D   \n",
       "155   O O O O O T T O O O O O O O O O O O O O O O O ...   \n",
       "157                     O O T T O O O O O O O D D O O O   \n",
       "...                                                 ...   \n",
       "1039                                        T T O D D D   \n",
       "1042                          T T T T T O O O D D D D D   \n",
       "1050              T O O O O O O O O D D D O O O O O O O   \n",
       "1053                                T T O O O O O D D D   \n",
       "1054              T T T T T O O O O O O O O O O O D D D   \n",
       "\n",
       "                                                new_col  \n",
       "46    O O O O O O O O O O O O O O O O O D D O O O O O T  \n",
       "71    O O O O O T O O O O O O O O O O O O O O O O O ...  \n",
       "73              O O T T O O O O O O O O O O O O O O D D  \n",
       "155   O O O O O T T O O O O O O O O O O O O O O O O ...  \n",
       "157                     O O T T O O O O O O O D D O O O  \n",
       "...                                                 ...  \n",
       "1039                                        T T O D D D  \n",
       "1042                          T T T T T O O O D D D D D  \n",
       "1050              T O O O O O O O O D D D O O O O O O O  \n",
       "1053                                T T O O O O O D D D  \n",
       "1054              T T T T T O O O O O O O O O O O D D D  \n",
       "\n",
       "[122 rows x 4 columns]"
      ]
     },
     "execution_count": 55,
     "metadata": {},
     "output_type": "execute_result"
    }
   ],
   "source": [
    "test_full_final"
   ]
  },
  {
   "cell_type": "code",
   "execution_count": 56,
   "metadata": {},
   "outputs": [],
   "source": [
    "test_full_final2 = test_full_final.drop(['new_col'], axis=1)"
   ]
  },
  {
   "cell_type": "code",
   "execution_count": 57,
   "metadata": {},
   "outputs": [
    {
     "data": {
      "text/html": [
       "<div>\n",
       "<style scoped>\n",
       "    .dataframe tbody tr th:only-of-type {\n",
       "        vertical-align: middle;\n",
       "    }\n",
       "\n",
       "    .dataframe tbody tr th {\n",
       "        vertical-align: top;\n",
       "    }\n",
       "\n",
       "    .dataframe thead th {\n",
       "        text-align: right;\n",
       "    }\n",
       "</style>\n",
       "<table border=\"1\" class=\"dataframe\">\n",
       "  <thead>\n",
       "    <tr style=\"text-align: right;\">\n",
       "      <th></th>\n",
       "      <th>Sentence</th>\n",
       "      <th>Predicted_Labels</th>\n",
       "      <th>liststring</th>\n",
       "    </tr>\n",
       "  </thead>\n",
       "  <tbody>\n",
       "    <tr>\n",
       "      <th>46</th>\n",
       "      <td>&lt; TO_SEE &gt; CONTEXT : There is a substantial ri...</td>\n",
       "      <td>[O, O, O, O, O, O, O, O, O, O, O, O, O, O, O, ...</td>\n",
       "      <td>O O O O O O O O O O O O O O O O O D D O O O O O T</td>\n",
       "    </tr>\n",
       "    <tr>\n",
       "      <th>71</th>\n",
       "      <td>METHODS : The effect of roxithromycin was asse...</td>\n",
       "      <td>[O, O, O, O, O, T, O, O, O, O, O, O, O, O, O, ...</td>\n",
       "      <td>O O O O O T O O O O O O O O O O O O O O O O O ...</td>\n",
       "    </tr>\n",
       "    <tr>\n",
       "      <th>73</th>\n",
       "      <td>INTERPRETATION : Antichlamydial antibiotics ma...</td>\n",
       "      <td>[O, O, T, T, O, O, O, O, O, O, O, O, O, O, O, ...</td>\n",
       "      <td>O O T T O O O O O O O O O O O O O O D D</td>\n",
       "    </tr>\n",
       "    <tr>\n",
       "      <th>155</th>\n",
       "      <td>&lt; TO_SEE &gt; FINDINGS : G-CSF therapy was associ...</td>\n",
       "      <td>[O, O, O, O, O, T, T, O, O, O, O, O, O, O, O, ...</td>\n",
       "      <td>O O O O O T T O O O O O O O O O O O O O O O O ...</td>\n",
       "    </tr>\n",
       "    <tr>\n",
       "      <th>157</th>\n",
       "      <td>INTERPRETATION : G-CSF treatment was associate...</td>\n",
       "      <td>[O, O, T, T, O, O, O, O, O, O, O, D, D, O, O, O]</td>\n",
       "      <td>O O T T O O O O O O O D D O O O</td>\n",
       "    </tr>\n",
       "    <tr>\n",
       "      <th>...</th>\n",
       "      <td>...</td>\n",
       "      <td>...</td>\n",
       "      <td>...</td>\n",
       "    </tr>\n",
       "    <tr>\n",
       "      <th>1039</th>\n",
       "      <td>Surgical management of severe secondary perito...</td>\n",
       "      <td>[T, T, O, D, D, D]</td>\n",
       "      <td>T T O D D D</td>\n",
       "    </tr>\n",
       "    <tr>\n",
       "      <th>1042</th>\n",
       "      <td>Hepatic arterial infusion of chemotherapy afte...</td>\n",
       "      <td>[T, T, T, T, T, O, O, O, D, D, D, D, D]</td>\n",
       "      <td>T T T T T O O O D D D D D</td>\n",
       "    </tr>\n",
       "    <tr>\n",
       "      <th>1050</th>\n",
       "      <td>Epoetin : a pharmacoeconomic review of its use...</td>\n",
       "      <td>[T, O, O, O, O, O, O, O, O, D, D, D, O, O, O, ...</td>\n",
       "      <td>T O O O O O O O O D D D O O O O O O O</td>\n",
       "    </tr>\n",
       "    <tr>\n",
       "      <th>1053</th>\n",
       "      <td>High-dose chemotherapy with autologous stem-ce...</td>\n",
       "      <td>[T, T, O, O, O, O, O, D, D, D]</td>\n",
       "      <td>T T O O O O O D D D</td>\n",
       "    </tr>\n",
       "    <tr>\n",
       "      <th>1054</th>\n",
       "      <td>`` Tandem '' high-dose chemoradiotherapy with ...</td>\n",
       "      <td>[T, T, T, T, T, O, O, O, O, O, O, O, O, O, O, ...</td>\n",
       "      <td>T T T T T O O O O O O O O O O O D D D</td>\n",
       "    </tr>\n",
       "  </tbody>\n",
       "</table>\n",
       "<p>122 rows × 3 columns</p>\n",
       "</div>"
      ],
      "text/plain": [
       "                                               Sentence  \\\n",
       "46    < TO_SEE > CONTEXT : There is a substantial ri...   \n",
       "71    METHODS : The effect of roxithromycin was asse...   \n",
       "73    INTERPRETATION : Antichlamydial antibiotics ma...   \n",
       "155   < TO_SEE > FINDINGS : G-CSF therapy was associ...   \n",
       "157   INTERPRETATION : G-CSF treatment was associate...   \n",
       "...                                                 ...   \n",
       "1039  Surgical management of severe secondary perito...   \n",
       "1042  Hepatic arterial infusion of chemotherapy afte...   \n",
       "1050  Epoetin : a pharmacoeconomic review of its use...   \n",
       "1053  High-dose chemotherapy with autologous stem-ce...   \n",
       "1054  `` Tandem '' high-dose chemoradiotherapy with ...   \n",
       "\n",
       "                                       Predicted_Labels  \\\n",
       "46    [O, O, O, O, O, O, O, O, O, O, O, O, O, O, O, ...   \n",
       "71    [O, O, O, O, O, T, O, O, O, O, O, O, O, O, O, ...   \n",
       "73    [O, O, T, T, O, O, O, O, O, O, O, O, O, O, O, ...   \n",
       "155   [O, O, O, O, O, T, T, O, O, O, O, O, O, O, O, ...   \n",
       "157    [O, O, T, T, O, O, O, O, O, O, O, D, D, O, O, O]   \n",
       "...                                                 ...   \n",
       "1039                                 [T, T, O, D, D, D]   \n",
       "1042            [T, T, T, T, T, O, O, O, D, D, D, D, D]   \n",
       "1050  [T, O, O, O, O, O, O, O, O, D, D, D, O, O, O, ...   \n",
       "1053                     [T, T, O, O, O, O, O, D, D, D]   \n",
       "1054  [T, T, T, T, T, O, O, O, O, O, O, O, O, O, O, ...   \n",
       "\n",
       "                                             liststring  \n",
       "46    O O O O O O O O O O O O O O O O O D D O O O O O T  \n",
       "71    O O O O O T O O O O O O O O O O O O O O O O O ...  \n",
       "73              O O T T O O O O O O O O O O O O O O D D  \n",
       "155   O O O O O T T O O O O O O O O O O O O O O O O ...  \n",
       "157                     O O T T O O O O O O O D D O O O  \n",
       "...                                                 ...  \n",
       "1039                                        T T O D D D  \n",
       "1042                          T T T T T O O O D D D D D  \n",
       "1050              T O O O O O O O O D D D O O O O O O O  \n",
       "1053                                T T O O O O O D D D  \n",
       "1054              T T T T T O O O O O O O O O O O D D D  \n",
       "\n",
       "[122 rows x 3 columns]"
      ]
     },
     "execution_count": 57,
     "metadata": {},
     "output_type": "execute_result"
    }
   ],
   "source": [
    "test_full_final2"
   ]
  },
  {
   "cell_type": "code",
   "execution_count": 58,
   "metadata": {},
   "outputs": [
    {
     "data": {
      "text/plain": [
       "122"
      ]
     },
     "execution_count": 58,
     "metadata": {},
     "output_type": "execute_result"
    }
   ],
   "source": [
    "sentence2_list = test_full_final2.Sentence.tolist()\n",
    "len(sentence2_list)"
   ]
  },
  {
   "cell_type": "code",
   "execution_count": 59,
   "metadata": {},
   "outputs": [],
   "source": [
    "def convertedsent(lst):\n",
    "    return ([i for item in lst for i in item.split()])"
   ]
  },
  {
   "cell_type": "code",
   "execution_count": 60,
   "metadata": {},
   "outputs": [
    {
     "name": "stdout",
     "output_type": "stream",
     "text": [
      "['<', 'TO_SEE', '>', 'CONTEXT', ':', 'There', 'is', 'a', 'substantial', 'risk', 'of', 'a', 'second', 'cancer', 'for', 'persons', 'with', 'hereditary', 'retinoblastoma', ',', 'which', 'is', 'enhanced', 'by', 'radiotherapy', 'METHODS', ':', 'The', 'effect', 'of', 'roxithromycin', 'was', 'assessed', 'in', 'a', 'double-blind', ',', 'randomised', ',', 'prospective', ',', 'multicentre', ',', 'parallel-group', ',', 'placebo-controlled', 'pilot', 'study', 'of', '202', 'patients', 'with', 'unstable', 'angina', 'or', 'non-Q-wave', 'myocardial', 'infarction', 'INTERPRETATION', ':', 'Antichlamydial', 'antibiotics', 'may', 'be', 'useful', 'in', 'therapeutic', 'intervention', 'in', 'addition', 'to', 'standard', 'medication', 'in', 'patients', 'with', 'coronary-artery', 'disease', '<', 'TO_SEE', '>', 'FINDINGS', ':', 'G-CSF', 'therapy', 'was', 'associated', 'with', 'earlier', 'eradication', 'of', 'pathogens', 'from', 'the', 'infected', 'ulcer', '(', 'median', '4', '(', 'range', '2-10', ')', 'vs', '8', '(', '2-79', ')', 'days', 'in', 'the', 'placebo', 'group', ';', 'p', '=', '0.02', ')', ',', 'quicker', 'resolution', 'of', 'cellulitis', '<', '(', '7', '(', '5-20', ')', 'vs', '12', '(', '5-93', ')', 'days', ';', 'p', '=', '0.03', ')', ',', 'shorter', 'hospital', 'stay', '(', '10', '(', '7-31', ')', 'vs', '17.5', '(', '9-100', ')', 'days', ';', 'p', '=', '0.02', ')', ',', 'and', 'a', 'shorter', 'duration', 'of', 'intravenous', 'antibiotic', 'treatment', '(', '8.5', '(', '5-30', ')', 'vs', '14.5', '(', '8-63', ')', 'days', ';', 'p', '=', '0.02', ')', 'INTERPRETATION', ':', 'G-CSF', 'treatment', 'was', 'associated', 'with', 'improved', 'clinical', 'outcome', 'of', 'foot', 'infection', 'in', 'diabetic', 'patients', 'Ropinirole', 'monotherapy', 'is', 'an', 'effective', 'and', 'well-tolerated', 'therapeutic', 'option', 'for', 'treatment', 'of', 'early', 'Parkinson', \"'s\", 'disease', 'MATERIALS', 'AND', 'METHODS', ':', 'The', 'panel', 'searched', 'the', 'MEDLINE', 'data', 'base', 'for', 'all', 'articles', 'through', '1993', 'on', 'surgical', 'treatment', 'of', 'female', 'stress', 'urinary', 'incontinence', 'The', 'evidence', 'supports', 'surgery', 'as', 'initial', 'therapy', 'and', 'as', 'a', 'secondary', 'form', 'of', 'therapy', 'after', 'failure', 'of', 'other', 'treatments', 'for', 'stress', 'urinary', 'incontinence', 'We', 'hypothesize', 'that', 'there', 'is', 'a', 'higher', 'incidence', 'of', 'preeclampsia', '(', 'proteinuric', 'hypertension', ')', 'in', 'women', 'conceiving', 'by', 'intrauterine', 'insemination', 'with', 'donor', 'sperm', 'versus', 'intrauterine', 'insemination', 'with', 'partner', 'sperm', '<', 'TO_SEE', '>', 'BACKGROUND', ':', 'The', 'cause', 'of', 'severe', 'acquired', 'hyperammonemia', ',', 'an', 'uncommon', 'but', 'often', 'fatal', 'complication', 'of', 'organ', 'transplantation', 'and', 'chemotherapy', 'for', 'cancer', ',', 'is', 'obscure', 'BACKGROUND', ':', 'Thrombolytic', 'treatment', 'has', 'been', 'shown', 'to', 'accelerate', 'resolution', 'of', 'major', 'pulmonary', 'embolism', 'and', 'lead', 'to', 'a', 'rapid', 'improvement', 'of', 'right-side', 'hemodynamics', 'A', '66-year-old', 'male', 'engineer', 'diagnosed', 'with', 'malignant', 'pleural', 'mesothelioma', '4', 'years', 'previously', 'had', 'thoracotomy', ',', 'radiotherapy', ',', 'and', 'chemotherapy', 'After', 'completion', 'of', 'chemotherapy', 'and', 'normalization', 'of', 'tumor', 'markers', ',', 'both', 'patients', 'presented', 'with', 'pulmonary', 'symptoms', 'attributable', 'to', 'their', 'massively', 'enlarging', 'mediastinal', 'teratomas', '.', 'The', 'efficiency', 'of', 'testicular', 'sperm', 'retrieval', 'by', 'testicular', 'fine', 'needle', 'aspiration', '(', 'TEFNA', ')', 'was', 'compared', 'with', 'open', 'biopsy', 'and', 'testicular', 'sperm', 'extraction', '(', 'TESE', ')', ',', 'in', '37', 'rigorously', 'selected', 'patients', 'with', 'non-obstructive', 'azoospermia', 'Elective', 'surgery', 'for', 'colorectal', 'cancer', 'in', 'the', 'aged', ':', 'a', 'clinical-economical', 'evaluation', 'Non-steroidal', 'anti-inflammatory', 'therapy', 'for', 'bronchial', 'asthma', 'Diagnosis', 'and', 'therapy', 'of', 'primary', 'stomach', 'lymphoma', 'Microelectrode-guided', 'posteroventral', 'pallidotomy', 'for', 'treatment', 'of', 'Parkinson', \"'s\", 'disease', ':', 'postoperative', 'magnetic', 'resonance', 'imaging', 'analysis', 'Follow', 'up', 'after', 'potential', 'curative', 'surgery', 'of', 'colorectal', 'cancer', 'Radiotherapy', 'of', 'soft', 'tissue', 'sarcomas', 'Anaesthesia', 'for', 'laparoscopic', 'cholecystectomy', 'in', 'a', 'patient', 'with', 'Eisenmenger', \"'s\", 'syndrome', 'Clinical', 'evaluation', 'of', 'adjuvant', 'chemoradiotherapy', 'with', 'CDDP', ',', '5-FU', ',', 'and', 'VP-16', 'for', 'advanced', 'esophageal', 'cancer', 'Hormone', 'replacement', 'therapy', 'and', 'breast', 'cancer', '.', 'Trisomy', '10', 'in', 'leukemia', 'clinically', ',', 'oral', 'administration', 'of', 'uft', 'has', 'proved', 'to', 'be', 'effective', 'as', 'an', 'adjuvant', 'therapy', 'after', 'surgery', 'for', 'some', 'malignant', 'tumors', 'such', 'as', 'non-small', 'cell', 'lung', 'cancer', 'moreover', ',', 'uft', 'has', 'proved', 'to', 'be', 'effective', 'for', 'inoperable', 'advanced', 'malignancies', 'such', 'as', 'colorectal', 'cancer', ',', 'especially', 'in', 'combination', 'with', 'leucovorin', 'or', 'cisplatin', 'background', 'and', 'objectives', ':', 'thoracic', 'paravertebral', 'block', '(', 'tpvb', ')', 'is', 'a', 'unilateral', 'analgesic', 'technique', 'that', 'has', 'been', 'advocated', 'in', 'both', 'acute', 'and', 'chronic', 'thoracic', 'and', 'abdominal', 'pain', 'the', 'use', 'of', 'topical', 'corticosteroids', 'has', 'revolutionised', 'the', 'treatment', 'of', 'inflammatory', 'skin', 'diseases', 'the', 'cancer', 'and', 'leukemia', 'group', 'b', 'performed', 'a', 'series', 'of', 'studies', 'involving', 'sequential', 'chemotherapy', 'followed', 'by', 'radiation', 'for', 'patients', 'with', 'unresectable', 'stage', 'iii', 'nsclc', 'only', '22', 'patients', '(', '10', '%', ')', 'were', 'alive', 'at', 'five', 'years', ':', '19', 'patients', 'with', 'nsclc', 'who', 'had', 'got', 'surgical', 'treatment', ',', 'one', 'patient', 'with', 'nsclc', '(', 'stage', 'iiib', ')', 'who', 'had', 'recieved', 'radiotherapy', ',', 'and', 'two', 'patients', 'with', 'sclc', ',', 'limited', 'disease', ',', 'treated', 'with', 'chemo-', 'and', 'radiotherapy', 'whether', 'the', 'era', 'of', 'platinum-based', 'chemotherapy', 'in', 'the', 'treatment', 'of', 'nsclc', 'should', 'continue', 'or', 'not', 'must', 'be', 'determined', 'by', 'phase', 'iii', 'trials', ',', 'evaluating', 'the', 'use', 'of', 'a', 'platinum', 'agent', 'with', 'one', 'of', 'the', 'new', 'agent', 'combinations', 'purpose', ':', 'many', 'patients', 'with', 'locally', 'advanced', 'non-small-cell', 'lung', 'cancer', '(', 'la-nsclc', ')', 'are', 'eligible', 'for', 'combined-modality', 'therapy', '(', 'cmt', ';', 'chemotherapy', 'and', 'radiotherapy', ')', 'objective', ':', 'to', 'report', 'the', 'use', 'of', 'heparin', 'and', 'enoxaparin', 'for', 'radiation-induced', 'myelopathy', 'conclusion', ':', 'vip', 'combination', 'chemotherapy', 'and', 'early', 'concurrent', 'thoracic', 'irradiation', 'for', 'patients', 'with', 'limited', 'stage', 'small', 'cell', 'lung', 'cancer', 'revealed', 'excellent', 'antitumor', 'response', 'with', 'tolerable', 'toxicity', 'we', 'evaluated', 'the', 'role', 'of', 'systemic', 'chemotherapy', 'for', 'patients', 'with', 'malignant', 'pleural', 'effusions', 'from', 'nsclc', 'in', 'contrast', ',', 'the', 'introduction', 'and', 'improvement', 'of', 'chemotherapy', 'since', 'the', '1970s', 'gave', 'rise', 'to', 'an', 'improvement', 'in', '-', 'only', 'short-term', '(', '<', '2', 'years', ')', '-', 'survival', 'for', 'patients', 'with', 'small-cell', 'lung', 'cancer', 'the', 'degree', 'of', 'healing', 'and', 'damage', 'of', 'the', 'bronchial', 'wall', 'after', 'photodynamic', 'therapy', ',', 'nd-yag', 'laser', 'and', 'electrocautery', 'for', 'intraluminal', 'early-stage', 'cancer', 'have', 'been', 'analysed', 'to', 'examine', 'whether', 'efficacy', 'of', 'postoperative', 'oral', 'administration', 'of', 'uft', ',', 'a', '5-fluorouracil', 'derivative', 'chemotherapeutic', 'agent', ',', 'may', 'be', 'influenced', 'by', 'incidence', 'of', 'apoptosis', '(', 'apoptosis', 'index', ')', 'or', 'apoptosis-related', 'gene', 'status', '(', 'p53', 'and', 'bcl-2', ')', 'of', 'the', 'tumour', ',', 'a', 'total', 'of', '162', 'patients', 'with', 'pathologic', 'stage', 'i', 'non-small', 'cell', 'lung', 'cancer', 'were', 'retrospectively', 'reviewed', 'is', 'prolonged', 'survival', 'possible', 'for', 'patients', 'with', 'supraclavicular', 'node', 'metastases', 'in', 'nsclc', 'treated', 'with', 'chemoradiotherapy', '?', 'ijrobp', '1999', ';', '44', '(', '4', ')', ':', '847-853', 'we', 'aimed', 'to', 'investigate', 'whether', 'biological', 'factors', 'related', 'to', 'radiosensitivity', 'and', 'chemosensitivity', 'have', 'prognostic', 'significance', 'in', 'non-small-cell-lung-cancer', '(', 'nsclc', ')', 'patients', 'treated', 'with', 'daily', 'low', 'doses', 'of', 'cisplatin', 'and', 'radiotherapy', 'for', 'patients', 'with', 'lung', 'carcinoma', 'who', 'are', 'in', 'relatively', 'poor', 'health', ',', 'the', 'authors', 'chose', 'videothoracoscopic', 'lobectomy', 'or', 'partial', 'resection', 'of', 'the', 'lung', 'instead', 'of', 'an', 'open', 'thoracotomy', 'background', ':', 'curative', 'therapy', 'is', 'available', 'for', 'patients', 'with', 'stage', '0', 'lung', 'carcinoma', ',', 'with', 'a', '>', '90', '%', '5-year', 'survival', 'rate', 'patients', 'with', 'a', 'single', 'non-sclc', ',', 'breast', ',', 'melanoma', ',', 'renal', 'cell', ',', 'and', 'ovarian', 'carcinoma', 'brain', 'metastasis', 'have', 'the', 'best', 'chance', 'for', 'long-term', 'survival', 'if', 'treated', 'with', 'surgical', 'resection', 'and', 'wbrt', 'methods', ':', 'over', '90', 'months', ',', 'therapeutic', 'vats', 'metastasectomy', 'was', 'accomplished', 'upon', '80', 'patients', 'with', 'colorectal', 'metastases', 'patients', 'with', 'limited-stage', 'small-cell', 'carcinoma', 'of', 'the', 'lung', 'are', 'treated', 'with', 'combined-modality', 'therapy', 'with', 'the', 'intent', 'to', 'cure', 'methods', ':', 'we', 'analyzed', '30', 'patients', 'who', 'were', 'discovered', 'to', 'have', 'brain', 'metastases', 'during', 'the', 'diagnosis', 'of', '121', 'patients', 'enrolled', 'in', 'three', 'consecutive', 'clinical', 'trials', 'on', 'advanced', 'nsclc', 'assessing', 'combination', 'chemotherapy', 'of', 'cisplatin', ',', 'ifosfamide', 'and', 'irinotecan', 'with', 'rhg-csf', 'support', 'in', 'patients', 'with', 'metastatic', 'colorectal', 'cancer', ',', 'intravenous', 'oxaliplatin', 'has', 'been', 'trialled', 'as', 'a', 'monotherapy', 'and', 'in', 'combination', 'with', 'other', 'agents', 'in', 'addition', ',', 'oxaliplatin', 'has', 'shown', 'efficacy', 'in', 'patients', 'with', 'platinum-pretreated', 'ovarian', 'cancer', 'and', 'achieved', 'objective', 'response', 'rates', 'similar', 'to', 'paclitaxel', 'in', 'this', 'setting', '(', '16', 'vs', '17', '%', ')', 'promising', 'results', 'have', 'also', 'been', 'found', 'with', 'oxaliplatin', 'in', 'patients', 'with', 'non-hodgkin', \"'s\", 'lymphoma', ',', 'breast', 'cancer', ',', 'mesothelioma', 'and', 'non-small', 'cell', 'lung', 'cancer', 'additional', 'clinical', 'investigation', 'of', 'oxaliplatin', 'in', 'patients', 'with', 'other', 'cancers', 'is', 'warranted', 'given', 'the', 'promising', 'results', 'achieved', 'in', 'early', 'trials', ',', 'most', 'notably', 'in', 'patients', 'with', 'platinum-pretreated', 'ovarian', 'cancer', 'the', 'drug', 'is', 'currently', 'in', 'phase', 'iii', 'clinical', 'trials', 'for', 'patients', 'with', 'non-small', 'cell', 'lung', 'cancer', 'in', 'combination', 'with', 'paclitaxel', 'and', 'carboplatin', ',', 'as', 'well', 'as', 'in', 'advanced', 'hormone', 'refractory', 'prostate', 'cancer', 'in', 'combination', 'with', 'mitoxantrone', 'of', '1', ',', '042', 'patients', 'with', 'primary', 'lung', 'cancer', 'who', 'underwent', 'resection', 'from', '1982', 'to', '1995', ',', '549', 'patients', 'with', 'adenocarcinoma', '(', 'ad', ')', 'and', '363', 'with', 'squamous', 'cell', 'carcinoma', '(', 'sq', ')', 'were', 'included', 'in', 'this', 'study', 'chemotherapy', 'administered', 'before', 'surgery', 'or', 'definitive', 'irradiation', 'has', 'improved', 'survival', 'rates', 'in', 'patients', 'with', 'stage', 'iii', 'nsclc', 'objectives', ':', 'this', 'study', 'aims', 'to', 'test', 'whether', 'prophylactic', 'cranial', 'irradiation', 'prolongs', 'survival', 'of', 'patients', 'with', 'small', 'cell', 'lung', 'cancer', 'in', 'complete', 'remission', 'combination', 'chemotherapy', 'is', 'the', 'cornerstone', 'of', 'treatment', 'that', 'confers', 'a', 'meaningful', 'survival', 'benefit', 'for', 'patients', 'with', 'small-cell', 'lung', 'cancer', 'for', 'symptomatic', 'metastases', 'in', 'bone', 'or', 'brain', ',', 'radiotherapy', 'usually', 'gives', 'temporary', 'palliation', 'sample', ':', '45', 'adults', 'with', 'primary', 'cancer', 'of', 'the', 'lung', 'receiving', '<', 'outpatient', 'primary', 'or', 'adjuvant', 'radiation', 'therapy', 'conclusions', ':', 'this', 'study', 'is', 'the', 'first', 'to', 'evaluate', 'planned', 'sequential', 'chemotherapy', 'in', 'patients', 'with', 'nsclc', 'purpose', ':', 'this', 'randomized', 'trial', 'was', 'designed', 'to', 'determine', 'whether', 'paclitaxel', 'plus', 'carboplatin', '(', 'pc', ')', 'offered', 'a', 'survival', 'advantage', 'over', 'vinorelbine', 'plus', 'cisplatin', '(', 'vc', ')', 'for', 'patients', 'with', 'advanced', 'non', '--', 'small-cell', 'lung', 'cancer', 'conclusions', ':', 'the', 'intensification', 'of', 'platinum', 'dose', '(', 'cisplatin', 'plus', 'carboplatin', ')', 'in', 'combination', 'chemotherapy', 'significantly', 'increased', 'the', 'complete', 'response', 'rate', ',', 'overall', 'survival', 'and', 'number', 'of', 'two-year', 'survivors', 'among', 'sclc', 'patients', 'with', 'limited', 'disease', 'compared', 'to', 'combination', 'therapy', 'with', 'carboplatin', 'alone', ',', 'suggesting', 'that', 'a', 'more', 'aggressive', 'treatment', 'to', 'this', 'category', 'of', 'patients', 'is', 'worthwhile', ',', 'while', 'no', 'difference', 'in', 'treatment', 'outcome', 'was', 'observed', 'for', 'patients', 'with', 'extensive', 'disease', 'the', 'aim', 'of', 'this', 'study', 'was', 'to', 'investigate', 'the', 'relationships', 'among', 'technetium-99m', 'tetrofosmin', '(', 'tc-tf', ')', 'accumulation', 'in', 'untreated', 'small', 'cell', 'lung', 'cancer', '(', 'sclc', ')', ',', 'the', 'expression', 'of', 'p-glycoprotein', '(', 'pgp', ')', 'and', 'multidrug', 'resistance', 'related', 'protein-1', '(', 'mrp1', ')', ',', 'and', 'the', 'response', 'to', 'chemotherapy', 'in', 'patients', 'with', 'untreated', 'sclc', 'animal', 'studies', 'suggest', 'that', 'the', 'kidney', 'is', 'involved', 'in', 'the', 'elimination', 'of', 'recombinant', 'human', 'granulocyte', 'colony-stimulating', 'factor', '(', 'rhg-csf', ')', ',', 'which', 'is', 'used', 'for', 'patients', 'with', 'neutropenia', 'during', 'cancer', 'chemotherapy', '<', 'TO_SEE', '>', 'in', 'another', 'randomised', 'phase', 'iii', 'trial', 'in', '303', 'patients', 'with', 'head', 'and', 'neck', 'cancer', 'undergoing', 'irradiation', 'therapy', '(', 'total', 'dose', '50', 'to', '70gy', ')', ',', 'pretreatment', 'with', 'intravenous', 'amifostine', '200', 'mg/m2', 'significantly', 'reduced', 'the', 'incidence', 'of', 'acute', 'and', 'late', 'grade', '>', 'or', '=2', 'xerostomia', 'Ninety-six', 'patients', 'with', 'disseminated', 'malignant', 'melanoma', 'received', 'thrice', 'weekly', 'intramuscular', 'injections', 'of', 'leukocyte', 'A', 'recombinant', 'interferon', '(', 'rIFN-alpha', 'A', ',', 'Roferon-A', ',', 'Hoffmann', 'La', 'Roche', ')', 'at', 'doses', 'of', '12', 'X', '10', '(', '6', ')', 'U/m2', 'or', '50', 'X', '10', '(', '6', ')', 'U/m2', 'with', 'or', 'without', 'cimetidine', 'as', 'an', 'immunorestorative', 'agent', 'Ten', 'patients', 'with', 'advanced', 'stage', '(', 'TNM', 'IIB-IVB', ')', 'mycosis', 'fungoides', 'were', 'treated', 'with', 'a', 'combination', 'chemotherapy', 'program', 'consisting', 'of', 'bleomycin', 'and', 'methotrexate', 'weekly', ',', 'doxorubicin', 'every', '3', 'weeks', ',', 'and', 'topical', 'nitrogen', 'mustard', 'daily', '(', 'BAM-M', ')', 'Guiding', 'surgical', 'therapy', 'of', 'ventricular', 'tachycardia', 'by', 'preoperative', 'endocardial', 'catheter', 'mapping', 'necessitates', 'improvement', 'of', 'the', 'accuracy', 'of', 'localization', 'of', 'the', 'arrhythmogenic', 'site', 'Inchinko-to', '(', 'TJ-135', ')', 'is', 'a', 'herbal', 'medicine', 'consisting', 'of', 'three', 'kinds', 'of', 'crude', 'drugs', ',', 'and', 'in', 'Japan', 'it', 'is', 'administered', 'mainly', 'to', 'patients', 'with', 'cholestasis', 'Surgical', 'management', 'of', 'syringomyelia', 'associated', 'with', 'spinal', 'adhesive', 'arachnoiditis', 'Prospective', ',', 'randomized', ',', 'largescale', 'trials', 'supporting', 'any', 'of', 'the', 'different', 'treatment', 'strategies', 'are', 'not', 'available', ',', 'but', 'antibiotics', 'and', 'surgery', 'probably', 'have', 'improved', 'the', 'long-term', 'outcome', 'of', 'many', 'patients', 'with', 'bronchiectasis', 'Cholecystectomy', 'should', 'be', 'a', 'first-line', 'therapy', 'for', 'biliary', 'dyskinesia', 'patients', 'Effectiveness', 'of', 'pseudoephedrine', 'plus', 'acetaminophen', 'for', 'treatment', 'of', 'symptoms', 'attributed', 'to', 'the', 'paranasal', 'sinuses', 'associated', 'with', 'the', 'common', 'cold', 'PURPOSE', ':', 'Macrolide', 'antibiotics', 'are', 'frequently', 'prescribed', 'to', 'patients', 'with', 'symptoms', 'of', 'a', 'common', 'cold', 'Because', 'the', 'symptoms', 'of', 'rhinovirus', 'colds', 'are', 'attributed', 'to', 'the', 'inflammatory', 'response', 'to', 'infection', ',', 'we', 'studied', 'the', 'effects', 'of', 'treatment', 'with', 'clarithromycin', 'on', 'the', 'symptomatic', 'and', 'inflammatory', 'response', 'to', 'nasal', 'inoculation', 'with', 'rhinovirus', 'Patients', 'with', 'evidence', 'of', 'infection', 'with', 'H.', 'pylori', 'were', 'treated', 'with', 'a', 'combination', 'of', 'omeprazole', ',', 'amoxicillin', ',', 'and', 'clarithromycin', 'Contemporary', 'asthma', 'management', 'guidelines', 'list', 'inhaled', 'corticosteroids', 'as', 'the', 'preferred', 'controller', 'medication', 'for', 'patients', 'with', 'persistent', 'asthma', 'Fluticasone', 'propionate', 'is', 'one', 'of', 'several', 'inhaled', 'corticosteroids', 'used', 'for', 'the', 'treatment', 'of', 'asthma', 'Combination', 'therapy', 'with', 'interferon-alpha', '(', 'IFN', 'alpha', ')', 'plus', 'Ribavirin', 'has', 'been', 'shown', 'to', 'improve', 'the', 'response', 'rate', 'in', 'patients', 'with', 'chronic', 'hepatitis', 'C', 'as', 'compared', 'to', 'IFN', 'alpha', 'alone', 'To', 'prove', ',', 'whether', 'Ribavirin', 'has', 'any', 'additional', 'effect', 'on', 'the', 'decline', 'of', 'hepatitis', 'C', 'viremia', 'during', 'the', 'first', 'weeks', 'of', 'treatment', 'patients', 'with', 'and', 'without', 'combination', 'therapy', 'were', 'compared', 'He', 'needed', 'mechanical', 'ventilation', 'for', 'severe', 'hypoxemia', ',', 'but', 'recovered', 'with', 'glucocorticoid', 'pulse', 'therapy', 'OBJECTIVE', ':', 'This', 'study', 'was', 'designed', 'to', 'evaluate', 'the', 'safety', 'and', 'estimate', 'the', 'efficacy', 'of', 'oral', 'budesonide', 'in', 'patients', 'with', 'primary', 'sclerosing', 'cholangitis', '(', 'PSC', ')', 'Thrombolytic', 'therapy', 'has', 'been', 'accepted', 'in', 'the', 'treatment', 'of', 'acute', 'myocardial', 'infarction', 'Touch', 'sensibility', 'was', 'assessed', 'with', 'von', 'Frey', \"'s\", 'monofilaments', 'in', 'the', 'breasts', 'of', '10', 'healthy', 'women', '(', 'controls', ')', 'and', 'of', '80', 'women', 'with', 'breast', 'cancer', 'who', 'at', 'least', '1', 'year', 'previously', 'had', 'undergone', 'subcutaneous', 'mastectomy', 'and', 'immediate', 'reconstruction', 'with', 'a', 'prosthesis', 'Immunotherapy', 'of', 'mice', 'with', 'preexisting', 'cancers', 'with', 'heat', 'shock', 'protein', 'preparations', 'derived', 'from', 'autologous', 'cancer', 'resulted', 'in', 'retarded', 'progression', 'of', 'the', 'primary', 'cancer', ',', 'a', 'reduced', 'metastatic', 'load', ',', 'and', 'prolongation', 'of', 'life-span', '<', 'TO_SEE', '>', 'CONCLUSION', ':', 'Direct', 'PTA', 'may', 'be', 'performed', 'safely', 'as', 'an', 'alternative', 'to', 'thrombolytic', 'therapy', 'in', 'patients', 'with', 'acute', 'occlusion', 'of', 'the', 'middle', 'cerebral', 'artery', 'when', 'early', 'CT', 'findings', 'and/or', 'lenticulostriate', 'artery', 'involvement', 'are', 'present', 'or', 'when', 'superselective', 'local', 'angiography', 'shows', 'the', 'presence', 'of', 'a', 'large', 'embolus', 'or', 'high-grade', 'stenosis', 'As', 'the', 'overview', 'shows', ',', 'both', 'groups', 'of', 'substances', 'are', 'useful', 'for', 'individualized', 'treatment', 'of', 'benign', 'prostatic', 'hyperplasia', '(', 'BPH', ')', ',', 'provided', 'that', 'conservative', 'pharmacological', 'treatment', 'of', 'BPH', 'is', 'basically', 'accepted', 'and', 'that', 'the', 'patients', \"'\", 'quality', 'of', 'life', 'is', 'also', 'considered', 'High-dose', 'intravenous', 'immunoglobulin', '(', 'hdIVIg', ')', 'is', 'increasingly', 'used', 'to', 'treat', 'a', 'range', 'of', 'inflammatory', 'and', 'autoimmune', 'diseases', 'While', 'these', 'findings', 'are', 'observed', 'for', 'all', 'classes', 'of', 'oral', 'drugs', ',', 'the', 'issue', 'is', 'especially', 'critical', 'for', 'cancer', 'chemotherapy', ',', 'in', 'which', 'a', 'narrow', 'therapeutic', 'index', 'is', 'frequently', 'observed', 'The', 'activity', 'of', 'oral', 'UFT', 'in', 'large-bowel', 'cancer', 'when', 'administered', 'with', 'oral', 'LV', '(', 'approximately', '50', 'mg/dose', ')', 'has', 'resulted', 'in', 'objective', 'response', 'rates', 'of', 'approximately', '40', '%', 'BACKGROUND', ':', 'Adrenalectomy', 'is', 'the', 'current', 'treatment', 'for', 'phaeochromocytoma', 'As', 'single', 'agent', 'therapy', 'in', 'malignant', 'melanoma', ',', 'interferon', 'alfa-2a', 'was', 'only', 'marginally', 'useful', 'in', 'most', 'patients', 'Studies', 'with', 'various', 'interferon', 'alpha', 'preparations', ',', 'including', 'interferons', 'induced', 'in', 'human', 'leukocytes', ',', 'interferon', 'alfa-N1', ',', 'interferon', 'alfa-2a', ',', 'and', 'interferon', 'alfa-2b', ',', 'have', 'all', 'provided', 'evidence', 'for', 'modest', 'but', 'reproducible', 'antitumor', 'activity', 'in', 'advanced', 'renal', 'cell', 'carcinoma', 'The', 'rationale', 'for', 'antileukemic', 'therapy', 'in', 'hairy', 'cell', 'leukemia', 'is', 'to', 'reduce', 'the', 'significant', 'risk', 'of', 'infection', 'and', 'other', 'potential', 'serious', 'complications', 'Recombinant', 'and', 'natural', 'forms', 'of', 'interferon', 'alpha', 'have', 'been', 'shown', 'to', 'bring', 'about', 'tumor', 'regressions', 'in', 'patients', 'with', 'low-grade', 'non-Hodgkin', \"'s\", 'lymphoma', 'OBJECTIVE', ':', 'We', 'report', 'the', 'results', 'of', 'a', 'double-blind', ',', 'double-dummy', ',', 'active-control', 'study', 'designed', 'to', 'evaluate', 'the', 'efficacy', 'and', 'safety', 'of', 'lamotrigine', '(', 'LTG', ')', 'administered', 'as', 'monotherapy', 'to', 'adult', 'outpatients', 'with', 'partial', 'seizures', 'This', 'article', 'reviews', 'current', 'trends', 'in', 'management', 'of', 'esophageal', 'achalasia', ',', 'highlighting', 'short-term', 'outcome', 'and', 'cost', 'comparisons', 'of', 'three', 'treatments', ':', 'botulinum', 'toxin', 'injection', ',', 'pneumatic', 'dilation', ',', 'and', 'laparoscopic', 'myotomy', 'Tubularized', 'incised', 'plate', 'hypospadias', 'repair', 'for', 'proximal', 'hypospadias', 'Comparison', 'of', 'radical', 'prostatectomy', 'and', 'iodine', '125', 'interstitial', 'radiotherapy', 'for', 'the', 'treatment', 'of', 'clinically', 'localized', 'prostate', 'cancer', ':', 'a', '7-year', 'biochemical', '(', 'PSA', ')', 'progression', 'analysis', 'Effect', 'of', 'photodynamic', 'therapy', 'in', 'combination', 'with', 'mitomycin', 'C', 'on', 'a', 'mitomycin-resistant', 'bladder', 'cancer', 'cell', 'line', 'In', 'vitro', 'and', 'in', 'vivo', 'comparison', 'between', 'the', 'effects', 'of', 'treatment', 'with', 'adenosine', 'triphosphate', 'and', 'treatment', 'with', 'buthionine', 'sulfoximine', 'on', 'chemosensitization', 'and', 'tumour', 'growth', 'of', 'B16', 'melanoma', 'Effects', 'of', 'transpupillary', 'thermotherapy', 'on', 'immunological', 'parameters', 'and', 'apoptosis', 'in', 'a', 'case', 'of', 'primary', 'uveal', 'melanoma', 'Nerve-sparing', 'surgery', 'for', 'advanced', 'rectal', 'cancer', 'patients', ':', 'special', 'reference', 'to', 'Dukes', 'C', 'patients', 'Current', 'surgical', 'therapy', 'for', 'bronchiectasis', 'Antiplatelet', 'therapy', 'in', 'acute', 'cerebral', 'ischemia', 'Interferon', 'treatment', 'of', 'renal', 'cell', 'carcinoma', 'An', 'active-control', 'trial', 'of', 'lamotrigine', 'monotherapy', 'for', 'partial', 'seizures', 'Gene', 'therapy', 'for', 'myocardial', 'angiogenesis', 'The', 'treatment', 'of', 'autoimmune', 'hemolytic', 'anemia', 'with', 'heparin', 'Glutathione', 'S-transferase', 'activity', 'in', 'epithelial', 'ovarian', 'cancer', ':', 'association', 'with', 'response', 'to', 'chemotherapy', 'and', 'disease', 'outcome', '5-year', 'outcome', 'of', 'surgical', 'resection', 'and', 'watchful', 'waiting', 'for', 'men', 'with', 'moderately', 'symptomatic', 'benign', 'prostatic', 'hyperplasia', ':', 'a', 'Department', 'of', 'Veterans', 'Affairs', 'cooperative', 'study', 'Interferon', 'beta', 'treatment', 'for', 'multiple', 'sclerosis', 'Intravenous', 'immunoglobulin', 'treatment', 'in', 'multiple', 'sclerosis', 'Stereotactic', 'radiosurgery', 'for', 'acoustic', 'neuroma', ':', 'a', 'Canadian', 'perspective', 'Hyperbaric', 'oxygen', 'therapy', 'for', 'children', 'with', 'cerebral', 'palsy', 'Peripheral', 'retinal', 'cryotherapy', 'for', 'postvitrectomy', 'diabetic', 'vitreous', 'hemorrhage', 'in', 'phakic', 'patients', 'A', 'randomized', ',', 'controlled', 'study', 'in', 'adults', 'of', 'the', 'immunogenicity', 'of', 'a', 'novel', 'hepatitis', 'B', 'vaccine', 'containing', 'MF59', 'adjuvant', 'The', 'outcome', 'of', 'arthroscopic', 'treatment', 'of', 'temporomandibular', 'joint', 'arthropathy', '<', 'TO_SEE', '>', 'The', 'effect', 'of', 'bisoprolol', 'on', 'perioperative', 'mortality', 'and', 'myocardial', 'infarction', 'in', 'high-risk', 'patients', 'undergoing', 'vascular', 'surgery', 'Surgical', 'management', 'of', 'severe', 'secondary', 'peritonitis', 'Hepatic', 'arterial', 'infusion', 'of', 'chemotherapy', 'after', 'resection', 'of', 'hepatic', 'metastases', 'from', 'colorectal', 'cancer', 'Epoetin', ':', 'a', 'pharmacoeconomic', 'review', 'of', 'its', 'use', 'in', 'chronic', 'renal', 'failure', 'and', 'its', 'effects', 'on', 'quality', 'of', 'life', 'High-dose', 'chemotherapy', 'with', 'autologous', 'stem-cell', 'support', 'for', 'epithelial', 'ovarian', 'cancer', '``', 'Tandem', \"''\", 'high-dose', 'chemoradiotherapy', 'with', 'autologous', 'stem-cell', 'support', 'in', 'the', 'treatment', 'of', 'newly', 'diagnosed', 'or', 'responsive', 'multiple', 'myeloma']\n",
      "2827\n"
     ]
    }
   ],
   "source": [
    "a1 = convertedsent(sentence2_list)\n",
    "print(a1)\n",
    "print(len(a1))"
   ]
  },
  {
   "cell_type": "code",
   "execution_count": 61,
   "metadata": {},
   "outputs": [
    {
     "data": {
      "text/plain": [
       "122"
      ]
     },
     "execution_count": 61,
     "metadata": {},
     "output_type": "execute_result"
    }
   ],
   "source": [
    "label2_list = test_full_final2.Predicted_Labels.tolist()\n",
    "len(label2_list)"
   ]
  },
  {
   "cell_type": "code",
   "execution_count": 62,
   "metadata": {},
   "outputs": [
    {
     "name": "stdout",
     "output_type": "stream",
     "text": [
      "['O', 'O', 'O', 'O', 'O', 'O', 'O', 'O', 'O', 'O', 'O', 'O', 'O', 'O', 'O', 'O', 'O', 'D', 'D', 'O', 'O', 'O', 'O', 'O', 'T', 'O', 'O', 'O', 'O', 'O', 'T', 'O', 'O', 'O', 'O', 'O', 'O', 'O', 'O', 'O', 'O', 'O', 'O', 'O', 'O', 'O', 'O', 'O', 'O', 'O', 'O', 'O', 'D', 'D', 'D', 'D', 'D', 'D', 'O', 'O', 'T', 'T', 'O', 'O', 'O', 'O', 'O', 'O', 'O', 'O', 'O', 'O', 'O', 'O', 'O', 'O', 'D', 'D', 'O', 'O', 'O', 'O', 'O', 'T', 'T', 'O', 'O', 'O', 'O', 'O', 'O', 'O', 'O', 'O', 'O', 'O', 'O', 'O', 'O', 'O', 'O', 'O', 'O', 'O', 'O', 'O', 'O', 'O', 'O', 'O', 'O', 'O', 'O', 'O', 'O', 'O', 'O', 'O', 'O', 'O', 'O', 'O', 'D', 'O', 'O', 'O', 'O', 'O', 'O', 'O', 'O', 'O', 'O', 'O', 'O', 'O', 'O', 'O', 'O', 'O', 'O', 'O', 'O', 'O', 'O', 'O', 'O', 'O', 'O', 'O', 'O', 'O', 'O', 'O', 'O', 'O', 'O', 'O', 'O', 'O', 'O', 'O', 'O', 'O', 'O', 'O', 'T', 'T', 'T', 'O', 'O', 'O', 'O', 'O', 'O', 'O', 'O', 'O', 'O', 'O', 'O', 'O', 'O', 'O', 'O', 'O', 'O', 'T', 'T', 'O', 'O', 'O', 'O', 'O', 'O', 'O', 'D', 'D', 'O', 'O', 'O', 'T', 'T', 'O', 'O', 'O', 'O', 'O', 'O', 'O', 'O', 'O', 'O', 'D', 'D', 'D', 'D', 'O', 'O', 'O', 'O', 'O', 'O', 'O', 'O', 'O', 'O', 'O', 'O', 'O', 'O', 'O', 'O', 'O', 'T', 'T', 'O', 'D', 'D', 'D', 'D', 'O', 'O', 'O', 'O', 'O', 'O', 'O', 'O', 'O', 'O', 'O', 'O', 'O', 'T', 'O', 'O', 'O', 'O', 'O', 'O', 'D', 'D', 'D', 'O', 'O', 'O', 'O', 'O', 'O', 'O', 'O', 'O', 'D', 'D', 'D', 'D', 'D', 'O', 'O', 'O', 'O', 'T', 'T', 'T', 'T', 'T', 'T', 'T', 'T', 'O', 'O', 'O', 'O', 'O', 'O', 'O', 'O', 'O', 'O', 'O', 'O', 'O', 'O', 'O', 'O', 'O', 'O', 'O', 'O', 'O', 'O', 'T', 'T', 'T', 'T', 'O', 'D', 'O', 'O', 'O', 'O', 'O', 'T', 'T', 'O', 'O', 'O', 'O', 'O', 'O', 'O', 'D', 'D', 'D', 'O', 'O', 'O', 'O', 'O', 'O', 'O', 'T', 'T', 'O', 'O', 'O', 'O', 'O', 'O', 'D', 'D', 'D', 'O', 'O', 'O', 'O', 'T', 'T', 'T', 'T', 'T', 'T', 'O', 'O', 'O', 'T', 'O', 'O', 'O', 'O', 'O', 'O', 'O', 'O', 'O', 'O', 'D', 'D', 'D', 'O', 'O', 'O', 'O', 'O', 'O', 'O', 'O', 'O', 'O', 'O', 'O', 'O', 'O', 'T', 'T', 'T', 'T', 'T', 'T', 'T', 'O', 'O', 'O', 'T', 'T', 'T', 'T', 'T', 'T', 'T', 'T', 'T', 'O', 'O', 'O', 'O', 'O', 'O', 'O', 'D', 'D', 'T', 'T', 'O', 'D', 'D', 'O', 'O', 'O', 'O', 'O', 'O', 'O', 'T', 'T', 'T', 'O', 'D', 'D', 'O', 'O', 'T', 'O', 'D', 'D', 'D', 'T', 'T', 'T', 'O', 'O', 'O', 'D', 'D', 'D', 'O', 'O', 'O', 'O', 'O', 'O', 'O', 'O', 'O', 'T', 'T', 'T', 'O', 'D', 'D', 'T', 'O', 'D', 'D', 'D', 'O', 'O', 'T', 'T', 'O', 'O', 'O', 'O', 'D', 'D', 'D', 'O', 'O', 'O', 'T', 'T', 'T', 'T', 'O', 'O', 'O', 'O', 'O', 'O', 'D', 'D', 'D', 'T', 'T', 'T', 'O', 'D', 'D', 'O', 'T', 'O', 'O', 'D', 'O', 'O', 'O', 'O', 'O', 'O', 'O', 'O', 'O', 'O', 'O', 'O', 'O', 'O', 'O', 'O', 'T', 'O', 'O', 'D', 'D', 'D', 'D', 'D', 'D', 'D', 'D', 'O', 'O', 'O', 'O', 'O', 'O', 'O', 'O', 'O', 'D', 'D', 'D', 'D', 'D', 'D', 'D', 'O', 'O', 'O', 'T', 'T', 'T', 'T', 'T', 'O', 'O', 'O', 'O', 'T', 'T', 'T', 'O', 'O', 'O', 'O', 'O', 'O', 'O', 'O', 'O', 'O', 'O', 'O', 'O', 'O', 'O', 'O', 'O', 'O', 'O', 'D', 'D', 'O', 'O', 'O', 'T', 'T', 'O', 'O', 'O', 'O', 'O', 'D', 'D', 'D', 'O', 'O', 'O', 'O', 'O', 'O', 'O', 'O', 'O', 'O', 'T', 'T', 'T', 'T', 'O', 'O', 'O', 'O', 'O', 'O', 'D', 'D', 'D', 'D', 'O', 'O', 'O', 'O', 'O', 'O', 'O', 'O', 'O', 'O', 'O', 'O', 'O', 'O', 'O', 'O', 'D', 'O', 'O', 'T', 'T', 'T', 'O', 'O', 'O', 'O', 'D', 'D', 'D', 'D', 'D', 'O', 'O', 'O', 'O', 'O', 'O', 'O', 'O', 'O', 'D', 'O', 'O', 'O', 'O', 'O', 'O', 'T', 'T', 'T', 'O', 'O', 'O', 'O', 'T', 'T', 'O', 'O', 'O', 'O', 'D', 'O', 'O', 'O', 'O', 'O', 'O', 'O', 'O', 'O', 'O', 'O', 'O', 'O', 'O', 'O', 'O', 'O', 'O', 'O', 'O', 'O', 'O', 'O', 'O', 'O', 'O', 'O', 'O', 'O', 'O', 'O', 'D', 'D', 'D', 'D', 'D', 'D', 'D', 'D', 'O', 'O', 'O', 'O', 'O', 'O', 'O', 'O', 'T', 'T', 'T', 'T', 'O', 'O', 'O', 'O', 'O', 'O', 'O', 'T', 'T', 'T', 'O', 'D', 'D', 'O', 'O', 'T', 'T', 'T', 'O', 'O', 'O', 'O', 'O', 'O', 'O', 'O', 'D', 'D', 'D', 'D', 'D', 'D', 'O', 'O', 'O', 'O', 'O', 'O', 'O', 'O', 'O', 'O', 'O', 'O', 'T', 'T', 'O', 'O', 'O', 'D', 'D', 'D', 'D', 'D', 'O', 'O', 'O', 'O', 'O', 'O', 'O', 'O', 'T', 'O', 'O', 'O', 'O', 'O', 'O', 'O', 'O', 'O', 'O', 'O', 'O', 'O', 'O', 'O', 'O', 'O', 'O', 'O', 'O', 'O', 'O', 'D', 'D', 'D', 'O', 'O', 'O', 'O', 'O', 'O', 'O', 'O', 'O', 'O', 'O', 'T', 'T', 'O', 'O', 'O', 'O', 'O', 'O', 'D', 'D', 'D', 'O', 'O', 'O', 'O', 'O', 'O', 'O', 'O', 'T', 'T', 'T', 'T', 'T', 'T', 'T', 'T', 'T', 'T', 'T', 'O', 'O', 'O', 'O', 'O', 'O', 'O', 'O', 'O', 'O', 'O', 'O', 'O', 'O', 'O', 'O', 'O', 'O', 'O', 'O', 'O', 'O', 'O', 'O', 'O', 'O', 'O', 'O', 'O', 'O', 'O', 'D', 'D', 'D', 'D', 'D', 'D', 'D', 'O', 'O', 'O', 'O', 'O', 'O', 'O', 'O', 'O', 'O', 'D', 'D', 'D', 'D', 'D', 'O', 'O', 'T', 'O', 'O', 'O', 'O', 'O', 'O', 'O', 'O', 'O', 'O', 'O', 'O', 'O', 'O', 'O', 'O', 'O', 'O', 'O', 'O', 'O', 'O', 'O', 'O', 'O', 'O', 'D', 'D', 'D', 'D', 'O', 'O', 'O', 'O', 'O', 'O', 'O', 'T', 'T', 'T', 'O', 'O', 'O', 'D', 'D', 'O', 'O', 'O', 'O', 'O', 'O', 'O', 'O', 'O', 'O', 'T', 'T', 'T', 'T', 'T', 'O', 'O', 'O', 'O', 'O', 'O', 'T', 'T', 'O', 'O', 'T', 'T', 'O', 'O', 'O', 'O', 'O', 'D', 'D', 'D', 'D', 'O', 'O', 'O', 'O', 'O', 'O', 'O', 'O', 'O', 'O', 'O', 'O', 'D', 'D', 'O', 'O', 'O', 'D', 'O', 'O', 'O', 'O', 'O', 'D', 'D', 'D', 'D', 'O', 'O', 'O', 'O', 'O', 'O', 'O', 'O', 'O', 'O', 'T', 'T', 'O', 'O', 'O', 'O', 'O', 'O', 'O', 'O', 'T', 'T', 'T', 'O', 'O', 'O', 'O', 'O', 'O', 'D', 'D', 'O', 'O', 'D', 'D', 'D', 'O', 'O', 'O', 'O', 'O', 'O', 'T', 'T', 'O', 'O', 'O', 'O', 'O', 'O', 'O', 'O', 'O', 'O', 'O', 'O', 'O', 'O', 'O', 'O', 'O', 'O', 'O', 'O', 'O', 'O', 'O', 'O', 'O', 'O', 'O', 'O', 'O', 'O', 'O', 'D', 'D', 'T', 'T', 'T', 'T', 'T', 'T', 'T', 'T', 'T', 'T', 'T', 'T', 'O', 'O', 'O', 'D', 'D', 'D', 'O', 'T', 'T', 'O', 'O', 'O', 'O', 'O', 'O', 'O', 'O', 'O', 'O', 'O', 'O', 'O', 'O', 'O', 'T', 'O', 'O', 'O', 'O', 'O', 'O', 'D', 'D', 'D', 'O', 'O', 'O', 'O', 'O', 'O', 'O', 'O', 'O', 'O', 'O', 'O', 'O', 'O', 'O', 'O', 'O', 'O', 'O', 'O', 'O', 'O', 'O', 'O', 'T', 'O', 'O', 'O', 'D', 'D', 'D', 'D', 'D', 'D', 'O', 'D', 'D', 'D', 'D', 'D', 'D', 'O', 'O', 'O', 'O', 'T', 'O', 'O', 'O', 'O', 'O', 'O', 'O', 'O', 'O', 'O', 'O', 'O', 'O', 'O', 'O', 'O', 'O', 'O', 'O', 'O', 'O', 'D', 'D', 'D', 'O', 'O', 'O', 'O', 'O', 'O', 'O', 'O', 'O', 'O', 'O', 'O', 'D', 'D', 'D', 'D', 'O', 'T', 'T', 'T', 'T', 'T', 'O', 'O', 'O', 'O', 'O', 'D', 'D', 'D', 'D', 'D', 'O', 'O', 'O', 'O', 'O', 'O', 'O', 'O', 'O', 'O', 'D', 'D', 'D', 'O', 'O', 'T', 'O', 'O', 'O', 'O', 'O', 'O', 'O', 'O', 'D', 'O', 'O', 'O', 'O', 'O', 'O', 'D', 'D', 'D', 'O', 'O', 'O', 'O', 'O', 'O', 'O', 'O', 'T', 'O', 'O', 'O', 'O', 'O', 'O', 'O', 'O', 'O', 'O', 'O', 'O', 'O', 'D', 'D', 'D', 'O', 'O', 'O', 'O', 'O', 'O', 'O', 'O', 'T', 'T', 'T', 'T', 'O', 'O', 'O', 'O', 'D', 'D', 'D', 'D', 'O', 'O', 'O', 'T', 'T', 'O', 'O', 'O', 'O', 'O', 'O', 'O', 'O', 'O', 'O', 'O', 'O', 'O', 'O', 'D', 'D', 'D', 'O', 'D', 'D', 'O', 'O', 'O', 'O', 'O', 'T', 'O', 'O', 'O', 'O', 'O', 'O', 'O', 'O', 'O', 'D', 'D', 'O', 'O', 'O', 'O', 'O', 'O', 'O', 'O', 'T', 'T', 'T', 'O', 'O', 'O', 'O', 'O', 'O', 'O', 'O', 'T', 'T', 'T', 'T', 'O', 'O', 'O', 'D', 'O', 'O', 'O', 'O', 'O', 'O', 'O', 'O', 'O', 'O', 'T', 'T', 'T', 'T', 'T', 'T', 'O', 'O', 'O', 'O', 'O', 'T', 'T', 'T', 'T', 'T', 'T', 'O', 'O', 'O', 'O', 'O', 'O', 'D', 'D', 'D', 'O', 'O', 'O', 'O', 'O', 'T', 'T', 'T', 'T', 'T', 'T', 'T', 'T', 'T', 'T', 'O', 'O', 'O', 'O', 'O', 'O', 'O', 'O', 'O', 'O', 'O', 'O', 'O', 'O', 'O', 'D', 'O', 'O', 'O', 'O', 'O', 'O', 'T', 'T', 'T', 'T', 'T', 'O', 'O', 'O', 'O', 'O', 'O', 'O', 'O', 'O', 'O', 'O', 'O', 'O', 'O', 'O', 'O', 'O', 'O', 'O', 'O', 'O', 'O', 'O', 'O', 'O', 'O', 'D', 'D', 'O', 'O', 'O', 'O', 'O', 'O', 'O', 'O', 'O', 'O', 'O', 'O', 'O', 'O', 'O', 'O', 'O', 'O', 'D', 'D', 'D', 'D', 'D', 'D', 'D', 'D', 'O', 'O', 'O', 'O', 'O', 'O', 'O', 'O', 'O', 'O', 'O', 'O', 'O', 'O', 'O', 'O', 'O', 'O', 'O', 'O', 'O', 'T', 'O', 'O', 'O', 'D', 'D', 'O', 'O', 'O', 'O', 'O', 'O', 'O', 'O', 'O', 'O', 'O', 'O', 'O', 'O', 'O', 'O', 'O', 'O', 'O', 'O', 'O', 'O', 'O', 'O', 'O', 'O', 'O', 'D', 'O', 'T', 'T', 'O', 'O', 'O', 'O', 'O', 'O', 'O', 'O', 'O', 'O', 'O', 'O', 'O', 'D', 'D', 'D', 'D', 'O', 'T', 'T', 'O', 'O', 'O', 'O', 'O', 'O', 'O', 'O', 'O', 'O', 'T', 'T', 'O', 'O', 'O', 'O', 'O', 'O', 'O', 'O', 'O', 'O', 'O', 'O', 'O', 'O', 'D', 'O', 'O', 'O', 'D', 'D', 'D', 'O', 'O', 'O', 'O', 'O', 'O', 'T', 'T', 'T', 'T', 'T', 'T', 'T', 'T', 'T', 'T', 'T', 'T', 'T', 'T', 'O', 'O', 'O', 'O', 'O', 'O', 'O', 'O', 'O', 'O', 'O', 'O', 'O', 'O', 'O', 'O', 'O', 'O', 'O', 'O', 'O', 'O', 'O', 'O', 'O', 'O', 'O', 'O', 'O', 'D', 'D', 'D', 'D', 'D', 'D', 'D', 'D', 'O', 'O', 'O', 'T', 'T', 'T', 'T', 'T', 'T', 'T', 'T', 'T', 'T', 'T', 'T', 'O', 'O', 'O', 'O', 'O', 'O', 'O', 'O', 'O', 'O', 'O', 'O', 'T', 'T', 'T', 'O', 'D', 'D', 'O', 'O', 'O', 'O', 'O', 'O', 'O', 'O', 'O', 'O', 'O', 'O', 'O', 'O', 'O', 'O', 'O', 'O', 'O', 'O', 'O', 'O', 'O', 'O', 'O', 'O', 'O', 'O', 'O', 'T', 'T', 'O', 'O', 'O', 'O', 'O', 'O', 'O', 'O', 'O', 'O', 'O', 'D', 'T', 'T', 'O', 'O', 'O', 'O', 'D', 'D', 'D', 'O', 'O', 'O', 'O', 'O', 'O', 'O', 'O', 'O', 'O', 'O', 'O', 'O', 'O', 'O', 'O', 'O', 'O', 'T', 'T', 'T', 'O', 'O', 'O', 'O', 'O', 'O', 'O', 'O', 'O', 'O', 'D', 'T', 'O', 'O', 'O', 'T', 'T', 'O', 'D', 'D', 'O', 'O', 'O', 'T', 'T', 'T', 'O', 'O', 'O', 'O', 'O', 'O', 'O', 'O', 'O', 'O', 'O', 'D', 'D', 'D', 'O', 'O', 'T', 'T', 'O', 'O', 'O', 'O', 'O', 'O', 'D', 'D', 'D', 'D', 'D', 'O', 'O', 'O', 'O', 'O', 'O', 'O', 'O', 'O', 'O', 'O', 'O', 'O', 'O', 'O', 'O', 'O', 'O', 'O', 'O', 'O', 'O', 'T', 'O', 'O', 'O', 'O', 'O', 'O', 'O', 'O', 'O', 'O', 'D', 'O', 'O', 'O', 'O', 'D', 'O', 'O', 'O', 'O', 'O', 'O', 'T', 'T', 'T', 'T', 'T', 'T', 'T', 'T', 'T', 'D', 'D', 'T', 'T', 'T', 'T', 'T', 'O', 'O', 'O', 'O', 'O', 'O', 'O', 'O', 'D', 'D', 'T', 'T', 'O', 'O', 'O', 'T', 'T', 'T', 'O', 'O', 'O', 'O', 'O', 'D', 'T', 'T', 'T', 'T', 'T', 'T', 'T', 'T', 'T', 'T', 'O', 'O', 'O', 'O', 'O', 'O', 'O', 'O', 'O', 'O', 'O', 'D', 'D', 'D', 'O', 'O', 'O', 'O', 'O', 'O', 'O', 'O', 'O', 'O', 'O', 'O', 'O', 'O', 'O', 'O', 'O', 'O', 'O', 'D', 'D', 'D', 'O', 'O', 'O', 'O', 'O', 'O', 'O', 'O', 'O', 'O', 'T', 'T', 'O', 'O', 'O', 'O', 'O', 'O', 'O', 'D', 'D', 'O', 'O', 'O', 'O', 'T', 'T', 'T', 'O', 'O', 'O', 'O', 'O', 'O', 'O', 'O', 'O', 'O', 'O', 'O', 'O', 'O', 'O', 'T', 'T', 'O', 'O', 'O', 'D', 'D', 'D', 'D', 'D', 'D', 'T', 'T', 'O', 'O', 'O', 'O', 'O', 'O', 'O', 'D', 'D', 'D', 'O', 'O', 'O', 'O', 'O', 'O', 'O', 'O', 'O', 'O', 'O', 'O', 'O', 'O', 'O', 'O', 'O', 'O', 'O', 'O', 'O', 'O', 'O', 'O', 'D', 'D', 'O', 'O', 'O', 'O', 'O', 'O', 'O', 'T', 'T', 'T', 'O', 'O', 'O', 'O', 'O', 'O', 'T', 'O', 'O', 'O', 'O', 'O', 'O', 'O', 'O', 'O', 'O', 'O', 'O', 'O', 'O', 'O', 'O', 'O', 'O', 'O', 'O', 'D', 'D', 'O', 'O', 'O', 'O', 'O', 'O', 'O', 'O', 'O', 'O', 'O', 'O', 'O', 'O', 'O', 'O', 'O', 'O', 'O', 'O', 'O', 'O', 'O', 'O', 'O', 'T', 'T', 'O', 'O', 'O', 'D', 'D', 'D', 'D', 'D', 'D', 'D', 'O', 'O', 'O', 'O', 'O', 'O', 'O', 'O', 'O', 'O', 'O', 'O', 'O', 'O', 'O', 'O', 'O', 'O', 'O', 'O', 'O', 'O', 'O', 'D', 'D', 'O', 'O', 'O', 'O', 'O', 'O', 'O', 'O', 'O', 'O', 'O', 'O', 'O', 'O', 'O', 'D', 'D', 'D', 'O', 'O', 'O', 'O', 'O', 'O', 'T', 'T', 'T', 'O', 'O', 'O', 'O', 'O', 'O', 'O', 'O', 'O', 'O', 'O', 'O', 'O', 'O', 'O', 'O', 'T', 'T', 'T', 'T', 'T', 'T', 'O', 'O', 'O', 'O', 'O', 'O', 'O', 'O', 'O', 'O', 'D', 'D', 'O', 'O', 'O', 'O', 'O', 'O', 'O', 'O', 'O', 'T', 'T', 'O', 'O', 'O', 'O', 'O', 'O', 'O', 'D', 'T', 'O', 'O', 'O', 'O', 'O', 'O', 'O', 'O', 'O', 'O', 'O', 'O', 'O', 'T', 'T', 'O', 'D', 'D', 'O', 'O', 'O', 'T', 'T', 'O', 'O', 'O', 'O', 'O', 'O', 'O', 'O', 'O', 'O', 'O', 'O', 'O', 'O', 'O', 'O', 'O', 'T', 'O', 'O', 'O', 'O', 'O', 'D', 'O', 'T', 'T', 'T', 'O', 'D', 'D', 'O', 'T', 'T', 'O', 'O', 'O', 'O', 'O', 'O', 'O', 'O', 'O', 'T', 'T', 'T', 'T', 'O', 'O', 'O', 'O', 'O', 'O', 'O', 'O', 'T', 'T', 'T', 'T', 'T', 'O', 'O', 'O', 'O', 'O', 'O', 'O', 'O', 'O', 'O', 'O', 'O', 'O', 'O', 'O', 'O', 'D', 'D', 'D', 'D', 'O', 'O', 'O', 'T', 'T', 'O', 'D', 'D', 'D', 'O', 'O', 'O', 'O', 'O', 'O', 'O', 'D', 'O', 'O', 'O', 'O', 'O', 'O', 'O', 'O', 'O', 'O', 'T', 'T', 'O', 'O', 'O', 'O', 'O', 'O', 'O', 'O', 'O', 'O', 'O', 'D', 'D', 'D', 'D', 'O', 'O', 'O', 'O', 'O', 'O', 'O', 'O', 'O', 'O', 'O', 'O', 'O', 'O', 'O', 'O', 'O', 'O', 'O', 'O', 'O', 'O', 'T', 'T', 'T', 'T', 'O', 'O', 'O', 'O', 'O', 'O', 'O', 'D', 'D', 'O', 'O', 'O', 'O', 'O', 'O', 'O', 'O', 'D', 'D', 'O', 'O', 'O', 'O', 'O', 'O', 'O', 'O', 'O', 'O', 'O', 'T', 'T', 'T', 'T', 'T', 'T', 'T', 'T', 'T', 'T', 'T', 'T', 'T', 'T', 'T', 'O', 'D', 'D', 'O', 'O', 'T', 'T', 'T', 'T', 'T', 'T', 'T', 'O', 'O', 'O', 'O', 'O', 'O', 'D', 'D', 'O', 'O', 'O', 'O', 'O', 'O', 'O', 'O', 'O', 'O', 'O', 'T', 'T', 'T', 'T', 'T', 'T', 'T', 'O', 'O', 'D', 'D', 'D', 'O', 'O', 'O', 'O', 'O', 'O', 'O', 'O', 'O', 'O', 'O', 'O', 'O', 'O', 'O', 'O', 'O', 'O', 'O', 'T', 'T', 'O', 'O', 'O', 'O', 'O', 'O', 'D', 'D', 'O', 'O', 'T', 'T', 'O', 'O', 'O', 'O', 'O', 'O', 'O', 'O', 'O', 'D', 'D', 'D', 'T', 'T', 'O', 'D', 'D', 'D', 'O', 'O', 'O', 'O', 'O', 'O', 'O', 'O', 'T', 'T', 'T', 'O', 'D', 'T', 'T', 'O', 'D', 'D', 'D', 'T', 'T', 'O', 'D', 'D', 'D', 'O', 'O', 'O', 'O', 'T', 'T', 'O', 'D', 'D', 'T', 'T', 'O', 'D', 'D', 'O', 'O', 'O', 'D', 'D', 'D', 'O', 'T', 'O', 'O', 'O', 'O', 'D', 'D', 'D', 'O', 'O', 'O', 'O', 'O', 'T', 'O', 'O', 'O', 'O', 'O', 'O', 'T', 'T', 'O', 'O', 'O', 'O', 'O', 'O', 'D', 'D', 'D', 'D', 'D', 'O', 'O', 'O', 'O', 'O', 'O', 'O', 'O', 'T', 'T', 'T', 'O', 'D', 'D', 'T', 'T', 'T', 'O', 'D', 'D', 'T', 'T', 'O', 'D', 'D', 'O', 'O', 'O', 'O', 'T', 'T', 'T', 'O', 'O', 'O', 'D', 'D', 'T', 'T', 'T', 'O', 'D', 'D', 'D', 'D', 'O', 'O', 'O', 'O', 'O', 'O', 'O', 'O', 'O', 'O', 'O', 'O', 'O', 'O', 'O', 'O', 'D', 'D', 'T', 'T', 'T', 'T', 'O', 'O', 'O', 'T', 'T', 'O', 'D', 'D', 'D', 'O', 'O', 'O', 'O', 'O', 'O', 'O', 'O', 'O', 'O', 'O', 'D', 'D', 'O', 'O', 'O', 'O', 'T', 'T', 'T', 'T', 'O', 'D', 'D', 'D', 'T', 'T', 'T', 'T', 'T', 'O', 'O', 'O', 'D', 'D', 'D', 'D', 'D', 'T', 'O', 'O', 'O', 'O', 'O', 'O', 'O', 'O', 'D', 'D', 'D', 'O', 'O', 'O', 'O', 'O', 'O', 'O', 'T', 'T', 'O', 'O', 'O', 'O', 'O', 'D', 'D', 'D', 'T', 'T', 'T', 'T', 'T', 'O', 'O', 'O', 'O', 'O', 'O', 'O', 'O', 'O', 'O', 'O', 'D', 'D', 'D']\n",
      "2827\n"
     ]
    }
   ],
   "source": [
    "from itertools import chain\n",
    "b1 = list(chain.from_iterable(label2_list))\n",
    "print(b1)\n",
    "print(len(b1))"
   ]
  },
  {
   "cell_type": "code",
   "execution_count": 63,
   "metadata": {},
   "outputs": [
    {
     "data": {
      "text/html": [
       "<div>\n",
       "<style scoped>\n",
       "    .dataframe tbody tr th:only-of-type {\n",
       "        vertical-align: middle;\n",
       "    }\n",
       "\n",
       "    .dataframe tbody tr th {\n",
       "        vertical-align: top;\n",
       "    }\n",
       "\n",
       "    .dataframe thead th {\n",
       "        text-align: right;\n",
       "    }\n",
       "</style>\n",
       "<table border=\"1\" class=\"dataframe\">\n",
       "  <thead>\n",
       "    <tr style=\"text-align: right;\">\n",
       "      <th></th>\n",
       "      <th>words</th>\n",
       "    </tr>\n",
       "  </thead>\n",
       "  <tbody>\n",
       "    <tr>\n",
       "      <th>0</th>\n",
       "      <td>&lt;</td>\n",
       "    </tr>\n",
       "    <tr>\n",
       "      <th>1</th>\n",
       "      <td>TO_SEE</td>\n",
       "    </tr>\n",
       "    <tr>\n",
       "      <th>2</th>\n",
       "      <td>&gt;</td>\n",
       "    </tr>\n",
       "    <tr>\n",
       "      <th>3</th>\n",
       "      <td>CONTEXT</td>\n",
       "    </tr>\n",
       "    <tr>\n",
       "      <th>4</th>\n",
       "      <td>:</td>\n",
       "    </tr>\n",
       "    <tr>\n",
       "      <th>...</th>\n",
       "      <td>...</td>\n",
       "    </tr>\n",
       "    <tr>\n",
       "      <th>2822</th>\n",
       "      <td>diagnosed</td>\n",
       "    </tr>\n",
       "    <tr>\n",
       "      <th>2823</th>\n",
       "      <td>or</td>\n",
       "    </tr>\n",
       "    <tr>\n",
       "      <th>2824</th>\n",
       "      <td>responsive</td>\n",
       "    </tr>\n",
       "    <tr>\n",
       "      <th>2825</th>\n",
       "      <td>multiple</td>\n",
       "    </tr>\n",
       "    <tr>\n",
       "      <th>2826</th>\n",
       "      <td>myeloma</td>\n",
       "    </tr>\n",
       "  </tbody>\n",
       "</table>\n",
       "<p>2827 rows × 1 columns</p>\n",
       "</div>"
      ],
      "text/plain": [
       "           words\n",
       "0              <\n",
       "1         TO_SEE\n",
       "2              >\n",
       "3        CONTEXT\n",
       "4              :\n",
       "...          ...\n",
       "2822   diagnosed\n",
       "2823          or\n",
       "2824  responsive\n",
       "2825    multiple\n",
       "2826     myeloma\n",
       "\n",
       "[2827 rows x 1 columns]"
      ]
     },
     "execution_count": 63,
     "metadata": {},
     "output_type": "execute_result"
    }
   ],
   "source": [
    "x_test_sent_words = pd.DataFrame(list(zip(a1)),columns =['words'])\n",
    "x_test_sent_words"
   ]
  },
  {
   "cell_type": "code",
   "execution_count": 64,
   "metadata": {},
   "outputs": [
    {
     "data": {
      "text/html": [
       "<div>\n",
       "<style scoped>\n",
       "    .dataframe tbody tr th:only-of-type {\n",
       "        vertical-align: middle;\n",
       "    }\n",
       "\n",
       "    .dataframe tbody tr th {\n",
       "        vertical-align: top;\n",
       "    }\n",
       "\n",
       "    .dataframe thead th {\n",
       "        text-align: right;\n",
       "    }\n",
       "</style>\n",
       "<table border=\"1\" class=\"dataframe\">\n",
       "  <thead>\n",
       "    <tr style=\"text-align: right;\">\n",
       "      <th></th>\n",
       "      <th>predicted_labels</th>\n",
       "    </tr>\n",
       "  </thead>\n",
       "  <tbody>\n",
       "    <tr>\n",
       "      <th>0</th>\n",
       "      <td>O</td>\n",
       "    </tr>\n",
       "    <tr>\n",
       "      <th>1</th>\n",
       "      <td>O</td>\n",
       "    </tr>\n",
       "    <tr>\n",
       "      <th>2</th>\n",
       "      <td>O</td>\n",
       "    </tr>\n",
       "    <tr>\n",
       "      <th>3</th>\n",
       "      <td>O</td>\n",
       "    </tr>\n",
       "    <tr>\n",
       "      <th>4</th>\n",
       "      <td>O</td>\n",
       "    </tr>\n",
       "    <tr>\n",
       "      <th>...</th>\n",
       "      <td>...</td>\n",
       "    </tr>\n",
       "    <tr>\n",
       "      <th>2822</th>\n",
       "      <td>O</td>\n",
       "    </tr>\n",
       "    <tr>\n",
       "      <th>2823</th>\n",
       "      <td>O</td>\n",
       "    </tr>\n",
       "    <tr>\n",
       "      <th>2824</th>\n",
       "      <td>D</td>\n",
       "    </tr>\n",
       "    <tr>\n",
       "      <th>2825</th>\n",
       "      <td>D</td>\n",
       "    </tr>\n",
       "    <tr>\n",
       "      <th>2826</th>\n",
       "      <td>D</td>\n",
       "    </tr>\n",
       "  </tbody>\n",
       "</table>\n",
       "<p>2827 rows × 1 columns</p>\n",
       "</div>"
      ],
      "text/plain": [
       "     predicted_labels\n",
       "0                   O\n",
       "1                   O\n",
       "2                   O\n",
       "3                   O\n",
       "4                   O\n",
       "...               ...\n",
       "2822                O\n",
       "2823                O\n",
       "2824                D\n",
       "2825                D\n",
       "2826                D\n",
       "\n",
       "[2827 rows x 1 columns]"
      ]
     },
     "execution_count": 64,
     "metadata": {},
     "output_type": "execute_result"
    }
   ],
   "source": [
    "x_test_labels_words = pd.DataFrame(list(zip(b1)),columns =['predicted_labels'])\n",
    "x_test_labels_words"
   ]
  },
  {
   "cell_type": "code",
   "execution_count": 65,
   "metadata": {},
   "outputs": [
    {
     "data": {
      "text/html": [
       "<div>\n",
       "<style scoped>\n",
       "    .dataframe tbody tr th:only-of-type {\n",
       "        vertical-align: middle;\n",
       "    }\n",
       "\n",
       "    .dataframe tbody tr th {\n",
       "        vertical-align: top;\n",
       "    }\n",
       "\n",
       "    .dataframe thead th {\n",
       "        text-align: right;\n",
       "    }\n",
       "</style>\n",
       "<table border=\"1\" class=\"dataframe\">\n",
       "  <thead>\n",
       "    <tr style=\"text-align: right;\">\n",
       "      <th></th>\n",
       "      <th>words</th>\n",
       "      <th>predicted_labels</th>\n",
       "    </tr>\n",
       "  </thead>\n",
       "  <tbody>\n",
       "    <tr>\n",
       "      <th>0</th>\n",
       "      <td>&lt;</td>\n",
       "      <td>O</td>\n",
       "    </tr>\n",
       "    <tr>\n",
       "      <th>1</th>\n",
       "      <td>TO_SEE</td>\n",
       "      <td>O</td>\n",
       "    </tr>\n",
       "    <tr>\n",
       "      <th>2</th>\n",
       "      <td>&gt;</td>\n",
       "      <td>O</td>\n",
       "    </tr>\n",
       "    <tr>\n",
       "      <th>3</th>\n",
       "      <td>CONTEXT</td>\n",
       "      <td>O</td>\n",
       "    </tr>\n",
       "    <tr>\n",
       "      <th>4</th>\n",
       "      <td>:</td>\n",
       "      <td>O</td>\n",
       "    </tr>\n",
       "    <tr>\n",
       "      <th>...</th>\n",
       "      <td>...</td>\n",
       "      <td>...</td>\n",
       "    </tr>\n",
       "    <tr>\n",
       "      <th>2822</th>\n",
       "      <td>diagnosed</td>\n",
       "      <td>O</td>\n",
       "    </tr>\n",
       "    <tr>\n",
       "      <th>2823</th>\n",
       "      <td>or</td>\n",
       "      <td>O</td>\n",
       "    </tr>\n",
       "    <tr>\n",
       "      <th>2824</th>\n",
       "      <td>responsive</td>\n",
       "      <td>D</td>\n",
       "    </tr>\n",
       "    <tr>\n",
       "      <th>2825</th>\n",
       "      <td>multiple</td>\n",
       "      <td>D</td>\n",
       "    </tr>\n",
       "    <tr>\n",
       "      <th>2826</th>\n",
       "      <td>myeloma</td>\n",
       "      <td>D</td>\n",
       "    </tr>\n",
       "  </tbody>\n",
       "</table>\n",
       "<p>2827 rows × 2 columns</p>\n",
       "</div>"
      ],
      "text/plain": [
       "           words predicted_labels\n",
       "0              <                O\n",
       "1         TO_SEE                O\n",
       "2              >                O\n",
       "3        CONTEXT                O\n",
       "4              :                O\n",
       "...          ...              ...\n",
       "2822   diagnosed                O\n",
       "2823          or                O\n",
       "2824  responsive                D\n",
       "2825    multiple                D\n",
       "2826     myeloma                D\n",
       "\n",
       "[2827 rows x 2 columns]"
      ]
     },
     "execution_count": 65,
     "metadata": {},
     "output_type": "execute_result"
    }
   ],
   "source": [
    "test_full_word_labels = pd.concat([x_test_sent_words, x_test_labels_words], axis = 1)\n",
    "test_full_word_labels"
   ]
  },
  {
   "cell_type": "code",
   "execution_count": 66,
   "metadata": {
    "scrolled": true
   },
   "outputs": [
    {
     "data": {
      "text/html": [
       "<div>\n",
       "<style scoped>\n",
       "    .dataframe tbody tr th:only-of-type {\n",
       "        vertical-align: middle;\n",
       "    }\n",
       "\n",
       "    .dataframe tbody tr th {\n",
       "        vertical-align: top;\n",
       "    }\n",
       "\n",
       "    .dataframe thead th {\n",
       "        text-align: right;\n",
       "    }\n",
       "</style>\n",
       "<table border=\"1\" class=\"dataframe\">\n",
       "  <thead>\n",
       "    <tr style=\"text-align: right;\">\n",
       "      <th></th>\n",
       "      <th>words</th>\n",
       "      <th>predicted_labels</th>\n",
       "    </tr>\n",
       "  </thead>\n",
       "  <tbody>\n",
       "    <tr>\n",
       "      <th>17</th>\n",
       "      <td>hereditary</td>\n",
       "      <td>D</td>\n",
       "    </tr>\n",
       "    <tr>\n",
       "      <th>18</th>\n",
       "      <td>retinoblastoma</td>\n",
       "      <td>D</td>\n",
       "    </tr>\n",
       "    <tr>\n",
       "      <th>52</th>\n",
       "      <td>unstable</td>\n",
       "      <td>D</td>\n",
       "    </tr>\n",
       "    <tr>\n",
       "      <th>53</th>\n",
       "      <td>angina</td>\n",
       "      <td>D</td>\n",
       "    </tr>\n",
       "    <tr>\n",
       "      <th>54</th>\n",
       "      <td>or</td>\n",
       "      <td>D</td>\n",
       "    </tr>\n",
       "    <tr>\n",
       "      <th>...</th>\n",
       "      <td>...</td>\n",
       "      <td>...</td>\n",
       "    </tr>\n",
       "    <tr>\n",
       "      <th>2806</th>\n",
       "      <td>ovarian</td>\n",
       "      <td>D</td>\n",
       "    </tr>\n",
       "    <tr>\n",
       "      <th>2807</th>\n",
       "      <td>cancer</td>\n",
       "      <td>D</td>\n",
       "    </tr>\n",
       "    <tr>\n",
       "      <th>2824</th>\n",
       "      <td>responsive</td>\n",
       "      <td>D</td>\n",
       "    </tr>\n",
       "    <tr>\n",
       "      <th>2825</th>\n",
       "      <td>multiple</td>\n",
       "      <td>D</td>\n",
       "    </tr>\n",
       "    <tr>\n",
       "      <th>2826</th>\n",
       "      <td>myeloma</td>\n",
       "      <td>D</td>\n",
       "    </tr>\n",
       "  </tbody>\n",
       "</table>\n",
       "<p>399 rows × 2 columns</p>\n",
       "</div>"
      ],
      "text/plain": [
       "               words predicted_labels\n",
       "17        hereditary                D\n",
       "18    retinoblastoma                D\n",
       "52          unstable                D\n",
       "53            angina                D\n",
       "54                or                D\n",
       "...              ...              ...\n",
       "2806         ovarian                D\n",
       "2807          cancer                D\n",
       "2824      responsive                D\n",
       "2825        multiple                D\n",
       "2826         myeloma                D\n",
       "\n",
       "[399 rows x 2 columns]"
      ]
     },
     "execution_count": 66,
     "metadata": {},
     "output_type": "execute_result"
    }
   ],
   "source": [
    "disease = test_full_word_labels.loc[test_full_word_labels['predicted_labels'].str.contains(\"D\")]\n",
    "disease"
   ]
  },
  {
   "cell_type": "code",
   "execution_count": 67,
   "metadata": {},
   "outputs": [],
   "source": [
    "disease_words = disease['words'].tolist()"
   ]
  },
  {
   "cell_type": "code",
   "execution_count": 68,
   "metadata": {},
   "outputs": [],
   "source": [
    "def unique(list1):\n",
    "    x = np.array(list1)\n",
    "    print(np.unique(x))"
   ]
  },
  {
   "cell_type": "code",
   "execution_count": 69,
   "metadata": {
    "scrolled": true
   },
   "outputs": [
    {
     "name": "stdout",
     "output_type": "stream",
     "text": [
      "[\"'s\" '(' ')' ',' '0' 'B' 'B16' 'C' 'Contemporary' 'Eisenmenger' 'IIB-IVB'\n",
      " 'PSC' 'Parkinson' 'TNM' 'a' 'abdominal' 'achalasia' 'acoustic' 'acute'\n",
      " 'adenocarcinoma' 'adhesive' 'advanced' 'and' 'anemia' 'angina'\n",
      " 'angiogenesis' 'arachnoiditis' 'artery' 'arthropathy' 'as' 'asthma'\n",
      " 'attributable' 'autoimmune' 'azoospermia' 'benign' 'biliary' 'bladder'\n",
      " 'brain' 'breast' 'bronchial' 'bronchiectasis' 'cancer' 'carcinoma' 'cell'\n",
      " 'cellulitis' 'cerebral' 'cholangitis' 'cholestasis' 'chronic' 'cold'\n",
      " 'colorectal' 'common' 'coronary-artery' 'diabetic' 'disease' 'diseases'\n",
      " 'disseminated' 'dyskinesia' 'early' 'early-stage' 'effusions' 'embolism'\n",
      " 'epithelial' 'esophageal' 'extensive' 'failure' 'female' 'foot' 'from'\n",
      " 'fungoides' 'hairy' 'head' 'hemolytic' 'hemorrhage' 'hepatic' 'hepatitis'\n",
      " 'hereditary' 'high-grade' 'hormone' 'hyperplasia' 'hypertension'\n",
      " 'hypospadias' 'hypoxemia' 'i' 'iii' 'iiib' 'in' 'incontinence'\n",
      " 'infarction' 'infection' 'inflammatory' 'inoperable' 'intraluminal'\n",
      " 'ischemia' 'joint' 'la-nsclc' 'large-bowel' 'leukemia' 'limited'\n",
      " 'limited-stage' 'locally' 'low-grade' 'lung' 'lymphoma' 'major'\n",
      " 'malignancies' 'malignant' 'melanoma' 'mesothelioma' 'metastases'\n",
      " 'metastasis' 'metastatic' 'middle' 'mitomycin-resistant' 'moderately'\n",
      " 'multiple' 'mycosis' 'myeloma' 'myelopathy' 'myocardial' 'neck' 'neuroma'\n",
      " 'neutropenia' 'node' 'non-Hodgkin' 'non-Q-wave' 'non-hodgkin'\n",
      " 'non-obstructive' 'non-sclc' 'non-small' 'non-small-cell'\n",
      " 'non-small-cell-lung-cancer' 'nsclc' 'occlusion' 'of' 'or' 'ovarian'\n",
      " 'pain' 'palsy' 'partial' 'pathologic' 'peritonitis' 'persistent'\n",
      " 'phaeochromocytoma' 'platinum-pretreated' 'pleural' 'postvitrectomy'\n",
      " 'preeclampsia' 'primary' 'prostate' 'prostatic' 'proteinuric' 'proximal'\n",
      " 'pulmonary' 'radiation-induced' 'rectal' 'refractory' 'renal'\n",
      " 'responsive' 'retinoblastoma' 'rhinovirus' 'sarcomas' 'sclc' 'sclerosing'\n",
      " 'sclerosis' 'secondary' 'seizures' 'severe' 'single' 'skin' 'small'\n",
      " 'small-cell' 'soft' 'spinal' 'squamous' 'stage' 'stenosis' 'stomach'\n",
      " 'stress' 'such' 'supraclavicular' 'symptomatic' 'symptoms' 'syndrome'\n",
      " 'tachycardia' 'temporomandibular' 'the' 'tissue' 'tumors' 'unresectable'\n",
      " 'unstable' 'untreated' 'urinary' 'uveal' 'ventricular' 'viremia'\n",
      " 'vitreous' 'xerostomia']\n"
     ]
    }
   ],
   "source": [
    "unique(disease_words)"
   ]
  },
  {
   "cell_type": "code",
   "execution_count": 70,
   "metadata": {},
   "outputs": [],
   "source": [
    "diseases_list = [\"'s\", 'B16', 'Contemporary', 'Eisenmenger','IIB-IVB', 'PSC', 'Parkinson', 'TNM', 'abdominal',\n",
    " 'achalasia', 'acute','acoustic', 'adenocarcinoma', 'adhesive', 'advanced', 'anemia', 'angina','angiogenesis',\n",
    " 'arachnoiditis' ,'artery', 'arthropathy', 'asthma','attributable', 'autoimmune','azoospermia', 'benign', 'biliary',\n",
    " 'bladder','brain', 'breast','bronchial', 'bronchiectasis', 'cancer', 'carcinoma',  'cellulitis', 'cerebral',\n",
    " 'cholangitis', 'cholestasis', 'chronic', 'cold', 'colic', 'colorectal' ,'common', 'coronary-artery', 'diabetic',\n",
    " 'disease','diseases','disseminated', 'dyskinesia', 'early', 'early-stage','effusions', 'embolism', 'epithelial',\n",
    " 'esophageal', 'extensive', 'failure', 'female', 'foot', 'fungoides', 'hairy', 'head', 'hemolytic', 'hemorrhage',\n",
    " 'hepatic', 'hepatitis', 'hereditary', 'high-grade', 'hormone', 'hyperplasia', 'hypertension', 'hypospadias',\n",
    " 'hypoxemia', 'incontinence', 'infarction', 'infection', 'inflammatory', 'inoperable', 'intraluminal', 'ischemia',\n",
    " 'joint', 'la-nsclc', 'large-bowel', 'leukemia', 'limited', 'limited-stage', 'locally', 'low-grade', 'lung','lymphoma',\n",
    " 'major', 'malignancies', 'malignant', 'melanoma', 'mesothelioma', 'metastases', 'metastasis', 'metastatic',\n",
    " 'middle', 'mitomycin-resistant', 'moderately', 'multiple', 'mycosis', 'myeloma', 'myelopathy', 'myocardial', 'neck',\n",
    " 'neuroma', 'neutropenia', 'node', 'non-Hodgkin', 'non-Q-wave', 'non-hodgkin', 'non-obstructive','non-sclc', \n",
    " 'non-small', 'non-small-cell', 'non-small-cell-lung-cancer', 'nsclc', 'occlusion', 'ovarian','pain', 'palsy',\n",
    " 'partial', 'pathologic', 'peritonitis', 'persistent', 'phaeochromocytoma', 'platinum-pretreated', 'pleural',\n",
    " 'postvitrectomy', 'preeclampsia', 'primary', 'prostate', 'prostatic', 'proteinuric', 'proximal', 'pulmonary',\n",
    " 'radiation-induced','rectal', 'refractory', 'renal', 'responsive', 'retinoblastoma', 'rhinovirus',\n",
    " 'sarcomas','sclc', 'sclerosing', 'sclerosis', 'secondary', 'seizures', 'severe', 'single','skin', 'small',\n",
    " 'small-cell', 'soft', 'spinal', 'squamous', 'stage', 'stenosis', 'stomach', 'stress', 'such', 'supraclavicular',\n",
    " 'symptomatic', 'symptoms', 'syndrome', 'tachycardia', 'temporomandibular', 'tissue', 'tumors', 'unresectable',\n",
    " 'unstable', 'untreated', 'urinary', 'uveal', 'ventricular', 'viremia', 'vitreous', 'xerostomia']\n",
    "pattern = '|'.join(diseases_list)"
   ]
  },
  {
   "cell_type": "code",
   "execution_count": 71,
   "metadata": {},
   "outputs": [],
   "source": [
    "test_full_final2['Disease'] = test_full_final2['Sentence'].str.findall(pattern)"
   ]
  },
  {
   "cell_type": "code",
   "execution_count": 72,
   "metadata": {},
   "outputs": [],
   "source": [
    "test_full_final2 = test_full_final2.drop(['Predicted_Labels', 'liststring'], axis=1)"
   ]
  },
  {
   "cell_type": "code",
   "execution_count": 73,
   "metadata": {},
   "outputs": [
    {
     "data": {
      "text/html": [
       "<div>\n",
       "<style scoped>\n",
       "    .dataframe tbody tr th:only-of-type {\n",
       "        vertical-align: middle;\n",
       "    }\n",
       "\n",
       "    .dataframe tbody tr th {\n",
       "        vertical-align: top;\n",
       "    }\n",
       "\n",
       "    .dataframe thead th {\n",
       "        text-align: right;\n",
       "    }\n",
       "</style>\n",
       "<table border=\"1\" class=\"dataframe\">\n",
       "  <thead>\n",
       "    <tr style=\"text-align: right;\">\n",
       "      <th></th>\n",
       "      <th>Sentence</th>\n",
       "      <th>Disease</th>\n",
       "    </tr>\n",
       "  </thead>\n",
       "  <tbody>\n",
       "    <tr>\n",
       "      <th>46</th>\n",
       "      <td>&lt; TO_SEE &gt; CONTEXT : There is a substantial ri...</td>\n",
       "      <td>[cancer, hereditary, retinoblastoma]</td>\n",
       "    </tr>\n",
       "    <tr>\n",
       "      <th>71</th>\n",
       "      <td>METHODS : The effect of roxithromycin was asse...</td>\n",
       "      <td>[unstable, angina, non-Q-wave, myocardial, inf...</td>\n",
       "    </tr>\n",
       "    <tr>\n",
       "      <th>73</th>\n",
       "      <td>INTERPRETATION : Antichlamydial antibiotics ma...</td>\n",
       "      <td>[coronary-artery, disease]</td>\n",
       "    </tr>\n",
       "    <tr>\n",
       "      <th>155</th>\n",
       "      <td>&lt; TO_SEE &gt; FINDINGS : G-CSF therapy was associ...</td>\n",
       "      <td>[cellulitis]</td>\n",
       "    </tr>\n",
       "    <tr>\n",
       "      <th>157</th>\n",
       "      <td>INTERPRETATION : G-CSF treatment was associate...</td>\n",
       "      <td>[foot, infection, diabetic]</td>\n",
       "    </tr>\n",
       "    <tr>\n",
       "      <th>...</th>\n",
       "      <td>...</td>\n",
       "      <td>...</td>\n",
       "    </tr>\n",
       "    <tr>\n",
       "      <th>1039</th>\n",
       "      <td>Surgical management of severe secondary perito...</td>\n",
       "      <td>[severe, secondary, peritonitis]</td>\n",
       "    </tr>\n",
       "    <tr>\n",
       "      <th>1042</th>\n",
       "      <td>Hepatic arterial infusion of chemotherapy afte...</td>\n",
       "      <td>[hepatic, metastases, colorectal, cancer]</td>\n",
       "    </tr>\n",
       "    <tr>\n",
       "      <th>1050</th>\n",
       "      <td>Epoetin : a pharmacoeconomic review of its use...</td>\n",
       "      <td>[chronic, renal, failure]</td>\n",
       "    </tr>\n",
       "    <tr>\n",
       "      <th>1053</th>\n",
       "      <td>High-dose chemotherapy with autologous stem-ce...</td>\n",
       "      <td>[epithelial, ovarian, cancer]</td>\n",
       "    </tr>\n",
       "    <tr>\n",
       "      <th>1054</th>\n",
       "      <td>`` Tandem '' high-dose chemoradiotherapy with ...</td>\n",
       "      <td>[responsive, multiple, myeloma]</td>\n",
       "    </tr>\n",
       "  </tbody>\n",
       "</table>\n",
       "<p>122 rows × 2 columns</p>\n",
       "</div>"
      ],
      "text/plain": [
       "                                               Sentence  \\\n",
       "46    < TO_SEE > CONTEXT : There is a substantial ri...   \n",
       "71    METHODS : The effect of roxithromycin was asse...   \n",
       "73    INTERPRETATION : Antichlamydial antibiotics ma...   \n",
       "155   < TO_SEE > FINDINGS : G-CSF therapy was associ...   \n",
       "157   INTERPRETATION : G-CSF treatment was associate...   \n",
       "...                                                 ...   \n",
       "1039  Surgical management of severe secondary perito...   \n",
       "1042  Hepatic arterial infusion of chemotherapy afte...   \n",
       "1050  Epoetin : a pharmacoeconomic review of its use...   \n",
       "1053  High-dose chemotherapy with autologous stem-ce...   \n",
       "1054  `` Tandem '' high-dose chemoradiotherapy with ...   \n",
       "\n",
       "                                                Disease  \n",
       "46                 [cancer, hereditary, retinoblastoma]  \n",
       "71    [unstable, angina, non-Q-wave, myocardial, inf...  \n",
       "73                           [coronary-artery, disease]  \n",
       "155                                        [cellulitis]  \n",
       "157                         [foot, infection, diabetic]  \n",
       "...                                                 ...  \n",
       "1039                   [severe, secondary, peritonitis]  \n",
       "1042          [hepatic, metastases, colorectal, cancer]  \n",
       "1050                          [chronic, renal, failure]  \n",
       "1053                      [epithelial, ovarian, cancer]  \n",
       "1054                    [responsive, multiple, myeloma]  \n",
       "\n",
       "[122 rows x 2 columns]"
      ]
     },
     "execution_count": 73,
     "metadata": {},
     "output_type": "execute_result"
    }
   ],
   "source": [
    "test_full_final2"
   ]
  },
  {
   "cell_type": "code",
   "execution_count": 74,
   "metadata": {},
   "outputs": [
    {
     "data": {
      "text/html": [
       "<div>\n",
       "<style scoped>\n",
       "    .dataframe tbody tr th:only-of-type {\n",
       "        vertical-align: middle;\n",
       "    }\n",
       "\n",
       "    .dataframe tbody tr th {\n",
       "        vertical-align: top;\n",
       "    }\n",
       "\n",
       "    .dataframe thead th {\n",
       "        text-align: right;\n",
       "    }\n",
       "</style>\n",
       "<table border=\"1\" class=\"dataframe\">\n",
       "  <thead>\n",
       "    <tr style=\"text-align: right;\">\n",
       "      <th></th>\n",
       "      <th>words</th>\n",
       "      <th>predicted_labels</th>\n",
       "    </tr>\n",
       "  </thead>\n",
       "  <tbody>\n",
       "    <tr>\n",
       "      <th>24</th>\n",
       "      <td>radiotherapy</td>\n",
       "      <td>T</td>\n",
       "    </tr>\n",
       "    <tr>\n",
       "      <th>30</th>\n",
       "      <td>roxithromycin</td>\n",
       "      <td>T</td>\n",
       "    </tr>\n",
       "    <tr>\n",
       "      <th>60</th>\n",
       "      <td>Antichlamydial</td>\n",
       "      <td>T</td>\n",
       "    </tr>\n",
       "    <tr>\n",
       "      <th>61</th>\n",
       "      <td>antibiotics</td>\n",
       "      <td>T</td>\n",
       "    </tr>\n",
       "    <tr>\n",
       "      <th>83</th>\n",
       "      <td>G-CSF</td>\n",
       "      <td>T</td>\n",
       "    </tr>\n",
       "    <tr>\n",
       "      <th>...</th>\n",
       "      <td>...</td>\n",
       "      <td>...</td>\n",
       "    </tr>\n",
       "    <tr>\n",
       "      <th>2808</th>\n",
       "      <td>``</td>\n",
       "      <td>T</td>\n",
       "    </tr>\n",
       "    <tr>\n",
       "      <th>2809</th>\n",
       "      <td>Tandem</td>\n",
       "      <td>T</td>\n",
       "    </tr>\n",
       "    <tr>\n",
       "      <th>2810</th>\n",
       "      <td>''</td>\n",
       "      <td>T</td>\n",
       "    </tr>\n",
       "    <tr>\n",
       "      <th>2811</th>\n",
       "      <td>high-dose</td>\n",
       "      <td>T</td>\n",
       "    </tr>\n",
       "    <tr>\n",
       "      <th>2812</th>\n",
       "      <td>chemoradiotherapy</td>\n",
       "      <td>T</td>\n",
       "    </tr>\n",
       "  </tbody>\n",
       "</table>\n",
       "<p>434 rows × 2 columns</p>\n",
       "</div>"
      ],
      "text/plain": [
       "                  words predicted_labels\n",
       "24         radiotherapy                T\n",
       "30        roxithromycin                T\n",
       "60       Antichlamydial                T\n",
       "61          antibiotics                T\n",
       "83                G-CSF                T\n",
       "...                 ...              ...\n",
       "2808                 ``                T\n",
       "2809             Tandem                T\n",
       "2810                 ''                T\n",
       "2811          high-dose                T\n",
       "2812  chemoradiotherapy                T\n",
       "\n",
       "[434 rows x 2 columns]"
      ]
     },
     "execution_count": 74,
     "metadata": {},
     "output_type": "execute_result"
    }
   ],
   "source": [
    "treatment = test_full_word_labels.loc[test_full_word_labels['predicted_labels'].str.contains(\"T\")]\n",
    "treatment"
   ]
  },
  {
   "cell_type": "code",
   "execution_count": 75,
   "metadata": {},
   "outputs": [],
   "source": [
    "treatment_words = treatment['words'].tolist()"
   ]
  },
  {
   "cell_type": "code",
   "execution_count": 76,
   "metadata": {
    "scrolled": true
   },
   "outputs": [
    {
     "name": "stdout",
     "output_type": "stream",
     "text": [
      "[\"''\" '(' ')' ',' '125' '5-fluorouracil' 'A' 'Adrenalectomy'\n",
      " 'Antichlamydial' 'Antiplatelet' 'C' 'CDDP' 'Cholecystectomy'\n",
      " 'Combination' 'Current' 'Elective' 'Epoetin' 'Fluticasone' 'G-CSF' 'Gene'\n",
      " 'Guiding' 'Hepatic' 'High-dose' 'Hoffmann' 'Hormone' 'Hyperbaric' 'IFN'\n",
      " 'Immunotherapy' 'Interferon' 'Intravenous' 'LTG' 'LV' 'La' 'MF59'\n",
      " 'Macrolide' 'Microelectrode-guided' 'Nerve-sparing' 'Non-steroidal'\n",
      " 'Peripheral' 'Radiotherapy' 'Ribavirin' 'Roche' 'Roferon-A' 'Ropinirole'\n",
      " 'Stereotactic' 'Surgical' 'TEFNA' 'TESE' 'Tandem' 'Thrombolytic'\n",
      " 'Trisomy' 'Tubularized' 'UFT' '``' 'a' 'acetaminophen' 'adjuvant'\n",
      " 'administration' 'agent' 'alfa-2a' 'alfa-N1' 'alone' 'alpha' 'amifostine'\n",
      " 'amoxicillin' 'and' 'anti-inflammatory' 'antibiotic' 'antibiotics'\n",
      " 'antileukemic' 'arterial' 'arthroscopic' 'aspiration' 'assessing' 'beta'\n",
      " 'biopsy' 'bleomycin' 'block' 'botulinum' 'budesonide' 'buthionine'\n",
      " 'cancer' 'carboplatin' 'chemo-' 'chemoradiotherapy' 'chemotherapeutic'\n",
      " 'chemotherapy' 'cholecystectomy' 'cisplatin' 'clarithromycin'\n",
      " 'combination' 'combined-modality' 'conservative' 'consisting'\n",
      " 'containing' 'corticosteroids' 'cranial' 'crude' 'cryotherapy' 'curative'\n",
      " 'derivative' 'dilation' 'donor' 'dose' 'doxorubicin' 'drugs' 'enoxaparin'\n",
      " 'evaluate' 'extraction' 'fine' 'first-line' 'glucocorticoid' 'got'\n",
      " 'guidelines' 'hdIVIg' 'hemodynamics' 'heparin' 'high-dose' 'hypospadias'\n",
      " 'ifosfamide' 'immunoglobulin' 'in' 'incised' 'infusion' 'inhaled'\n",
      " 'injection' 'insemination' 'interferon' 'interferon-alpha' 'interstitial'\n",
      " 'intrauterine' 'intravenous' 'involving' 'iodine' 'irinotecan'\n",
      " 'irradiation' 'lamotrigine' 'laparoscopic' 'leucovorin' 'leukocyte'\n",
      " 'list' 'lobectomy' 'management' 'mastectomy' 'metastasectomy'\n",
      " 'methotrexate' 'mitomycin' 'monotherapy' 'myotomy' 'needle' 'of'\n",
      " 'omeprazole' 'open' 'or' 'oral' 'organ' 'oxaliplatin' 'oxygen'\n",
      " 'paclitaxel' 'pallidotomy' 'paravertebral' 'partial' 'pc'\n",
      " 'pharmacological' 'photodynamic' 'planned' 'plate' 'platinum'\n",
      " 'platinum-based' 'plus' 'pneumatic' 'posteroventral' 'postoperative'\n",
      " 'potential' 'preparations' 'program' 'prolongs' 'prophylactic'\n",
      " 'propionate' 'prostatectomy' 'pseudoephedrine' 'pulse' 'rIFN-alpha'\n",
      " 'radiation' 'radical' 'radiosurgery' 'radiotherapy' 'recombinant'\n",
      " 'repair' 'replacement' 'resection' 'retinal' 'rhg-csf' 'right-side'\n",
      " 'roxithromycin' 'sequential' 'several' 'single' 'sperm' 'studies'\n",
      " 'subcutaneous' 'sulfoximine' 'support' 'surgery' 'surgical' 'systemic'\n",
      " 'testicular' 'therapeutic' 'therapy' 'thermotherapy' 'thoracic'\n",
      " 'thoracotomy' 'thrombolytic' 'topical' 'toxin' 'transplantation'\n",
      " 'transpupillary' 'treatment' 'uft' 'undergone' 'vaccine' 'various'\n",
      " 'vascular' 'vats' 'vc' 'versus' 'videothoracoscopic' 'vinorelbine' 'vip'\n",
      " 'weekly' 'with']\n"
     ]
    }
   ],
   "source": [
    "unique(treatment_words)"
   ]
  },
  {
   "cell_type": "code",
   "execution_count": 77,
   "metadata": {},
   "outputs": [],
   "source": [
    "treatments_list = ['125', '5-fluorouracil', 'Adrenalectomy', 'Antichlamydial', 'Antiplatelet', 'CDDP', 'Cholecystectomy',\n",
    " 'Combination', 'Current', 'Elective', 'Epoetin' , 'Fluticasone','G-CSF', 'Gene', 'Guiding', 'Hepatic', 'High-dose',\n",
    " 'Hoffmann', 'Hormone', 'Hyperbaric', 'IFN', 'Immunotherapy', 'Interferon', 'Intravenous', 'LTG', 'LV', 'La' , 'MF59',\n",
    " 'Macrolide', 'Microelectrode-guided', 'Nerve-sparing', 'Non-steroidal', 'Peripheral', 'Radiotherapy', 'Ribavirin', 'Roche',\n",
    " 'Roferon-A', 'Ropinirole', 'Stereotactic', 'Surgical', 'TEFNA', 'TESE', 'Tandem', 'Thrombolytic', 'Trisomy', 'Tubularized',\n",
    " 'UFT', 'acetaminophen', 'adjuvant', 'administration' , 'agent', 'alfa-2a', 'alfa-N1', 'alone', 'alpha', 'amifostine',\n",
    " 'amoxicillin', 'anti-inflammatory', 'antibiotic', 'antibiotics', 'antileukemic', 'arterial', 'arthroscopic', 'aspiration',\n",
    " 'assessing', 'beta', 'biopsy', 'bleomycin', 'block', 'botulinum', 'budesonide', 'buthionine', 'carboplatin', 'chemo-',\n",
    " 'chemoradiotherapy', 'chemotherapeutic','chemotherapy', 'cholecystectomy', 'cisplatin', 'clarithromycin', 'combination',\n",
    " 'combined-modality', 'conservative', 'consisting', 'containing', 'corticosteroids', 'cranial', 'crude', 'cryotherapy',\n",
    " 'curative', 'derivative', 'dilation', 'donor', 'dose', 'doxorubicin', 'drugs', 'enoxaparin', 'evaluate', 'extraction',\n",
    " 'fine', 'first-line', 'glucocorticoid', 'got', 'guidelines', 'hdIVIg', 'hemodynamics', 'heparin','high-dose','hypospadias', \n",
    " 'ifosfamide','immunoglobulin', 'incised', 'infusion', 'inhaled', 'injection', 'insemination', 'interferon', 'interstitial',\n",
    " 'interferon-alpha', 'intrauterine', 'intravenous', 'involving', 'iodine', 'irinotecan', 'irradiation', 'lamotrigine',\n",
    " 'laparoscopic', 'leucovorin', 'leukocyte', 'lobectomy', 'management', 'mastectomy', 'list', 'metastasectomy','methotrexate',\n",
    " 'mitomycin', 'monotherapy', 'myotomy', 'needle', 'omeprazole', 'open', 'oral', 'organ', 'oxaliplatin', 'oxygen',\n",
    " 'paclitaxel', 'pallidotomy', 'paravertebral', 'partial', 'pc', 'pharmacological', 'plate', 'photodynamic', 'planned',\n",
    " 'platinum', 'platinum-based', 'plus', 'pneumatic', 'posteroventral', 'postoperative', 'potential', 'preparations',\n",
    " 'program', 'prolongs', 'prophylactic', 'propionate', 'prostatectomy', 'pseudoephedrine', 'pulse', 'rIFN-alpha','radiation',\n",
    " 'radical', 'radiosurgery', 'radiotherapy', 'recombinant', 'repair', 'replacement', 'resection', 'retinal', 'rhg-csf',\n",
    " 'right-side', 'roxithromycin', 'sequential', 'several', 'single', 'sperm', 'studies', 'subcutaneous', 'sulfoximine',\n",
    " 'support', 'surgery', 'surgical', 'systemic', 'testicular', 'therapeutic', 'therapy', 'thermotherapy', 'thoracic',\n",
    " 'thoracotomy', 'thrombolytic', 'topical', 'toxin', 'transplantation', 'transpupillary', 'treatment', 'uft', 'undergone',\n",
    " 'vaccine', 'various', 'vats', 'vc', 'versus', 'videothoracoscopic', 'vinorelbine', 'weekly']\n",
    "pattern2 = '|'.join(treatments_list)"
   ]
  },
  {
   "cell_type": "code",
   "execution_count": 78,
   "metadata": {},
   "outputs": [],
   "source": [
    "test_full_final2['Treatment'] = test_full_final2['Sentence'].str.findall(pattern2)"
   ]
  },
  {
   "cell_type": "code",
   "execution_count": 79,
   "metadata": {},
   "outputs": [
    {
     "data": {
      "text/html": [
       "<div>\n",
       "<style scoped>\n",
       "    .dataframe tbody tr th:only-of-type {\n",
       "        vertical-align: middle;\n",
       "    }\n",
       "\n",
       "    .dataframe tbody tr th {\n",
       "        vertical-align: top;\n",
       "    }\n",
       "\n",
       "    .dataframe thead th {\n",
       "        text-align: right;\n",
       "    }\n",
       "</style>\n",
       "<table border=\"1\" class=\"dataframe\">\n",
       "  <thead>\n",
       "    <tr style=\"text-align: right;\">\n",
       "      <th></th>\n",
       "      <th>Sentence</th>\n",
       "      <th>Disease</th>\n",
       "      <th>Treatment</th>\n",
       "    </tr>\n",
       "  </thead>\n",
       "  <tbody>\n",
       "    <tr>\n",
       "      <th>46</th>\n",
       "      <td>&lt; TO_SEE &gt; CONTEXT : There is a substantial ri...</td>\n",
       "      <td>[cancer, hereditary, retinoblastoma]</td>\n",
       "      <td>[radiotherapy]</td>\n",
       "    </tr>\n",
       "    <tr>\n",
       "      <th>71</th>\n",
       "      <td>METHODS : The effect of roxithromycin was asse...</td>\n",
       "      <td>[unstable, angina, non-Q-wave, myocardial, inf...</td>\n",
       "      <td>[roxithromycin]</td>\n",
       "    </tr>\n",
       "    <tr>\n",
       "      <th>73</th>\n",
       "      <td>INTERPRETATION : Antichlamydial antibiotics ma...</td>\n",
       "      <td>[coronary-artery, disease]</td>\n",
       "      <td>[Antichlamydial, antibiotic, therapeutic]</td>\n",
       "    </tr>\n",
       "    <tr>\n",
       "      <th>155</th>\n",
       "      <td>&lt; TO_SEE &gt; FINDINGS : G-CSF therapy was associ...</td>\n",
       "      <td>[cellulitis]</td>\n",
       "      <td>[G-CSF, therapy, intravenous, antibiotic, trea...</td>\n",
       "    </tr>\n",
       "    <tr>\n",
       "      <th>157</th>\n",
       "      <td>INTERPRETATION : G-CSF treatment was associate...</td>\n",
       "      <td>[foot, infection, diabetic]</td>\n",
       "      <td>[G-CSF, treatment]</td>\n",
       "    </tr>\n",
       "    <tr>\n",
       "      <th>...</th>\n",
       "      <td>...</td>\n",
       "      <td>...</td>\n",
       "      <td>...</td>\n",
       "    </tr>\n",
       "    <tr>\n",
       "      <th>1039</th>\n",
       "      <td>Surgical management of severe secondary perito...</td>\n",
       "      <td>[severe, secondary, peritonitis]</td>\n",
       "      <td>[Surgical, management]</td>\n",
       "    </tr>\n",
       "    <tr>\n",
       "      <th>1042</th>\n",
       "      <td>Hepatic arterial infusion of chemotherapy afte...</td>\n",
       "      <td>[hepatic, metastases, colorectal, cancer]</td>\n",
       "      <td>[Hepatic, arterial, infusion, chemotherapy, re...</td>\n",
       "    </tr>\n",
       "    <tr>\n",
       "      <th>1050</th>\n",
       "      <td>Epoetin : a pharmacoeconomic review of its use...</td>\n",
       "      <td>[chronic, renal, failure]</td>\n",
       "      <td>[Epoetin]</td>\n",
       "    </tr>\n",
       "    <tr>\n",
       "      <th>1053</th>\n",
       "      <td>High-dose chemotherapy with autologous stem-ce...</td>\n",
       "      <td>[epithelial, ovarian, cancer]</td>\n",
       "      <td>[High-dose, chemotherapy, support]</td>\n",
       "    </tr>\n",
       "    <tr>\n",
       "      <th>1054</th>\n",
       "      <td>`` Tandem '' high-dose chemoradiotherapy with ...</td>\n",
       "      <td>[responsive, multiple, myeloma]</td>\n",
       "      <td>[Tandem, high-dose, chemoradiotherapy, support...</td>\n",
       "    </tr>\n",
       "  </tbody>\n",
       "</table>\n",
       "<p>122 rows × 3 columns</p>\n",
       "</div>"
      ],
      "text/plain": [
       "                                               Sentence  \\\n",
       "46    < TO_SEE > CONTEXT : There is a substantial ri...   \n",
       "71    METHODS : The effect of roxithromycin was asse...   \n",
       "73    INTERPRETATION : Antichlamydial antibiotics ma...   \n",
       "155   < TO_SEE > FINDINGS : G-CSF therapy was associ...   \n",
       "157   INTERPRETATION : G-CSF treatment was associate...   \n",
       "...                                                 ...   \n",
       "1039  Surgical management of severe secondary perito...   \n",
       "1042  Hepatic arterial infusion of chemotherapy afte...   \n",
       "1050  Epoetin : a pharmacoeconomic review of its use...   \n",
       "1053  High-dose chemotherapy with autologous stem-ce...   \n",
       "1054  `` Tandem '' high-dose chemoradiotherapy with ...   \n",
       "\n",
       "                                                Disease  \\\n",
       "46                 [cancer, hereditary, retinoblastoma]   \n",
       "71    [unstable, angina, non-Q-wave, myocardial, inf...   \n",
       "73                           [coronary-artery, disease]   \n",
       "155                                        [cellulitis]   \n",
       "157                         [foot, infection, diabetic]   \n",
       "...                                                 ...   \n",
       "1039                   [severe, secondary, peritonitis]   \n",
       "1042          [hepatic, metastases, colorectal, cancer]   \n",
       "1050                          [chronic, renal, failure]   \n",
       "1053                      [epithelial, ovarian, cancer]   \n",
       "1054                    [responsive, multiple, myeloma]   \n",
       "\n",
       "                                              Treatment  \n",
       "46                                       [radiotherapy]  \n",
       "71                                      [roxithromycin]  \n",
       "73            [Antichlamydial, antibiotic, therapeutic]  \n",
       "155   [G-CSF, therapy, intravenous, antibiotic, trea...  \n",
       "157                                  [G-CSF, treatment]  \n",
       "...                                                 ...  \n",
       "1039                             [Surgical, management]  \n",
       "1042  [Hepatic, arterial, infusion, chemotherapy, re...  \n",
       "1050                                          [Epoetin]  \n",
       "1053                 [High-dose, chemotherapy, support]  \n",
       "1054  [Tandem, high-dose, chemoradiotherapy, support...  \n",
       "\n",
       "[122 rows x 3 columns]"
      ]
     },
     "execution_count": 79,
     "metadata": {},
     "output_type": "execute_result"
    }
   ],
   "source": [
    "test_full_final2"
   ]
  },
  {
   "cell_type": "code",
   "execution_count": 80,
   "metadata": {},
   "outputs": [
    {
     "data": {
      "text/html": [
       "<div>\n",
       "<style scoped>\n",
       "    .dataframe tbody tr th:only-of-type {\n",
       "        vertical-align: middle;\n",
       "    }\n",
       "\n",
       "    .dataframe tbody tr th {\n",
       "        vertical-align: top;\n",
       "    }\n",
       "\n",
       "    .dataframe thead th {\n",
       "        text-align: right;\n",
       "    }\n",
       "</style>\n",
       "<table border=\"1\" class=\"dataframe\">\n",
       "  <thead>\n",
       "    <tr style=\"text-align: right;\">\n",
       "      <th></th>\n",
       "      <th>Disease</th>\n",
       "      <th>Treatment</th>\n",
       "    </tr>\n",
       "  </thead>\n",
       "  <tbody>\n",
       "    <tr>\n",
       "      <th>46</th>\n",
       "      <td>cancer hereditary retinoblastoma</td>\n",
       "      <td>radiotherapy</td>\n",
       "    </tr>\n",
       "    <tr>\n",
       "      <th>71</th>\n",
       "      <td>unstable angina non-Q-wave myocardial infarction</td>\n",
       "      <td>roxithromycin</td>\n",
       "    </tr>\n",
       "    <tr>\n",
       "      <th>73</th>\n",
       "      <td>coronary-artery disease</td>\n",
       "      <td>Antichlamydial antibiotic therapeutic</td>\n",
       "    </tr>\n",
       "    <tr>\n",
       "      <th>155</th>\n",
       "      <td>cellulitis</td>\n",
       "      <td>G-CSF therapy intravenous antibiotic treatment</td>\n",
       "    </tr>\n",
       "    <tr>\n",
       "      <th>157</th>\n",
       "      <td>foot infection diabetic</td>\n",
       "      <td>G-CSF treatment</td>\n",
       "    </tr>\n",
       "    <tr>\n",
       "      <th>...</th>\n",
       "      <td>...</td>\n",
       "      <td>...</td>\n",
       "    </tr>\n",
       "    <tr>\n",
       "      <th>1039</th>\n",
       "      <td>severe secondary peritonitis</td>\n",
       "      <td>Surgical management</td>\n",
       "    </tr>\n",
       "    <tr>\n",
       "      <th>1042</th>\n",
       "      <td>hepatic metastases colorectal cancer</td>\n",
       "      <td>Hepatic arterial infusion chemotherapy resection</td>\n",
       "    </tr>\n",
       "    <tr>\n",
       "      <th>1050</th>\n",
       "      <td>chronic renal failure</td>\n",
       "      <td>Epoetin</td>\n",
       "    </tr>\n",
       "    <tr>\n",
       "      <th>1053</th>\n",
       "      <td>epithelial ovarian cancer</td>\n",
       "      <td>High-dose chemotherapy support</td>\n",
       "    </tr>\n",
       "    <tr>\n",
       "      <th>1054</th>\n",
       "      <td>responsive multiple myeloma</td>\n",
       "      <td>Tandem high-dose chemoradiotherapy support tre...</td>\n",
       "    </tr>\n",
       "  </tbody>\n",
       "</table>\n",
       "<p>122 rows × 2 columns</p>\n",
       "</div>"
      ],
      "text/plain": [
       "                                               Disease  \\\n",
       "46                    cancer hereditary retinoblastoma   \n",
       "71    unstable angina non-Q-wave myocardial infarction   \n",
       "73                             coronary-artery disease   \n",
       "155                                         cellulitis   \n",
       "157                            foot infection diabetic   \n",
       "...                                                ...   \n",
       "1039                      severe secondary peritonitis   \n",
       "1042              hepatic metastases colorectal cancer   \n",
       "1050                             chronic renal failure   \n",
       "1053                         epithelial ovarian cancer   \n",
       "1054                       responsive multiple myeloma   \n",
       "\n",
       "                                              Treatment  \n",
       "46                                         radiotherapy  \n",
       "71                                        roxithromycin  \n",
       "73                Antichlamydial antibiotic therapeutic  \n",
       "155      G-CSF therapy intravenous antibiotic treatment  \n",
       "157                                     G-CSF treatment  \n",
       "...                                                 ...  \n",
       "1039                                Surgical management  \n",
       "1042   Hepatic arterial infusion chemotherapy resection  \n",
       "1050                                            Epoetin  \n",
       "1053                     High-dose chemotherapy support  \n",
       "1054  Tandem high-dose chemoradiotherapy support tre...  \n",
       "\n",
       "[122 rows x 2 columns]"
      ]
     },
     "execution_count": 80,
     "metadata": {},
     "output_type": "execute_result"
    }
   ],
   "source": [
    "test_full_final3 = test_full_final2.drop(['Sentence'], axis=1)\n",
    "test_full_final3['Disease'] = test_full_final3.Disease.apply(lambda x: ' '.join([str(i) for i in x]))\n",
    "test_full_final3['Treatment'] = test_full_final3.Treatment.apply(lambda x: ' '.join([str(i) for i in x]))\n",
    "test_full_final3"
   ]
  },
  {
   "cell_type": "code",
   "execution_count": 81,
   "metadata": {},
   "outputs": [],
   "source": [
    "dictionary = test_full_final3.to_dict('index')"
   ]
  },
  {
   "cell_type": "code",
   "execution_count": 82,
   "metadata": {},
   "outputs": [
    {
     "data": {
      "text/plain": [
       "{46: {'Disease': 'cancer hereditary retinoblastoma',\n",
       "  'Treatment': 'radiotherapy'},\n",
       " 71: {'Disease': 'unstable angina non-Q-wave myocardial infarction',\n",
       "  'Treatment': 'roxithromycin'},\n",
       " 73: {'Disease': 'coronary-artery disease',\n",
       "  'Treatment': 'Antichlamydial antibiotic therapeutic'},\n",
       " 155: {'Disease': 'cellulitis',\n",
       "  'Treatment': 'G-CSF therapy intravenous antibiotic treatment'},\n",
       " 157: {'Disease': 'foot infection diabetic', 'Treatment': 'G-CSF treatment'},\n",
       " 185: {'Disease': \"early Parkinson 's disease\",\n",
       "  'Treatment': 'Ropinirole monotherapy therapeutic treatment'},\n",
       " 210: {'Disease': 'female stress urinary incontinence',\n",
       "  'Treatment': 'surgical treatment'},\n",
       " 212: {'Disease': 'secondary failure stress urinary incontinence',\n",
       "  'Treatment': 'support surgery therapy therapy treatment'},\n",
       " 217: {'Disease': 'preeclampsia proteinuric hypertension',\n",
       "  'Treatment': 'intrauterine insemination donor sperm versus intrauterine insemination sperm'},\n",
       " 241: {'Disease': 'severe common cancer',\n",
       "  'Treatment': 'organ transplantation chemotherapy'},\n",
       " 254: {'Disease': 'major pulmonary embolism',\n",
       "  'Treatment': 'Thrombolytic treatment right-side hemodynamics'},\n",
       " 258: {'Disease': 'malignant pleural mesothelioma',\n",
       "  'Treatment': 'thoracotomy radiotherapy chemotherapy'},\n",
       " 285: {'Disease': 'pulmonary symptoms attributable',\n",
       "  'Treatment': 'chemotherapy'},\n",
       " 297: {'Disease': 'non-obstructive azoospermia',\n",
       "  'Treatment': 'testicular sperm testicular fine needle aspiration TEFNA open biopsy testicular sperm extraction TESE sperm'},\n",
       " 510: {'Disease': 'colorectal cancer', 'Treatment': 'Elective surgery'},\n",
       " 599: {'Disease': 'inflammatory bronchial asthma',\n",
       "  'Treatment': 'Non-steroidal anti-inflammatory therapy'},\n",
       " 628: {'Disease': 'primary stomach lymphoma', 'Treatment': 'therapy'},\n",
       " 635: {'Disease': \"Parkinson 's disease\",\n",
       "  'Treatment': 'Microelectrode-guided posteroventral pallidotomy treatment postoperative'},\n",
       " 639: {'Disease': 'colorectal cancer',\n",
       "  'Treatment': 'potential curative surgery'},\n",
       " 707: {'Disease': 'soft tissue sarcomas', 'Treatment': 'Radiotherapy'},\n",
       " 746: {'Disease': \"Eisenmenger 's syndrome\",\n",
       "  'Treatment': 'laparoscopic cholecystectomy'},\n",
       " 749: {'Disease': 'advanced esophageal cancer',\n",
       "  'Treatment': 'adjuvant chemoradiotherapy CDDP'},\n",
       " 806: {'Disease': 'breast cancer', 'Treatment': 'Hormone replacement therapy'},\n",
       " 809: {'Disease': 'leukemia', 'Treatment': 'Trisomy'},\n",
       " 825: {'Disease': 'malignant tumors such non-small lung cancer',\n",
       "  'Treatment': 'oral administration uft adjuvant therapy surgery'},\n",
       " 826: {'Disease': 'inoperable advanced malignancies such colorectal cancer',\n",
       "  'Treatment': 'uft combination leucovorin cisplatin'},\n",
       " 832: {'Disease': 'acute chronic abdominal pain',\n",
       "  'Treatment': 'thoracic paravertebral block thoracic'},\n",
       " 838: {'Disease': 'inflammatory skin disease',\n",
       "  'Treatment': 'topical corticosteroids treatment'},\n",
       " 840: {'Disease': 'cancer leukemia unresectable stage nsclc',\n",
       "  'Treatment': 'studies involving sequential chemotherapy radiation'},\n",
       " 841: {'Disease': 'nsclc nsclc stage sclc limited disease',\n",
       "  'Treatment': 'got surgical treatment radiotherapy chemo- radiotherapy'},\n",
       " 842: {'Disease': 'nsclc',\n",
       "  'Treatment': 'platinum chemotherapy treatment platinum agent agent combination'},\n",
       " 845: {'Disease': 'locally advanced non-small lung cancer la-nsclc',\n",
       "  'Treatment': 'combined-modality therapy chemotherapy radiotherapy'},\n",
       " 846: {'Disease': 'radiation-induced myelopathy',\n",
       "  'Treatment': 'heparin enoxaparin radiation'},\n",
       " 847: {'Disease': 'early limited stage small lung cancer',\n",
       "  'Treatment': 'combination chemotherapy thoracic irradiation'},\n",
       " 849: {'Disease': 'malignant pleural effusions nsclc',\n",
       "  'Treatment': 'evaluate systemic chemotherapy'},\n",
       " 850: {'Disease': 'small lung cancer', 'Treatment': 'chemotherapy'},\n",
       " 851: {'Disease': 'bronchial intraluminal early stage cancer',\n",
       "  'Treatment': 'photodynamic therapy'},\n",
       " 852: {'Disease': 'pathologic stage non-small lung cancer',\n",
       "  'Treatment': 'postoperative oral administration uft 5-fluorouracil derivative chemotherapeutic agent'},\n",
       " 853: {'Disease': 'supraclavicular node metastases nsclc',\n",
       "  'Treatment': 'chemoradiotherapy'},\n",
       " 854: {'Disease': 'non-small lung cancer nsclc',\n",
       "  'Treatment': 'dose cisplatin radiotherapy'},\n",
       " 858: {'Disease': 'lung carcinoma partial lung',\n",
       "  'Treatment': 'videothoracoscopic lobectomy partial resection open thoracotomy'},\n",
       " 859: {'Disease': 'stage lung carcinoma', 'Treatment': 'curative therapy'},\n",
       " 861: {'Disease': 'single non-sclc breast melanoma renal ovarian carcinoma brain metastasis',\n",
       "  'Treatment': 'single surgical resection'},\n",
       " 862: {'Disease': 'colorectal metastases',\n",
       "  'Treatment': 'therapeutic vats metastasectomy'},\n",
       " 863: {'Disease': 'limited stage small carcinoma lung',\n",
       "  'Treatment': 'combined-modality therapy'},\n",
       " 864: {'Disease': 'brain metastases advanced nsclc',\n",
       "  'Treatment': 'assessing combination chemotherapy cisplatin ifosfamide irinotecan rhg-csf support'},\n",
       " 865: {'Disease': 'metastatic colorectal cancer',\n",
       "  'Treatment': 'intravenous oxaliplatin monotherapy combination agent'},\n",
       " 866: {'Disease': 'platinum-pretreated ovarian cancer',\n",
       "  'Treatment': 'oxaliplatin platinum paclitaxel'},\n",
       " 867: {'Disease': \"non-hodgkin 's lymphoma breast cancer mesothelioma non-small lung cancer\",\n",
       "  'Treatment': 'oxaliplatin'},\n",
       " 868: {'Disease': 'cancer early platinum-pretreated ovarian cancer',\n",
       "  'Treatment': 'oxaliplatin platinum'},\n",
       " 870: {'Disease': 'non-small lung cancer advanced hormone refractory prostate cancer',\n",
       "  'Treatment': 'combination paclitaxel carboplatin combination'},\n",
       " 871: {'Disease': 'primary lung cancer adenocarcinoma squamous carcinoma',\n",
       "  'Treatment': 'resection'},\n",
       " 872: {'Disease': 'stage nsclc',\n",
       "  'Treatment': 'chemotherapy surgery irradiation'},\n",
       " 873: {'Disease': 'small lung cancer',\n",
       "  'Treatment': 'prophylactic cranial irradiation prolongs'},\n",
       " 874: {'Disease': 'small lung cancer',\n",
       "  'Treatment': 'combination chemotherapy treatment'},\n",
       " 875: {'Disease': 'symptomatic metastases brain', 'Treatment': 'radiotherapy'},\n",
       " 878: {'Disease': 'primary cancer lung primary',\n",
       "  'Treatment': 'adjuvant radiation therapy'},\n",
       " 879: {'Disease': 'nsclc',\n",
       "  'Treatment': 'evaluate planned sequential chemotherapy'},\n",
       " 880: {'Disease': 'advanced small lung cancer',\n",
       "  'Treatment': 'paclitaxel plus carboplatin pc vinorelbine plus cisplatin vc'},\n",
       " 882: {'Disease': 'sclc limited disease extensive disease',\n",
       "  'Treatment': 'platinum dose cisplatin plus carboplatin combination chemotherapy combination therapy carboplatin alone treatment treatment'},\n",
       " 883: {'Disease': 'untreated small lung cancer sclc untreated sclc',\n",
       "  'Treatment': 'chemotherapy'},\n",
       " 885: {'Disease': 'neutropenia cancer',\n",
       "  'Treatment': 'studies recombinant rhg-csf open chemotherapy'},\n",
       " 887: {'Disease': 'head neck cancer acute xerostomia',\n",
       "  'Treatment': 'irradiation therapy dose treatment intravenous amifostine'},\n",
       " 894: {'Disease': 'disseminated malignant melanoma',\n",
       "  'Treatment': 'weekly injection leukocyte recombinant interferon rIFN-alpha Roferon-A Hoffmann La Roche dose agent'},\n",
       " 895: {'Disease': 'advanced stage TNM IIB-IVB mycosis fungoides',\n",
       "  'Treatment': 'combination chemotherapy program consisting bleomycin methotrexate weekly doxorubicin topical'},\n",
       " 896: {'Disease': 'ventricular tachycardia',\n",
       "  'Treatment': 'Guiding surgical therapy'},\n",
       " 899: {'Disease': 'cholestasis', 'Treatment': 'consisting crude drugs'},\n",
       " 901: {'Disease': 'spinal adhesive arachnoiditis',\n",
       "  'Treatment': 'Surgical management'},\n",
       " 903: {'Disease': 'bronchiectasis',\n",
       "  'Treatment': 'support treatment antibiotic surgery'},\n",
       " 907: {'Disease': 'biliary dyskinesia',\n",
       "  'Treatment': 'Cholecystectomy first-line therapy'},\n",
       " 908: {'Disease': 'symptoms common cold',\n",
       "  'Treatment': 'pseudoephedrine plus acetaminophen treatment'},\n",
       " 920: {'Disease': 'symptoms common cold', 'Treatment': 'Macrolide antibiotic'},\n",
       " 921: {'Disease': 'symptoms rhinovirus cold inflammatory infection symptomatic inflammatory rhinovirus',\n",
       "  'Treatment': 'treatment clarithromycin'},\n",
       " 928: {'Disease': 'infection',\n",
       "  'Treatment': 'combination omeprazole amoxicillin clarithromycin'},\n",
       " 930: {'Disease': 'Contemporary asthma persistent asthma',\n",
       "  'Treatment': 'management guidelines list inhaled corticosteroids'},\n",
       " 931: {'Disease': 'asthma',\n",
       "  'Treatment': 'Fluticasone propionate several inhaled corticosteroids treatment'},\n",
       " 932: {'Disease': 'chronic hepatitis',\n",
       "  'Treatment': 'Combination therapy interferon alpha IFN alpha plus Ribavirin IFN alpha alone'},\n",
       " 933: {'Disease': 'hepatitis viremia',\n",
       "  'Treatment': 'Ribavirin treatment combination therapy'},\n",
       " 936: {'Disease': 'severe hypoxemia',\n",
       "  'Treatment': 'glucocorticoid pulse therapy'},\n",
       " 944: {'Disease': 'primary sclerosing cholangitis PSC',\n",
       "  'Treatment': 'evaluate oral budesonide'},\n",
       " 947: {'Disease': 'acute myocardial infarction',\n",
       "  'Treatment': 'Thrombolytic therapy treatment'},\n",
       " 949: {'Disease': \"'s breast breast cancer\",\n",
       "  'Treatment': 'undergone subcutaneous mastectomy'},\n",
       " 952: {'Disease': 'cancer cancer primary cancer metastatic',\n",
       "  'Treatment': 'Immunotherapy preparations'},\n",
       " 955: {'Disease': 'acute occlusion middle cerebral artery early artery high-grade stenosis',\n",
       "  'Treatment': 'thrombolytic therapy'},\n",
       " 958: {'Disease': 'benign prostatic hyperplasia',\n",
       "  'Treatment': 'treatment conservative pharmacological treatment'},\n",
       " 960: {'Disease': 'inflammatory autoimmune disease',\n",
       "  'Treatment': 'High-dose intravenous immunoglobulin hdIVIg'},\n",
       " 963: {'Disease': 'cancer',\n",
       "  'Treatment': 'oral drugs chemotherapy therapeutic'},\n",
       " 965: {'Disease': 'large-bowel cancer', 'Treatment': 'oral UFT oral LV dose'},\n",
       " 967: {'Disease': 'renal phaeochromocytoma',\n",
       "  'Treatment': 'Adrenalectomy treatment'},\n",
       " 968: {'Disease': 'single malignant melanoma',\n",
       "  'Treatment': 'single agent therapy interferon alfa-2a'},\n",
       " 969: {'Disease': 'advanced renal carcinoma',\n",
       "  'Treatment': 'various interferon alpha preparations interferon leukocyte interferon alfa-N1 interferon alfa-2a interferon'},\n",
       " 970: {'Disease': 'hairy leukemia infection',\n",
       "  'Treatment': 'antileukemic therapy potential'},\n",
       " 971: {'Disease': \"low-grade non-Hodgkin 's lymphoma\",\n",
       "  'Treatment': 'interferon alpha'},\n",
       " 975: {'Disease': 'partial seizures',\n",
       "  'Treatment': 'evaluate lamotrigine LTG monotherapy partial'},\n",
       " 977: {'Disease': 'esophageal achalasia',\n",
       "  'Treatment': 'management treatment botulinum toxin injection pneumatic dilation laparoscopic myotomy'},\n",
       " 980: {'Disease': 'hypospadias proximal hypospadias',\n",
       "  'Treatment': 'Tubularized incised plate hypospadias repair hypospadias'},\n",
       " 981: {'Disease': 'prostate prostate cancer',\n",
       "  'Treatment': 'radical prostatectomy iodine 125 interstitial radiotherapy treatment'},\n",
       " 987: {'Disease': 'mitomycin-resistant bladder cancer',\n",
       "  'Treatment': 'photodynamic therapy combination mitomycin mitomycin'},\n",
       " 988: {'Disease': 'B16 melanoma',\n",
       "  'Treatment': 'treatment treatment buthionine sulfoximine'},\n",
       " 989: {'Disease': 'primary uveal melanoma',\n",
       "  'Treatment': 'transpupillary thermotherapy'},\n",
       " 990: {'Disease': 'advanced rectal cancer',\n",
       "  'Treatment': 'Nerve-sparing surgery'},\n",
       " 991: {'Disease': 'bronchiectasis', 'Treatment': 'Current surgical therapy'},\n",
       " 997: {'Disease': 'acute cerebral ischemia',\n",
       "  'Treatment': 'Antiplatelet therapy'},\n",
       " 999: {'Disease': 'renal carcinoma', 'Treatment': 'Interferon treatment'},\n",
       " 1001: {'Disease': 'partial seizures',\n",
       "  'Treatment': 'lamotrigine monotherapy partial'},\n",
       " 1002: {'Disease': 'myocardial angiogenesis', 'Treatment': 'Gene therapy'},\n",
       " 1006: {'Disease': 'autoimmune hemolytic anemia',\n",
       "  'Treatment': 'treatment heparin'},\n",
       " 1009: {'Disease': 'epithelial ovarian cancer disease',\n",
       "  'Treatment': 'chemotherapy'},\n",
       " 1018: {'Disease': 'moderately symptomatic benign prostatic hyperplasia',\n",
       "  'Treatment': 'surgical resection'},\n",
       " 1020: {'Disease': 'multiple sclerosis',\n",
       "  'Treatment': 'Interferon beta treatment'},\n",
       " 1021: {'Disease': 'multiple sclerosis',\n",
       "  'Treatment': 'Intravenous immunoglobulin treatment'},\n",
       " 1024: {'Disease': 'acoustic neuroma',\n",
       "  'Treatment': 'Stereotactic radiosurgery'},\n",
       " 1026: {'Disease': 'cerebral palsy', 'Treatment': 'Hyperbaric oxygen therapy'},\n",
       " 1027: {'Disease': 'postvitrectomy diabetic vitreous hemorrhage',\n",
       "  'Treatment': 'Peripheral retinal cryotherapy'},\n",
       " 1030: {'Disease': 'hepatitis',\n",
       "  'Treatment': 'vaccine containing MF59 adjuvant'},\n",
       " 1036: {'Disease': 'temporomandibular joint arthropathy',\n",
       "  'Treatment': 'arthroscopic treatment'},\n",
       " 1038: {'Disease': 'myocardial infarction', 'Treatment': 'surgery'},\n",
       " 1039: {'Disease': 'severe secondary peritonitis',\n",
       "  'Treatment': 'Surgical management'},\n",
       " 1042: {'Disease': 'hepatic metastases colorectal cancer',\n",
       "  'Treatment': 'Hepatic arterial infusion chemotherapy resection'},\n",
       " 1050: {'Disease': 'chronic renal failure', 'Treatment': 'Epoetin'},\n",
       " 1053: {'Disease': 'epithelial ovarian cancer',\n",
       "  'Treatment': 'High-dose chemotherapy support'},\n",
       " 1054: {'Disease': 'responsive multiple myeloma',\n",
       "  'Treatment': 'Tandem high-dose chemoradiotherapy support treatment'}}"
      ]
     },
     "execution_count": 82,
     "metadata": {},
     "output_type": "execute_result"
    }
   ],
   "source": [
    "dictionary"
   ]
  },
  {
   "cell_type": "markdown",
   "metadata": {},
   "source": [
    "#### Alternative Method"
   ]
  },
  {
   "cell_type": "code",
   "execution_count": 83,
   "metadata": {
    "scrolled": true
   },
   "outputs": [
    {
     "data": {
      "text/plain": [
       "{'hereditary retinoblastoma': 'radiotherapy',\n",
       " 'unstable angina or non-Q-wave myocardial infarction': 'roxithromycin',\n",
       " 'coronary-artery disease': 'Antichlamydial antibiotics',\n",
       " 'cellulitis': 'G-CSF therapy, intravenous antibiotic treatment',\n",
       " 'foot infection': 'G-CSF treatment',\n",
       " \"early Parkinson 's disease\": 'Ropinirole monotherapy',\n",
       " 'female stress urinary incontinence': 'surgical treatment',\n",
       " 'stress urinary incontinence': 'therapy',\n",
       " 'preeclampsia ( proteinuric hypertension )': 'intrauterine insemination with donor sperm versus intrauterine insemination',\n",
       " 'cancer': 'oral drugs, chemotherapy',\n",
       " 'major pulmonary embolism': 'Thrombolytic treatment, right-side hemodynamics',\n",
       " 'malignant pleural mesothelioma': 'thoracotomy , radiotherapy , and chemotherapy',\n",
       " 'pulmonary symptoms attributable': 'chemotherapy',\n",
       " 'non-obstructive azoospermia': 'testicular fine needle aspiration ( TEFNA ), open biopsy and testicular sperm extraction ( TESE )',\n",
       " 'colorectal cancer': 'potential curative surgery',\n",
       " 'bronchial asthma': 'Non-steroidal anti-inflammatory therapy',\n",
       " 'primary stomach lymphoma': 'therapy',\n",
       " \"Parkinson 's disease\": 'Microelectrode-guided posteroventral pallidotomy',\n",
       " 'soft tissue sarcomas': 'Radiotherapy',\n",
       " \"Eisenmenger 's syndrome\": 'laparoscopic cholecystectomy',\n",
       " 'advanced esophageal cancer': 'adjuvant chemoradiotherapy with CDDP',\n",
       " 'breast cancer': 'undergone subcutaneous mastectomy',\n",
       " 'leukemia': 'Trisomy',\n",
       " 'malignant tumors such as non-small cell lung cancer': 'surgery',\n",
       " 'inoperable advanced malignancies such as colorectal cancer': 'combination with leucovorin or cisplatin',\n",
       " 'abdominal pain': 'thoracic paravertebral block',\n",
       " 'inflammatory skin diseases': 'topical corticosteroids',\n",
       " 'unresectable stage iii nsclc': 'studies involving sequential chemotherapy',\n",
       " 'nsclc, nsclc ( stage iiib ), sclc': 'got surgical treatment, chemo- and radiotherapy',\n",
       " 'nsclc': 'evaluate planned sequential chemotherapy',\n",
       " 'locally advanced non-small-cell lung cancer ( la-nsclc )': 'chemotherapy and radiotherapy )',\n",
       " 'radiation-induced myelopathy': 'heparin and enoxaparin',\n",
       " 'limited stage small cell lung cancer': 'vip combination chemotherapy',\n",
       " 'malignant pleural effusions from nsclc': 'systemic chemotherapy',\n",
       " 'small-cell lung cancer': 'paclitaxel plus carboplatin ( pc ), vinorelbine plus cisplatin ( vc )',\n",
       " 'intraluminal early-stage cancer': 'photodynamic therapy',\n",
       " 'pathologic stage i non-small cell lung cancer': 'postoperative oral administration of uft , a 5-fluorouracil derivative chemotherapeutic agent',\n",
       " 'supraclavicular node metastases in nsclc': 'chemoradiotherapy',\n",
       " 'non-small-cell-lung-cancer ( nsclc )': 'cisplatin and radiotherapy',\n",
       " 'lung carcinoma': 'videothoracoscopic lobectomy or partial resection, open thoracotomy',\n",
       " 'stage 0 lung carcinoma': 'curative therapy',\n",
       " 'single non-sclc, melanoma, ovarian carcinoma brain metastasis': 'surgical resection',\n",
       " 'colorectal metastases': 'therapeutic vats metastasectomy',\n",
       " 'limited-stage small-cell carcinoma': 'combined-modality therapy',\n",
       " 'advanced nsclc': 'assessing combination chemotherapy of cisplatin , ifosfamide and irinotecan with rhg-csf support',\n",
       " 'metastatic colorectal cancer': 'intravenous oxaliplatin',\n",
       " 'platinum-pretreated ovarian cancer': 'oxaliplatin',\n",
       " \"non-hodgkin 's lymphoma , breast cancer, mesothelioma and non-small cell lung cancer\": 'oxaliplatin',\n",
       " 'non-small cell lung cancer, advanced hormone refractory prostate cancer': 'combination with paclitaxel and carboplatin',\n",
       " 'primary lung cancer, adenocarcinoma, squamous cell carcinoma': 'resection',\n",
       " 'stage iii nsclc': 'chemotherapy',\n",
       " 'small cell lung cancer': 'prophylactic cranial irradiation prolongs',\n",
       " 'symptomatic metastases': 'radiotherapy',\n",
       " 'primary cancer': 'Immunotherapy',\n",
       " 'sclc, extensive disease': 'platinum dose ( cisplatin plus carboplatin ) in combination chemotherapy, combination therapy with carboplatin alone',\n",
       " 'untreated small cell lung cancer ( sclc ), untreated sclc': 'chemotherapy',\n",
       " 'neutropenia': 'cancer chemotherapy',\n",
       " 'head and neck cancer, xerostomia': 'irradiation therapy, intravenous amifostine',\n",
       " 'disseminated malignant melanoma': 'leukocyte A recombinant interferon ( rIFN-alpha A , Roferon-A , Hoffmann La Roche )',\n",
       " 'advanced stage ( TNM IIB-IVB ) mycosis fungoides': 'a combination chemotherapy program consisting of bleomycin and methotrexate weekly , doxorubicin',\n",
       " 'ventricular tachycardia': 'Guiding surgical therapy',\n",
       " 'cholestasis': 'crude drugs',\n",
       " 'spinal adhesive arachnoiditis': 'Surgical management',\n",
       " 'bronchiectasis': 'Current surgical therapy',\n",
       " 'biliary dyskinesia': 'Cholecystectomy, first-line therapy',\n",
       " 'the common cold': 'pseudoephedrine plus acetaminophen',\n",
       " 'symptoms of a common cold': 'Macrolide antibiotics',\n",
       " 'rhinovirus': 'clarithromycin',\n",
       " 'infection': 'a combination of omeprazole , amoxicillin , and clarithromycin',\n",
       " 'Contemporary asthma, persistent asthma': 'management guidelines list inhaled corticosteroids',\n",
       " 'asthma': 'Fluticasone propionate, several inhaled corticosteroids',\n",
       " 'chronic hepatitis C': 'Combination therapy with interferon-alpha ( IFN alpha ) plus Ribavirin',\n",
       " 'hepatitis C viremia': 'combination therapy',\n",
       " 'severe hypoxemia': 'glucocorticoid pulse therapy',\n",
       " 'primary sclerosing cholangitis ( PSC )': 'oral budesonide',\n",
       " 'acute myocardial infarction': 'Thrombolytic therapy',\n",
       " 'acute occlusion of the middle cerebral artery, high-grade stenosis': 'thrombolytic therapy',\n",
       " 'benign prostatic hyperplasia': 'conservative pharmacological treatment',\n",
       " 'autoimmune diseases': 'High-dose intravenous immunoglobulin ( hdIVIg )',\n",
       " 'large-bowel cancer': 'oral UFT, oral LV',\n",
       " 'phaeochromocytoma': 'Adrenalectomy',\n",
       " 'malignant melanoma': 'single agent therapy, interferon alfa-2a',\n",
       " 'advanced renal cell carcinoma': 'various interferon alpha preparations, interferon alfa-N1 , interferon alfa-2a',\n",
       " 'hairy cell leukemia, infection': 'antileukemic therapy',\n",
       " \"low-grade non-Hodgkin 's lymphoma\": 'interferon alpha',\n",
       " 'partial seizures': 'lamotrigine monotherapy',\n",
       " 'esophageal achalasia': 'botulinum toxin injection , pneumatic dilation , and laparoscopic myotomy',\n",
       " 'proximal hypospadias': 'Tubularized incised plate hypospadias repair',\n",
       " 'prostate cancer': 'radical prostatectomy and iodine 125 interstitial radiotherapy',\n",
       " 'mitomycin-resistant bladder cancer': 'photodynamic therapy in combination with mitomycin C',\n",
       " 'B16 melanoma': 'buthionine sulfoximine',\n",
       " 'primary uveal melanoma': 'transpupillary thermotherapy',\n",
       " 'advanced rectal cancer': 'Nerve-sparing surgery',\n",
       " 'acute cerebral ischemia': 'Antiplatelet therapy',\n",
       " 'renal cell carcinoma': 'Interferon treatment',\n",
       " 'myocardial angiogenesis': 'Gene therapy',\n",
       " 'autoimmune hemolytic anemia': 'heparin',\n",
       " 'epithelial ovarian cancer': 'High-dose chemotherapy',\n",
       " 'moderately symptomatic benign prostatic hyperplasia': 'surgical resection',\n",
       " 'multiple sclerosis': 'Intravenous immunoglobulin treatment',\n",
       " 'acoustic neuroma': 'Stereotactic radiosurgery',\n",
       " 'cerebral palsy': 'Hyperbaric oxygen therapy',\n",
       " 'postvitrectomy diabetic vitreous hemorrhage': 'Peripheral retinal cryotherapy',\n",
       " 'hepatitis B': 'vaccine containing MF59 adjuvant',\n",
       " 'temporomandibular joint arthropathy': 'arthroscopic treatment',\n",
       " 'myocardial infarction': 'vascular surgery',\n",
       " 'severe secondary peritonitis': 'Surgical management',\n",
       " 'hepatic metastases from colorectal cancer': 'Hepatic arterial infusion of chemotherapy',\n",
       " 'chronic renal failure': 'Epoetin',\n",
       " 'responsive multiple myeloma': \"`` Tandem '' high-dose chemoradiotherapy\"}"
      ]
     },
     "execution_count": 83,
     "metadata": {},
     "output_type": "execute_result"
    }
   ],
   "source": [
    "dict={}\n",
    "for count, labels in enumerate(Y_pred): # we are taking the Y-pred labels and count will have the record ID\n",
    "    temp=\"\".join(labels) # removing the spaces between the lablels\n",
    "    #print(count, temp)\n",
    "    totalD=len(re.findall('D',temp)) # find number of 'D' in the sentence\n",
    "    totalT=len(re.findall('T',temp)) # find number of 'T' in the sentence\n",
    "    if totalD>0 and totalT>0: # this means that the sentence has disease and treatment\n",
    "        indexD=[];indexT=[];start_from=0 # Initializing variables used\n",
    "        for i in range(totalD):\n",
    "            foundat=temp.find('D',start_from) # search for 'D' from start_from in the labels\n",
    "            indexD.append(foundat) # put the foundat index in a list called indexD\n",
    "            start_from=foundat+1 # re-initialize start_from from the next word\n",
    "        start_from=0 # initialize the same variable for 'T' labels now\n",
    "        for i in range(totalT):\n",
    "            foundat=temp.find('T',start_from) # search for 'T' from start_from in the labels\n",
    "            indexT.append(foundat) # put the foundat index in a list called indexT\n",
    "            start_from=foundat+1 # re-initialize start_from from the next word\n",
    "        disease='' # Initialize the string disease with empty string\n",
    "        for i in indexD: # Looping through the indexes where 'D' is located\n",
    "            disease=disease+final_test_sent[count].split()[i] # we are taking i-th word of the count which is index of sentence\n",
    "            if i+1 not in indexD: # Check condition if the next word is also in the list\n",
    "                disease=disease+', ' # this will be executed for a new disease\n",
    "            else:\n",
    "                disease=disease+' ' # this will be executed for continuation of disease name\n",
    "        treatment='' # Initialize the string treatment with empty string\n",
    "        for i in indexT: # Looping through the indexes where 'D' is located\n",
    "            treatment=treatment+final_test_sent[count].split()[i] # we are taking i-th word of the count which is index of sentence\n",
    "            if i+1 not in indexT: # Check condition if the next word is also in the list\n",
    "                treatment=treatment+', ' # this will be executed for a new treatment\n",
    "            else:\n",
    "                treatment=treatment+' ' # this will be executed for continuation of treatment\n",
    "        # finally entering the disease and treatment in the dictionary after removing the last comma and space character\n",
    "        dict[disease.rstrip(', ')]=treatment.rstrip(', ') \n",
    "            \n",
    "dict"
   ]
  },
  {
   "cell_type": "code",
   "execution_count": 84,
   "metadata": {},
   "outputs": [
    {
     "data": {
      "text/html": [
       "<div>\n",
       "<style scoped>\n",
       "    .dataframe tbody tr th:only-of-type {\n",
       "        vertical-align: middle;\n",
       "    }\n",
       "\n",
       "    .dataframe tbody tr th {\n",
       "        vertical-align: top;\n",
       "    }\n",
       "\n",
       "    .dataframe thead th {\n",
       "        text-align: right;\n",
       "    }\n",
       "</style>\n",
       "<table border=\"1\" class=\"dataframe\">\n",
       "  <thead>\n",
       "    <tr style=\"text-align: right;\">\n",
       "      <th></th>\n",
       "      <th>Disease</th>\n",
       "      <th>Treatment</th>\n",
       "    </tr>\n",
       "  </thead>\n",
       "  <tbody>\n",
       "    <tr>\n",
       "      <th>0</th>\n",
       "      <td>hereditary retinoblastoma</td>\n",
       "      <td>radiotherapy</td>\n",
       "    </tr>\n",
       "    <tr>\n",
       "      <th>1</th>\n",
       "      <td>unstable angina or non-Q-wave myocardial infar...</td>\n",
       "      <td>roxithromycin</td>\n",
       "    </tr>\n",
       "    <tr>\n",
       "      <th>2</th>\n",
       "      <td>coronary-artery disease</td>\n",
       "      <td>Antichlamydial antibiotics</td>\n",
       "    </tr>\n",
       "    <tr>\n",
       "      <th>3</th>\n",
       "      <td>cellulitis</td>\n",
       "      <td>G-CSF therapy, intravenous antibiotic treatment</td>\n",
       "    </tr>\n",
       "    <tr>\n",
       "      <th>4</th>\n",
       "      <td>foot infection</td>\n",
       "      <td>G-CSF treatment</td>\n",
       "    </tr>\n",
       "    <tr>\n",
       "      <th>5</th>\n",
       "      <td>early Parkinson 's disease</td>\n",
       "      <td>Ropinirole monotherapy</td>\n",
       "    </tr>\n",
       "    <tr>\n",
       "      <th>6</th>\n",
       "      <td>female stress urinary incontinence</td>\n",
       "      <td>surgical treatment</td>\n",
       "    </tr>\n",
       "    <tr>\n",
       "      <th>7</th>\n",
       "      <td>stress urinary incontinence</td>\n",
       "      <td>therapy</td>\n",
       "    </tr>\n",
       "    <tr>\n",
       "      <th>8</th>\n",
       "      <td>preeclampsia ( proteinuric hypertension )</td>\n",
       "      <td>intrauterine insemination with donor sperm ver...</td>\n",
       "    </tr>\n",
       "    <tr>\n",
       "      <th>9</th>\n",
       "      <td>cancer</td>\n",
       "      <td>oral drugs, chemotherapy</td>\n",
       "    </tr>\n",
       "  </tbody>\n",
       "</table>\n",
       "</div>"
      ],
      "text/plain": [
       "                                             Disease  \\\n",
       "0                          hereditary retinoblastoma   \n",
       "1  unstable angina or non-Q-wave myocardial infar...   \n",
       "2                            coronary-artery disease   \n",
       "3                                         cellulitis   \n",
       "4                                     foot infection   \n",
       "5                         early Parkinson 's disease   \n",
       "6                 female stress urinary incontinence   \n",
       "7                        stress urinary incontinence   \n",
       "8          preeclampsia ( proteinuric hypertension )   \n",
       "9                                             cancer   \n",
       "\n",
       "                                           Treatment  \n",
       "0                                       radiotherapy  \n",
       "1                                      roxithromycin  \n",
       "2                         Antichlamydial antibiotics  \n",
       "3    G-CSF therapy, intravenous antibiotic treatment  \n",
       "4                                    G-CSF treatment  \n",
       "5                             Ropinirole monotherapy  \n",
       "6                                 surgical treatment  \n",
       "7                                            therapy  \n",
       "8  intrauterine insemination with donor sperm ver...  \n",
       "9                           oral drugs, chemotherapy  "
      ]
     },
     "execution_count": 84,
     "metadata": {},
     "output_type": "execute_result"
    }
   ],
   "source": [
    "dff=pd.DataFrame(dict.items(),columns=['Disease','Treatment'])\n",
    "dff.head(10)"
   ]
  },
  {
   "cell_type": "markdown",
   "metadata": {
    "id": "TvTodSY5OfZ9"
   },
   "source": [
    "### Predict the treatment for the disease name: 'hereditary retinoblastoma'"
   ]
  },
  {
   "cell_type": "code",
   "execution_count": 85,
   "metadata": {
    "id": "w_TonOcVAG1P"
   },
   "outputs": [],
   "source": [
    "hr = dff.loc[dff['Disease'].str.contains('hereditary retinoblastoma', case=False)]"
   ]
  },
  {
   "cell_type": "code",
   "execution_count": 86,
   "metadata": {
    "id": "YeNQRLrIYRay"
   },
   "outputs": [
    {
     "data": {
      "text/html": [
       "<div>\n",
       "<style scoped>\n",
       "    .dataframe tbody tr th:only-of-type {\n",
       "        vertical-align: middle;\n",
       "    }\n",
       "\n",
       "    .dataframe tbody tr th {\n",
       "        vertical-align: top;\n",
       "    }\n",
       "\n",
       "    .dataframe thead th {\n",
       "        text-align: right;\n",
       "    }\n",
       "</style>\n",
       "<table border=\"1\" class=\"dataframe\">\n",
       "  <thead>\n",
       "    <tr style=\"text-align: right;\">\n",
       "      <th></th>\n",
       "      <th>Disease</th>\n",
       "      <th>Treatment</th>\n",
       "    </tr>\n",
       "  </thead>\n",
       "  <tbody>\n",
       "    <tr>\n",
       "      <th>0</th>\n",
       "      <td>hereditary retinoblastoma</td>\n",
       "      <td>radiotherapy</td>\n",
       "    </tr>\n",
       "  </tbody>\n",
       "</table>\n",
       "</div>"
      ],
      "text/plain": [
       "                     Disease     Treatment\n",
       "0  hereditary retinoblastoma  radiotherapy"
      ]
     },
     "execution_count": 86,
     "metadata": {},
     "output_type": "execute_result"
    }
   ],
   "source": [
    "hr"
   ]
  },
  {
   "cell_type": "code",
   "execution_count": 87,
   "metadata": {},
   "outputs": [
    {
     "name": "stdout",
     "output_type": "stream",
     "text": [
      "Sentence: < TO_SEE > CONTEXT : There is a substantial risk of a second cancer for persons with hereditary retinoblastoma , which is enhanced by radiotherapy\n",
      "Orig Labels: ['O', 'O', 'O', 'O', 'O', 'O', 'O', 'O', 'O', 'O', 'O', 'O', 'O', 'O', 'O', 'O', 'O', 'O', 'O', 'O', 'O', 'O', 'O', 'O', 'O']\n",
      "Pred Labels: ['O', 'O', 'O', 'O', 'O', 'O', 'O', 'O', 'O', 'O', 'O', 'O', 'O', 'O', 'O', 'O', 'O', 'D', 'D', 'O', 'O', 'O', 'O', 'O', 'T']\n"
     ]
    }
   ],
   "source": [
    "id = 46\n",
    "print(\"Sentence:\",final_test_sent[id])\n",
    "print(\"Orig Labels:\", Y_test[id])\n",
    "print(\"Pred Labels:\", Y_pred[id])"
   ]
  },
  {
   "cell_type": "markdown",
   "metadata": {},
   "source": [
    "### According to the Prediction Radiotherapy is the treatment for 'hereditary retinoblastoma'"
   ]
  }
 ],
 "metadata": {
  "colab": {
   "collapsed_sections": [],
   "name": "Assignment.ipynb",
   "provenance": []
  },
  "kernelspec": {
   "display_name": "Python 3",
   "language": "python",
   "name": "python3"
  },
  "language_info": {
   "codemirror_mode": {
    "name": "ipython",
    "version": 3
   },
   "file_extension": ".py",
   "mimetype": "text/x-python",
   "name": "python",
   "nbconvert_exporter": "python",
   "pygments_lexer": "ipython3",
   "version": "3.8.5"
  }
 },
 "nbformat": 4,
 "nbformat_minor": 1
}
